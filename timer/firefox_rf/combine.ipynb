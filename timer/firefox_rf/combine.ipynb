{
 "cells": [
  {
   "cell_type": "code",
   "execution_count": 1,
   "metadata": {},
   "outputs": [],
   "source": [
    "# imports and config\n",
    "import pandas as pd\n"
   ]
  },
  {
   "cell_type": "code",
   "execution_count": 2,
   "metadata": {},
   "outputs": [],
   "source": [
    "### unisolated\n",
    "\n",
    "unisolated_resist = pd.read_csv('./unisolated_privacy.resistFingerprinting_true.csv')['distance'].to_list()\n",
    "assert len(unisolated_resist) == 1010\n",
    "\n",
    "unisolated_resist_20000 = pd.read_csv('./unisolated_privacy.resistFingerprinting_true_20000.csv')['distance'].to_list()\n",
    "assert len(unisolated_resist_20000) == 1010\n",
    "\n",
    "unisolated_resist_33333 = pd.read_csv('./unisolated_privacy.resistFingerprinting_true_33333.csv')['distance'].to_list()\n",
    "assert len(unisolated_resist_33333) == 1010\n",
    "\n",
    "unisolated_resist_40000 = pd.read_csv('./unisolated_privacy.resistFingerprinting_true_40000.csv')['distance'].to_list()\n",
    "assert len(unisolated_resist_40000) == 1010\n",
    "\n",
    "unisolated_resist_60000 = pd.read_csv('./unisolated_privacy.resistFingerprinting_true_60000.csv')['distance'].to_list()\n",
    "assert len(unisolated_resist_60000) == 1010\n",
    "\n",
    "unisolated_resist_80000 = pd.read_csv('./unisolated_privacy.resistFingerprinting_true_80000.csv')['distance'].to_list()\n",
    "assert len(unisolated_resist_80000) == 1010\n",
    "\n",
    "unisolated_resist_100000 = pd.read_csv('./unisolated_privacy.resistFingerprinting_true_100000.csv')['distance'].to_list()\n",
    "assert len(unisolated_resist_100000) == 1010\n",
    "\n",
    "unisolated_resist_120000 = pd.read_csv('./unisolated_privacy.resistFingerprinting_true_120000.csv')['distance'].to_list()\n",
    "assert len(unisolated_resist_120000) == 1010\n",
    "\n",
    "unisolated_resist_140000 = pd.read_csv('./unisolated_privacy.resistFingerprinting_true_140000.csv')['distance'].to_list()\n",
    "assert len(unisolated_resist_140000) == 1010\n",
    "\n",
    "unisolated_resist_160000 = pd.read_csv('./unisolated_privacy.resistFingerprinting_true_160000.csv')['distance'].to_list()\n",
    "assert len(unisolated_resist_160000) == 1010\n",
    "\n",
    "unisolated_resist_180000 = pd.read_csv('./unisolated_privacy.resistFingerprinting_true_180000.csv')['distance'].to_list()\n",
    "assert len(unisolated_resist_180000) == 1010\n",
    "\n",
    "unisolated_resist_200000 = pd.read_csv('./unisolated_privacy.resistFingerprinting_true_200000.csv')['distance'].to_list()\n",
    "assert len(unisolated_resist_200000) == 1010"
   ]
  },
  {
   "cell_type": "code",
   "execution_count": 3,
   "metadata": {},
   "outputs": [],
   "source": [
    "# combine into one dataset\n",
    "complete = pd.DataFrame({\n",
    "    'unisolated_resist':      unisolated_resist,\n",
    "    'unisolated_resist_20ms': unisolated_resist_20000,\n",
    "    'unisolated_resist_33ms': unisolated_resist_33333,\n",
    "    'unisolated_resist_40ms': unisolated_resist_40000,\n",
    "    'unisolated_resist_60ms': unisolated_resist_60000,\n",
    "    'unisolated_resist_80ms': unisolated_resist_80000,\n",
    "    'unisolated_resist_100ms': unisolated_resist_100000,\n",
    "    'unisolated_resist_120ms': unisolated_resist_120000,\n",
    "    'unisolated_resist_140ms': unisolated_resist_140000,\n",
    "    'unisolated_resist_160ms': unisolated_resist_160000,\n",
    "    'unisolated_resist_180ms': unisolated_resist_180000,\n",
    "    'unisolated_resist_200ms': unisolated_resist_200000,\n",
    "})\n",
    "\n",
    "complete.to_csv(\"./complete.csv\", index=False)"
   ]
  }
 ],
 "metadata": {
  "kernelspec": {
   "display_name": "Python 3",
   "language": "python",
   "name": "python3"
  },
  "language_info": {
   "codemirror_mode": {
    "name": "ipython",
    "version": 3
   },
   "file_extension": ".py",
   "mimetype": "text/x-python",
   "name": "python",
   "nbconvert_exporter": "python",
   "pygments_lexer": "ipython3",
   "version": "3.11.4"
  },
  "orig_nbformat": 4
 },
 "nbformat": 4,
 "nbformat_minor": 2
}
