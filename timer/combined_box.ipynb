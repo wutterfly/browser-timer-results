{
 "cells": [
  {
   "cell_type": "code",
   "execution_count": null,
   "metadata": {},
   "outputs": [],
   "source": [
    "# imports/config\n",
    "import pandas as pd\n",
    "import numpy as np\n",
    "import matplotlib.pyplot as plt\n",
    "from matplotlib.patches import Rectangle\n",
    "\n",
    "from math import floor, ceil\n",
    "\n",
    "plt.rcParams['figure.figsize'] = [25, 15]"
   ]
  },
  {
   "cell_type": "code",
   "execution_count": null,
   "metadata": {},
   "outputs": [],
   "source": [
    "chrome_data_set = pd.read_csv(\n",
    "    \"./chrome/complete.csv\", skiprows=[1, 2, 3, 4, 5, 6, 7, 8, 9, 10])"
   ]
  },
  {
   "cell_type": "code",
   "execution_count": null,
   "metadata": {},
   "outputs": [],
   "source": [
    "# Initialise the subplot function using number of rows and columns\n",
    "figure, axis = plt.subplots(6, 1)\n",
    "\n",
    "\n",
    "axis[0].boxplot(chrome_data_set['browser_isolated'], showfliers=False)\n",
    "axis[0].boxplot(chrome_data_set['browser_unisolated'], showfliers=False)\n",
    "\n",
    "plt.tight_layout()\n",
    "plt.savefig(\"./combined_box.jpeg\", bbox_inches=\"tight\", pad_inches=0.3,)\n",
    "plt.show()"
   ]
  },
  {
   "cell_type": "code",
   "execution_count": null,
   "metadata": {},
   "outputs": [],
   "source": [
    "# Initialise the subplot function using number of rows and columns\n",
    "figure, axis = plt.subplots(6, 1)\n",
    "\n",
    "\n",
    "colums = chrome_data_set.columns.to_list()\n",
    "ax = chrome_data_set[colums[0:8]].plot(\n",
    "        kind='box', title='boxplot', showmeans=True, showfliers=False)\n",
    "\n",
    "ax.tick_params(axis='x', rotation=30 ,labelsize=14)\n",
    "\n",
    "# ax.setp(axis[0].get_xticklabels(), horizontalalignment='right')\n",
    "ax.title(f\"Browser timestamp precision (target: 100ms)\", fontsize=18)\n",
    "ax.ylabel(\"Difference in sec\", fontsize=18)\n",
    "ax.xlabel(\"Datapoints\", fontsize=18)\n",
    "axis[0] = ax\n",
    "\n",
    "\n",
    "plt.tight_layout()\n",
    "plt.savefig(\"./combined_box.jpeg\", bbox_inches=\"tight\", pad_inches=0.3,)\n",
    "plt.show()\n",
    "\n"
   ]
  }
 ],
 "metadata": {
  "kernelspec": {
   "display_name": "Python 3",
   "language": "python",
   "name": "python3"
  },
  "language_info": {
   "codemirror_mode": {
    "name": "ipython",
    "version": 3
   },
   "file_extension": ".py",
   "mimetype": "text/x-python",
   "name": "python",
   "nbconvert_exporter": "python",
   "pygments_lexer": "ipython3",
   "version": "3.9.7"
  },
  "orig_nbformat": 4
 },
 "nbformat": 4,
 "nbformat_minor": 2
}
