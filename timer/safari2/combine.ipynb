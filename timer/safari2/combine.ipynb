{
 "cells": [
  {
   "cell_type": "code",
   "execution_count": 3,
   "metadata": {},
   "outputs": [],
   "source": [
    "# imports and config\n",
    "import pandas as pd\n"
   ]
  },
  {
   "cell_type": "code",
   "execution_count": 4,
   "metadata": {},
   "outputs": [],
   "source": [
    "browser_isolated = pd.read_csv(\"./safari_isolated_browser_timing_data.csv\")['distance'].to_list()\n",
    "assert len(browser_isolated) == 1010\n",
    "\n",
    "\n",
    "### unisolated\n",
    "\n",
    "browser_unisolated = pd.read_csv(\"./safari_unisolated_browser_timing_data.csv\")['distance'].to_list()\n",
    "assert len(browser_unisolated) == 1010\n",
    "\n"
   ]
  },
  {
   "cell_type": "code",
   "execution_count": 5,
   "metadata": {},
   "outputs": [],
   "source": [
    "# combine into one dataset\n",
    "complete = pd.DataFrame({\n",
    "    'browser_isolated': browser_isolated,\n",
    "    'browser_unisolated': browser_unisolated,\n",
    "})\n",
    "\n",
    "complete.to_csv(\"./complete.csv\", index=False)"
   ]
  }
 ],
 "metadata": {
  "kernelspec": {
   "display_name": "Python 3",
   "language": "python",
   "name": "python3"
  },
  "language_info": {
   "codemirror_mode": {
    "name": "ipython",
    "version": 3
   },
   "file_extension": ".py",
   "mimetype": "text/x-python",
   "name": "python",
   "nbconvert_exporter": "python",
   "pygments_lexer": "ipython3",
   "version": "3.11.4"
  },
  "orig_nbformat": 4
 },
 "nbformat": 4,
 "nbformat_minor": 2
}
