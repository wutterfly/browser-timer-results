{
 "cells": [
  {
   "cell_type": "code",
   "execution_count": 2,
   "metadata": {},
   "outputs": [],
   "source": [
    "# imports and config\n",
    "import pandas as pd\n"
   ]
  },
  {
   "cell_type": "code",
   "execution_count": 3,
   "metadata": {},
   "outputs": [],
   "source": [
    "# isolated\n",
    "browser_isolated_idle = pd.read_csv(\"./firefox_isolated_browser_timing_data_idle.csv\")['distance'].to_list()\n",
    "assert len(browser_isolated_idle) == 1010\n",
    "\n",
    "browser_isolated_busy_abovenormal= pd.read_csv(\"./firefox_isolated_browser_timing_data_busy_abovenormal.csv\")['distance'].to_list()\n",
    "assert len(browser_isolated_busy_abovenormal) == 1010\n",
    "\n",
    "browser_isolated_maximum_normal = pd.read_csv('./firefox_isolated_browser_timing_data_maximum_normal.csv')['distance'].to_list()\n",
    "assert len(browser_isolated_maximum_normal) == 1010\n",
    "\n",
    "browser_isolated_medium_abovenormal = pd.read_csv('./firefox_isolated_browser_timing_data_medium_abovenormal.csv')['distance'].to_list()\n",
    "assert len(browser_isolated_medium_abovenormal) == 1010\n",
    "\n",
    "\n",
    "### unisolated\n",
    "\n"
   ]
  },
  {
   "cell_type": "code",
   "execution_count": 4,
   "metadata": {},
   "outputs": [],
   "source": [
    "# combine into one dataset\n",
    "complete = pd.DataFrame({\n",
    "    'browser_isolated_idle': browser_isolated_idle,\n",
    "    'browser_isolated_busy_abovenormal': browser_isolated_busy_abovenormal,\n",
    "    'browser_isolated_maximum_normal': browser_isolated_maximum_normal,\n",
    "    'browser_isolated_medium_abovenormal': browser_isolated_medium_abovenormal,\n",
    "\n",
    "})\n",
    "\n",
    "complete.to_csv(\"./complete.csv\", index=False)"
   ]
  }
 ],
 "metadata": {
  "kernelspec": {
   "display_name": "Python 3",
   "language": "python",
   "name": "python3"
  },
  "language_info": {
   "codemirror_mode": {
    "name": "ipython",
    "version": 3
   },
   "file_extension": ".py",
   "mimetype": "text/x-python",
   "name": "python",
   "nbconvert_exporter": "python",
   "pygments_lexer": "ipython3",
   "version": "3.11.4"
  },
  "orig_nbformat": 4
 },
 "nbformat": 4,
 "nbformat_minor": 2
}
