{
 "cells": [
  {
   "cell_type": "code",
   "execution_count": 6,
   "metadata": {},
   "outputs": [],
   "source": [
    "# imports and config\n",
    "import pandas as pd\n"
   ]
  },
  {
   "cell_type": "code",
   "execution_count": 7,
   "metadata": {},
   "outputs": [],
   "source": [
    "browser_isolated = pd.read_csv(\"./edge_isolated_browser_timing_data.csv\")['distance'].to_list()\n",
    "assert len(browser_isolated) == 1010\n",
    "\n",
    "#browser_isolated_usage = pd.read_csv(\"./edge_isolated_browser_timing_data_async_work.csv\")['distance'].to_list()\n",
    "#assert len(browser_isolated_usage) == 1010\n",
    "\n",
    "#browser_isolated_graphics = pd.read_csv('./edge_isolated_browser_timing_data_graphics.csv')['distance'].to_list()\n",
    "#assert len(browser_isolated_graphics) == 1010\n",
    "\n",
    "#browser_isolated_video5 = pd.read_csv('./edge_isolated_browser_timing_data_video5.csv')['distance'].to_list()\n",
    "#assert len(browser_isolated_video5) == 1010\n",
    "\n",
    "\n",
    "### unisolated\n",
    "\n",
    "browser_unisolated = pd.read_csv(\"./edge_unisolated_browser_timing_data.csv\")['distance'].to_list()\n",
    "assert len(browser_unisolated) == 1010\n",
    "\n",
    "#browser_unisolated_usage = pd.read_csv(\"./edge_unisolated_browser_timing_data_async_work.csv\")['distance'].to_list()\n",
    "#assert len(browser_unisolated_usage) == 1010\n",
    "\n",
    "#browser_unisolated_graphics = pd.read_csv('./edge_unisolated_browser_timing_data_graphics.csv')['distance'].to_list()\n",
    "#assert len(browser_unisolated_graphics) == 1010\n",
    "\n",
    "#browser_unisolated_video5 = pd.read_csv('./edge_unisolated_browser_timing_data_video5.csv')['distance'].to_list()\n",
    "#assert len(browser_unisolated_video5) == 1010\n"
   ]
  },
  {
   "cell_type": "code",
   "execution_count": 8,
   "metadata": {},
   "outputs": [],
   "source": [
    "# combine into one dataset\n",
    "complete = pd.DataFrame({\n",
    "    'browser_isolated': browser_isolated,\n",
    "    #'browser_isolated_async_work': browser_isolated_usage,\n",
    "    #'browser_isolated_graphics': browser_isolated_graphics,\n",
    "    #'browser_isolated_video5': browser_isolated_video5,\n",
    "    'browser_unisolated': browser_unisolated,\n",
    "    #'browser_unisolated_async_work': browser_unisolated_usage,\n",
    "    #'browser_unisolated_graphics': browser_unisolated_graphics,\n",
    "    #'browser_unisolated_video5': browser_unisolated_video5,\n",
    "})\n",
    "\n",
    "complete.to_csv(\"./complete.csv\", index=False)"
   ]
  }
 ],
 "metadata": {
  "kernelspec": {
   "display_name": "Python 3",
   "language": "python",
   "name": "python3"
  },
  "language_info": {
   "codemirror_mode": {
    "name": "ipython",
    "version": 3
   },
   "file_extension": ".py",
   "mimetype": "text/x-python",
   "name": "python",
   "nbconvert_exporter": "python",
   "pygments_lexer": "ipython3",
   "version": "3.11.4"
  },
  "orig_nbformat": 4
 },
 "nbformat": 4,
 "nbformat_minor": 2
}
