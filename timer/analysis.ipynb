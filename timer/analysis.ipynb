{
 "cells": [
  {
   "cell_type": "code",
   "execution_count": null,
   "metadata": {},
   "outputs": [],
   "source": [
    "# imports/config\n",
    "import pandas as pd\n",
    "import numpy as np\n",
    "import matplotlib.pyplot as plt\n",
    "from matplotlib.patches import Rectangle\n",
    "\n",
    "plt.rcParams['figure.figsize'] = [20, 12]"
   ]
  },
  {
   "cell_type": "code",
   "execution_count": null,
   "metadata": {},
   "outputs": [],
   "source": [
    "# plot as histogram and boxplot\n",
    "def plot(data_set: pd.DataFrame, title: str ,out: str):\n",
    "    isolated = data_set['browser_isolated'].to_numpy()\n",
    "    unisolated = data_set['browser_unisolated'].to_numpy()\n",
    "    \n",
    "    assert len(isolated) == len(unisolated)\n",
    "    data_len = len(isolated)\n",
    "\n",
    "    # throw away outlier (the lower and upper 5%)\n",
    "    ten_perc = int(data_len * 0.05)\n",
    "\n",
    "    isolated.sort()\n",
    "    isolated = isolated[ten_perc:-ten_perc]\n",
    "    len_isolated = len(isolated)\n",
    "    isolated_min = isolated.min()\n",
    "    isolated_max = isolated.max()\n",
    "\n",
    "    unisolated.sort()\n",
    "    unisolated = unisolated[ten_perc:-ten_perc]\n",
    "    len_unisolated = len(unisolated)\n",
    "    unisolated_min = unisolated.min()\n",
    "    unisolated_max = unisolated.max()\n",
    "\n",
    "    min = np.array([isolated_min, unisolated_min]).min()\n",
    "    max = np.array([isolated_max, unisolated_max]).max()\n",
    "\n",
    "    assert len_isolated == len_unisolated\n",
    "\n",
    "    bins = np.arange(round(min, 2) - 0.1, round(max, 2) + 0.2, step=0.005)\n",
    "\n",
    "    # check for mircoseconds (step 0.1)\n",
    "    ticks = np.arange(round(min, 0) - 0.1, round(max, 0) + 0.2, step=0.1)\n",
    "\n",
    "    # plot as histogram\n",
    "    plt.hist(x=isolated, color='blue' , alpha=1, rwidth=0.6 , bins=bins )\n",
    "    plt.hist(x=unisolated, color='red', alpha=1, rwidth=0.6 , bins=bins )\n",
    "\n",
    "    handles = [Rectangle((0,0),1,1, color=c,ec=\"k\") for c in [\"blue\", \"red\"]]\n",
    "    labels= [\"Isolated\",\"Unisolated\"]\n",
    "    plt.legend(handles, labels)\n",
    "\n",
    "    plt.grid(axis='y', alpha=0.5)\n",
    "    plt.title(f'Timestamp samples (target: 100ms) - {title}')\n",
    "    plt.ylabel('Number of Occurrences')\n",
    "    plt.xlabel('Distance to last Timestamp (ms)')\n",
    "    plt.xticks(ticks, fontsize=14)\n",
    "    plt.tight_layout()\n",
    "    plt.savefig(out, bbox_inches=\"tight\", pad_inches=0.3)\n",
    "    plt.show()\n",
    "\n",
    "# plot boxplot\n",
    "def boxplot(data_set: pd.DataFrame,out:str):\n",
    "    \n",
    "    colums = data_set.columns.to_list()\n",
    "    ax = data_set[colums[0:8]].plot(\n",
    "        kind='box', title='boxplot', showmeans=True, showfliers=False)\n",
    "\n",
    "    ax.tick_params(axis='x', rotation=30 ,labelsize=14)\n",
    "    plt.setp(ax.get_xticklabels(), horizontalalignment='right')\n",
    "    plt.tight_layout()\n",
    "    plt.title(f\"Browser timestamp precision (target: 100ms)\", fontsize=18)\n",
    "    plt.ylabel(\"Difference in sec\", fontsize=18)\n",
    "    plt.xlabel(\"Datapoints\", fontsize=18)\n",
    "    plt.tight_layout()\n",
    "    plt.savefig(out ,bbox_inches=\"tight\", pad_inches=0.3,)\n",
    "    plt.show()"
   ]
  },
  {
   "cell_type": "code",
   "execution_count": null,
   "metadata": {},
   "outputs": [],
   "source": [
    "# plot tor data as histogram\n",
    "def plot_tor(data_set, title: str, out):\n",
    "    unisolated = data_set['browser_unisolated'].to_numpy()[10:]\n",
    "\n",
    "    unisolated.sort()\n",
    "    unisolated = unisolated[10:-25]\n",
    "    unisolated_min = unisolated.min()\n",
    "    unisolated_max = unisolated.max()\n",
    "\n",
    "    min = np.array([ unisolated_min]).min()\n",
    "    max = np.array([ unisolated_max]).max()\n",
    "\n",
    "    bins = np.arange(round(min, 2) - 5 , round(max, 2) + 5, step=0.1)\n",
    "    \n",
    "    ticks = np.arange(round(min, 2) - 5, round(max, 2) + 5, step=2)\n",
    "\n",
    "    # plot as histogram\n",
    "    plt.hist(x=unisolated, color='red', alpha=1, rwidth=0.6 , bins=bins )\n",
    "\n",
    "    plt.grid(axis='y', alpha=0.5)\n",
    "    plt.title(f'Timestamp samples (target: 100ms) - ${title}')\n",
    "    plt.ylabel('Number of Occurrences')\n",
    "    plt.xlabel('Distance to last Timestamp (ms)')\n",
    "    plt.xticks(ticks, fontsize=14)\n",
    "    plt.tight_layout()\n",
    "    plt.savefig(out, bbox_inches=\"tight\", pad_inches=0.3,)\n",
    "    plt.show()\n",
    "\n",
    "def boxplot_tor(data_set: pd.DataFrame, out:str):\n",
    "    colums = data_set.columns.to_list()\n",
    "    # print(data_set[colums[4:8]])\n",
    "    ax = data_set[colums[4:8]].plot(\n",
    "        kind='box', title='boxplot', showmeans=True, showfliers=False)\n",
    "\n",
    "    ax.tick_params(axis='x', labelsize=14)\n",
    "    plt.setp(ax.get_xticklabels(), horizontalalignment='right')\n",
    "    plt.tight_layout()\n",
    "    plt.title(f\"Browser timestamp precision (target: 100ms)\", fontsize=18)\n",
    "    plt.ylabel(\"Distance to last Timestamp (ms)\", fontsize=18)\n",
    "    plt.xlabel(\"Datapoints\", fontsize=18)\n",
    "    plt.tight_layout()\n",
    "    plt.savefig(out, bbox_inches=\"tight\", pad_inches=0.3,)\n",
    "    plt.show()"
   ]
  },
  {
   "cell_type": "code",
   "execution_count": null,
   "metadata": {},
   "outputs": [],
   "source": [
    "# plot firefox configed as histogram and boxplot\n",
    "def plot_firefox_configed(data_set: pd.DataFrame, data_set_configed: pd.DataFrame, out: str):\n",
    "\n",
    "    isolated = data_set['browser_isolated'].to_numpy()\n",
    "    unisolated = data_set['browser_unisolated'].to_numpy()\n",
    "\n",
    "    isolated_resist = data_set_configed['isolated_resist'].to_numpy()\n",
    "    unisolated_resist = data_set_configed['unisolated_resist'].to_numpy()\n",
    "    \n",
    "    assert len(isolated_resist) == len(unisolated_resist)\n",
    "    data_len = len(isolated_resist)\n",
    "\n",
    "    # throw away outlier (the lower and upper 5%)\n",
    "    ten_perc = int(data_len * 0.05)\n",
    "#\n",
    "    isolated.sort()\n",
    "    isolated = isolated[ten_perc:-ten_perc]\n",
    "    len_isolated = len(isolated)\n",
    "    isolated_min = isolated.min()\n",
    "    isolated_max = isolated.max()\n",
    "#\n",
    "    unisolated.sort()\n",
    "    unisolated = unisolated[ten_perc:-ten_perc]\n",
    "    len_unisolated = len(unisolated)\n",
    "    unisolated_min = unisolated.min()\n",
    "    unisolated_max = unisolated.max()\n",
    "#\n",
    "    isolated_resist.sort()\n",
    "    isolated_resist = isolated_resist[ten_perc:-ten_perc]\n",
    "    len_isolated_resist = len(isolated_resist)\n",
    "    isolated_resist_min = isolated_resist.min()\n",
    "    isolated_resist_max = isolated_resist.max()\n",
    "#\n",
    "    unisolated_resist.sort()\n",
    "    unisolated_resist = unisolated_resist[ten_perc:-ten_perc]\n",
    "    len_unisolated_resist = len(unisolated_resist)\n",
    "    unisolated_resist_min = unisolated_resist.min()\n",
    "    unisolated_resist_max = unisolated_resist.max()\n",
    "\n",
    "    \n",
    "\n",
    "    min = np.array([isolated_min, unisolated_min, isolated_resist_min, unisolated_resist_min]).min()\n",
    "    max = np.array([isolated_max, unisolated_max, isolated_resist_max, unisolated_resist_max]).max()\n",
    "\n",
    "    assert len_isolated == len_unisolated == len_isolated_resist == len_unisolated_resist\n",
    "\n",
    "    bins = np.arange(round(min, 0) - 1, round(max, 2) + 1, step=0.1)\n",
    "\n",
    "    #\n",
    "    ticks = np.arange(round(min, 0) - 1 , round(max, 0) + 1, step=1)\n",
    "\n",
    "    # plot as histogram\n",
    "    plt.hist(x=isolated, color='green' , alpha=0.6, rwidth=0.5 , bins=bins, label=\"Isolated\")\n",
    "    plt.hist(x=unisolated, color='yellow', alpha=0.6, rwidth=0.5 , bins=bins, label=\"Unisolated\")\n",
    "    plt.hist(x=isolated_resist, color='blue' , alpha=0.6, rwidth=3 , bins=bins, label=\"Isolated resistFingerprinting\")\n",
    "    plt.hist(x=unisolated_resist, color='red', alpha=0.6, rwidth=1 , bins=bins,label=\"Unisolated resistFingerprinting\")\n",
    "\n",
    "    plt.grid(axis='y', alpha=0.5)\n",
    "    plt.title('Timestamp samples (target: 100ms)')\n",
    "    plt.ylabel('Number of Occurrences')\n",
    "    plt.xlabel('Distance to last Timestamp (ms)')\n",
    "    #plt.xticks(rotation=60)\n",
    "    plt.xticks(ticks, fontsize=14)\n",
    "    plt.tight_layout()\n",
    "    plt.legend()\n",
    "    plt.savefig(out, bbox_inches=\"tight\", pad_inches=0.3)\n",
    "    plt.show()\n",
    "\n",
    "# plot boxplot\n",
    "def boxplot_firefox_configed(data_set: pd.DataFrame,out:str):\n",
    "    \n",
    "    colums = data_set.columns.to_list()\n",
    "    ax = data_set[colums[0:8]].plot(\n",
    "        kind='box', title='boxplot', showmeans=True, showfliers=True)\n",
    "\n",
    "    ax.tick_params(axis='x', rotation=30 ,labelsize=14)\n",
    "    plt.setp(ax.get_xticklabels(), horizontalalignment='right')\n",
    "    plt.tight_layout()\n",
    "    plt.title(f\"Browser timestamp precision (target: 100ms)\", fontsize=18)\n",
    "    plt.ylabel(\"Difference in sec\", fontsize=18)\n",
    "    plt.xlabel(\"Datapoints\", fontsize=18)\n",
    "    plt.tight_layout()\n",
    "    plt.savefig(out ,bbox_inches=\"tight\", pad_inches=0.3,)\n",
    "    plt.show()"
   ]
  },
  {
   "cell_type": "code",
   "execution_count": null,
   "metadata": {},
   "outputs": [],
   "source": [
    "def reject_outliers(data, lower=.01, upper=.025):\n",
    "    #return data\n",
    "    data.sort()\n",
    "    l = len(data)\n",
    "    upper = int(l * upper)\n",
    "    lower = int(l * lower)\n",
    "    return data[lower:-upper]"
   ]
  },
  {
   "cell_type": "code",
   "execution_count": null,
   "metadata": {},
   "outputs": [],
   "source": [
    "# calc\n",
    "def calc(data: pd.DataFrame, has_isolated = True, isolated_col = 'browser_isolated', unisolated_col = 'browser_unisolated', \n",
    "         lower=.01, upper=.025, filter: bool = True):\n",
    "\n",
    "    if has_isolated:\n",
    "        isolated = (np.array(data[isolated_col].to_list())).round(3)\n",
    "        if filter:\n",
    "            isolated = reject_outliers(isolated,lower=lower,upper=upper)\n",
    "\n",
    "        min_isolated = round(isolated.min(), 1)\n",
    "        max_isolated = round(isolated.max(), 1)\n",
    "        mean_isolated = round(isolated.mean(), 1)\n",
    "        std_isolated = round(isolated.std(), 1)\n",
    "        uniques_isolated = np.unique(isolated)\n",
    "        print(uniques_isolated)\n",
    "\n",
    "        print(\"Isolated\")\n",
    "        print(f\"Isolated min      : {min_isolated:.1f}\")\n",
    "        print(f\"Isolated max      : {max_isolated:.1f}\")\n",
    "        print(f\"Isolated mean     : {mean_isolated:.1f}\")\n",
    "        print(f\"Isolated std      : {std_isolated:.1f}\")\n",
    "        print(f\"Isolated uniques  : {len(uniques_isolated)}\")\n",
    "        print(\"\")\n",
    "\n",
    "    unisolated = (np.array(data[unisolated_col].to_list())).round(3)\n",
    "    if filter:\n",
    "        unisolated = reject_outliers(unisolated,lower=lower,upper=upper)\n",
    "    \n",
    "    min_unisolated = round(unisolated.min(), 1)\n",
    "    max_unisolated = round(unisolated.max(), 1)\n",
    "    mean_unisolated = round(unisolated.mean(), 1)\n",
    "    std_unisolated = round(unisolated.std(), 1)\n",
    "    uniques_unisolated = np.unique(unisolated)\n",
    "    print(uniques_unisolated)\n",
    "\n",
    "    print(\"Unisolated\")\n",
    "    print(f\"Unisolated min    : {min_unisolated:.1f}\")\n",
    "    print(f\"Unisolated max    : {max_unisolated:.1f}\")\n",
    "    print(f\"Unisolated mean   : {mean_unisolated:.1f}\")\n",
    "    print(f\"Unisolated std    : {std_unisolated:.1f}\")\n",
    "    print(f\"Unisolated uniques: {len(uniques_unisolated)}\")"
   ]
  },
  {
   "cell_type": "code",
   "execution_count": null,
   "metadata": {},
   "outputs": [],
   "source": [
    "# chromium\n",
    "chromium = pd.read_csv(\"./chromium/complete.csv\", skiprows=[1,2,3,4,5,6,7,8,9,10])\n",
    "calc(chromium)\n",
    "boxplot(chromium, './chromium/box.jpeg')"
   ]
  },
  {
   "cell_type": "code",
   "execution_count": null,
   "metadata": {},
   "outputs": [],
   "source": [
    "# chrome\n",
    "chrome = pd.read_csv(\"./chrome/complete.csv\", skiprows=[1,2,3,4,5,6,7,8,9,10])\n",
    "calc(chrome)\n",
    "boxplot(chrome, './chrome/box.jpeg')"
   ]
  },
  {
   "cell_type": "code",
   "execution_count": null,
   "metadata": {},
   "outputs": [],
   "source": [
    "# edge\n",
    "edge = pd.read_csv(\"./edge/complete.csv\", skiprows=[1,2,3,4,5,6,7,8,9,10])\n",
    "calc(edge)\n",
    "boxplot(edge, './edge/box.jpeg')"
   ]
  },
  {
   "cell_type": "code",
   "execution_count": null,
   "metadata": {},
   "outputs": [],
   "source": [
    "# firefox\n",
    "firefox = pd.read_csv(\"./firefox/complete.csv\", skiprows=[1,2,3,4,5,6,7,8,9,10])\n",
    "calc(firefox)\n",
    "boxplot(firefox, './firefox/box.jpeg')"
   ]
  },
  {
   "cell_type": "code",
   "execution_count": null,
   "metadata": {},
   "outputs": [],
   "source": [
    "# tor\n",
    "tor = pd.read_csv(\"./tor/complete.csv\", skiprows=[1,2,3,4,5,6,7,8,9,10])\n",
    "calc(tor, False)"
   ]
  },
  {
   "cell_type": "code",
   "execution_count": null,
   "metadata": {},
   "outputs": [],
   "source": [
    "# safari\n",
    "safari = pd.read_csv(\"./safari/complete.csv\", skiprows=[1,2,3,4,5,6,7,8,9,10])\n",
    "calc(safari, upper=0.01)"
   ]
  },
  {
   "cell_type": "code",
   "execution_count": null,
   "metadata": {},
   "outputs": [],
   "source": [
    "# safari2\n",
    "safari2 = pd.read_csv(\"./safari2/complete.csv\", skiprows=[1,2,3,4,5,6,7,8,9,10])\n",
    "calc(safari2, upper=0.01)"
   ]
  },
  {
   "cell_type": "code",
   "execution_count": null,
   "metadata": {},
   "outputs": [],
   "source": [
    "# firefox mac\n",
    "safari = pd.read_csv(\"./firefox_mac/complete.csv\", skiprows=[1,2,3,4,5,6,7,8,9])"
   ]
  },
  {
   "cell_type": "code",
   "execution_count": null,
   "metadata": {},
   "outputs": [],
   "source": [
    "# firefox NJ\n",
    "firefox_NJ = pd.read_csv(\"./firefox_NJ/complete.csv\", skiprows=[1,2,3,4,5,6,7,8,9,10])\n",
    "calc(firefox_NJ, isolated_col='browser_isolated', unisolated_col='browser_unisolated', filter=False)"
   ]
  },
  {
   "cell_type": "code",
   "execution_count": null,
   "metadata": {},
   "outputs": [],
   "source": [
    "# firefox rf\n",
    "firefox_RF = pd.read_csv(\"./firefox_rf/complete.csv\", skiprows=[1,2,3,4,5,6,7,8,9,10])\n",
    "calc(firefox_RF, False, unisolated_col='unisolated_resist', filter=False)"
   ]
  },
  {
   "cell_type": "code",
   "execution_count": null,
   "metadata": {},
   "outputs": [],
   "source": [
    "# firefox rf 20ms\n",
    "firefox_RF = pd.read_csv(\"./firefox_rf/complete.csv\", skiprows=[1,2,3,4,5,6,7,8,9,10])\n",
    "calc(firefox_RF, False, unisolated_col='unisolated_resist_20ms', filter=False)"
   ]
  },
  {
   "cell_type": "code",
   "execution_count": null,
   "metadata": {},
   "outputs": [],
   "source": [
    "# firefox rf 33ms\n",
    "firefox_RF = pd.read_csv(\"./firefox_rf/complete.csv\", skiprows=[1,2,3,4,5,6,7,8,9,10])\n",
    "calc(firefox_RF, False, unisolated_col='unisolated_resist_33ms', filter=False)"
   ]
  },
  {
   "cell_type": "code",
   "execution_count": null,
   "metadata": {},
   "outputs": [],
   "source": [
    "# firefox rf 40ms\n",
    "firefox_RF = pd.read_csv(\"./firefox_rf/complete.csv\", skiprows=[1,2,3,4,5,6,7,8,9,10])\n",
    "calc(firefox_RF, False, unisolated_col='unisolated_resist_40ms', filter=False)"
   ]
  },
  {
   "cell_type": "code",
   "execution_count": null,
   "metadata": {},
   "outputs": [],
   "source": [
    "# firefox rf 60ms\n",
    "firefox_RF = pd.read_csv(\"./firefox_rf/complete.csv\", skiprows=[1,2,3,4,5,6,7,8,9,10])\n",
    "calc(firefox_RF, False, unisolated_col='unisolated_resist_60ms', filter=False)"
   ]
  },
  {
   "cell_type": "code",
   "execution_count": null,
   "metadata": {},
   "outputs": [],
   "source": [
    "# firefox rf 80ms\n",
    "firefox_RF = pd.read_csv(\"./firefox_rf/complete.csv\", skiprows=[1,2,3,4,5,6,7,8,9,10])\n",
    "calc(firefox_RF, False, isolated_col='isolated_resist_80ms', unisolated_col='unisolated_resist_80ms', filter=False)"
   ]
  },
  {
   "cell_type": "code",
   "execution_count": null,
   "metadata": {},
   "outputs": [],
   "source": [
    "# firefox rf 100ms\n",
    "firefox_RF = pd.read_csv(\"./firefox_rf/complete.csv\", skiprows=[1,2,3,4,5,6,7,8,9,10])\n",
    "calc(firefox_RF, False, unisolated_col='unisolated_resist_100ms', filter=False)"
   ]
  },
  {
   "cell_type": "code",
   "execution_count": null,
   "metadata": {},
   "outputs": [],
   "source": [
    "# firefox rf 120ms\n",
    "firefox_RF = pd.read_csv(\"./firefox_rf/complete.csv\", skiprows=[1,2,3,4,5,6,7,8,9,10])\n",
    "calc(firefox_RF, False, unisolated_col='unisolated_resist_120ms', filter=False)"
   ]
  },
  {
   "cell_type": "code",
   "execution_count": null,
   "metadata": {},
   "outputs": [],
   "source": [
    "# firefox rf 140ms\n",
    "firefox_RF = pd.read_csv(\"./firefox_rf/complete.csv\", skiprows=[1,2,3,4,5,6,7,8,9,10])\n",
    "calc(firefox_RF, False, unisolated_col='unisolated_resist_140ms', filter=False)"
   ]
  },
  {
   "cell_type": "code",
   "execution_count": null,
   "metadata": {},
   "outputs": [],
   "source": [
    "# firefox rf 160ms\n",
    "firefox_RF = pd.read_csv(\"./firefox_rf/complete.csv\", skiprows=[1,2,3,4,5,6,7,8,9,10])\n",
    "calc(firefox_RF, False, unisolated_col='unisolated_resist_160ms', filter=False)"
   ]
  },
  {
   "cell_type": "code",
   "execution_count": null,
   "metadata": {},
   "outputs": [],
   "source": [
    "# firefox rf 180ms\n",
    "firefox_RF = pd.read_csv(\"./firefox_rf/complete.csv\", skiprows=[1,2,3,4,5,6,7,8,9,10])\n",
    "calc(firefox_RF, False, unisolated_col='unisolated_resist_180ms', filter=False)"
   ]
  },
  {
   "cell_type": "code",
   "execution_count": null,
   "metadata": {},
   "outputs": [],
   "source": [
    "# firefox rf 200ms\n",
    "firefox_RF = pd.read_csv(\"./firefox_rf/complete.csv\", skiprows=[1,2,3,4,5,6,7,8,9,10])\n",
    "calc(firefox_RF, False, unisolated_col='unisolated_resist_200ms', filter=False)"
   ]
  },
  {
   "cell_type": "code",
   "execution_count": null,
   "metadata": {},
   "outputs": [],
   "source": [
    "# firefox rf NJ\n",
    "firefox = pd.read_csv(\"./firefox/complete.csv\", skiprows=[1,2,3,4,5,6,7,8,9,10])\n",
    "firefox_RF_NJ = pd.read_csv(\"./firefox_rf_NJ/complete.csv\", skiprows=[1,2,3,4,5,6,7,8,9,10])\n",
    "calc(firefox_RF_NJ, False, unisolated_col='unisolated_resist_NJ', filter=False)"
   ]
  },
  {
   "cell_type": "code",
   "execution_count": null,
   "metadata": {},
   "outputs": [],
   "source": [
    "# firefox rf 20ms NJ\n",
    "firefox = pd.read_csv(\"./firefox/complete.csv\", skiprows=[1,2,3,4,5,6,7,8,9,10])\n",
    "firefox_RF_20_NJ = pd.read_csv(\"./firefox_rf_NJ/complete.csv\", skiprows=[1,2,3,4,5,6,7,8,9,10])\n",
    "calc(firefox_RF_20_NJ, False, unisolated_col='unisolated_resist_20ms_NJ', filter=False)"
   ]
  },
  {
   "cell_type": "code",
   "execution_count": null,
   "metadata": {},
   "outputs": [],
   "source": [
    "# firefox rf 33ms NJ\n",
    "firefox = pd.read_csv(\"./firefox/complete.csv\", skiprows=[1,2,3,4,5,6,7,8,9,10])\n",
    "firefox_RF_33_NJ = pd.read_csv(\"./firefox_rf_NJ/complete.csv\", skiprows=[1,2,3,4,5,6,7,8,9,10])\n",
    "calc(firefox_RF_33_NJ, False, unisolated_col='unisolated_resist_33ms_NJ', filter=False)"
   ]
  },
  {
   "cell_type": "code",
   "execution_count": null,
   "metadata": {},
   "outputs": [],
   "source": [
    "# firefox rf 40ms NJ\n",
    "firefox = pd.read_csv(\"./firefox/complete.csv\", skiprows=[1,2,3,4,5,6,7,8,9,10])\n",
    "firefox_RF_40_NJ = pd.read_csv(\"./firefox_rf_NJ/complete.csv\", skiprows=[1,2,3,4,5,6,7,8,9,10])\n",
    "calc(firefox_RF_40_NJ, False, unisolated_col='unisolated_resist_40ms_NJ', filter=False)"
   ]
  },
  {
   "cell_type": "code",
   "execution_count": null,
   "metadata": {},
   "outputs": [],
   "source": [
    "# firefox rf 60ms NJ\n",
    "firefox = pd.read_csv(\"./firefox/complete.csv\", skiprows=[1,2,3,4,5,6,7,8,9,10])\n",
    "firefox_RF_60_NJ = pd.read_csv(\"./firefox_rf_NJ/complete.csv\", skiprows=[1,2,3,4,5,6,7,8,9,10])\n",
    "calc(firefox_RF_60_NJ, False, unisolated_col='unisolated_resist_60ms_NJ', filter=False)"
   ]
  },
  {
   "cell_type": "code",
   "execution_count": null,
   "metadata": {},
   "outputs": [],
   "source": [
    "# firefox rf 80ms NJ\n",
    "firefox = pd.read_csv(\"./firefox/complete.csv\", skiprows=[1,2,3,4,5,6,7,8,9,10])\n",
    "firefox_RF_80_NJ = pd.read_csv(\"./firefox_rf_NJ/complete.csv\", skiprows=[1,2,3,4,5,6,7,8,9,10])\n",
    "calc(firefox_RF_80_NJ, False, unisolated_col='unisolated_resist_80ms_NJ', filter=False)"
   ]
  },
  {
   "cell_type": "code",
   "execution_count": null,
   "metadata": {},
   "outputs": [],
   "source": [
    "# firefox rf 100ms NJ\n",
    "firefox = pd.read_csv(\"./firefox/complete.csv\", skiprows=[1,2,3,4,5,6,7,8,9,10])\n",
    "firefox_RF_100_NJ = pd.read_csv(\"./firefox_rf_NJ/complete.csv\", skiprows=[1,2,3,4,5,6,7,8,9,10])\n",
    "calc(firefox_RF_100_NJ, False, unisolated_col='unisolated_resist_100ms_NJ', filter=False)"
   ]
  },
  {
   "cell_type": "code",
   "execution_count": null,
   "metadata": {},
   "outputs": [],
   "source": [
    "# firefox rf 120ms NJ\n",
    "firefox = pd.read_csv(\"./firefox/complete.csv\", skiprows=[1,2,3,4,5,6,7,8,9,10])\n",
    "firefox_RF_120_NJ = pd.read_csv(\"./firefox_rf_NJ/complete.csv\", skiprows=[1,2,3,4,5,6,7,8,9,10])\n",
    "calc(firefox_RF_120_NJ, False, unisolated_col='unisolated_resist_120ms_NJ', filter=False)"
   ]
  },
  {
   "cell_type": "code",
   "execution_count": null,
   "metadata": {},
   "outputs": [],
   "source": [
    "# firefox rf 140ms NJ\n",
    "firefox = pd.read_csv(\"./firefox/complete.csv\", skiprows=[1,2,3,4,5,6,7,8,9,10])\n",
    "firefox_RF_140_NJ = pd.read_csv(\"./firefox_rf_NJ/complete.csv\", skiprows=[1,2,3,4,5,6,7,8,9,10])\n",
    "calc(firefox_RF_140_NJ, False, unisolated_col='unisolated_resist_140ms_NJ', filter=False)"
   ]
  },
  {
   "cell_type": "code",
   "execution_count": null,
   "metadata": {},
   "outputs": [],
   "source": [
    "# firefox rf 160ms NJ\n",
    "firefox = pd.read_csv(\"./firefox/complete.csv\", skiprows=[1,2,3,4,5,6,7,8,9,10])\n",
    "firefox_RF_160_NJ = pd.read_csv(\"./firefox_rf_NJ/complete.csv\", skiprows=[1,2,3,4,5,6,7,8,9,10])\n",
    "calc(firefox_RF_160_NJ, False, unisolated_col='unisolated_resist_160ms_NJ', filter=False)"
   ]
  },
  {
   "cell_type": "code",
   "execution_count": null,
   "metadata": {},
   "outputs": [],
   "source": [
    "# firefox rf 180ms NJ\n",
    "firefox = pd.read_csv(\"./firefox/complete.csv\", skiprows=[1,2,3,4,5,6,7,8,9,10])\n",
    "firefox_RF_180_NJ = pd.read_csv(\"./firefox_rf_NJ/complete.csv\", skiprows=[1,2,3,4,5,6,7,8,9,10])\n",
    "calc(firefox_RF_180_NJ, False, unisolated_col='unisolated_resist_180ms_NJ', filter=False)"
   ]
  },
  {
   "cell_type": "code",
   "execution_count": null,
   "metadata": {},
   "outputs": [],
   "source": [
    "# firefox rf 200ms NJ\n",
    "firefox = pd.read_csv(\"./firefox/complete.csv\", skiprows=[1,2,3,4,5,6,7,8,9,10])\n",
    "firefox_RF_200_NJ = pd.read_csv(\"./firefox_rf_NJ/complete.csv\", skiprows=[1,2,3,4,5,6,7,8,9,10])\n",
    "calc(firefox_RF_200_NJ, False, unisolated_col='unisolated_resist_200ms_NJ', filter=False)"
   ]
  }
 ],
 "metadata": {
  "kernelspec": {
   "display_name": "Python 3",
   "language": "python",
   "name": "python3"
  },
  "language_info": {
   "codemirror_mode": {
    "name": "ipython",
    "version": 3
   },
   "file_extension": ".py",
   "mimetype": "text/x-python",
   "name": "python",
   "nbconvert_exporter": "python",
   "pygments_lexer": "ipython3",
   "version": "3.11.4"
  },
  "orig_nbformat": 4
 },
 "nbformat": 4,
 "nbformat_minor": 2
}
