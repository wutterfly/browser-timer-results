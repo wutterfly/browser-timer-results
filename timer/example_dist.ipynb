{
 "cells": [
  {
   "cell_type": "code",
   "execution_count": null,
   "metadata": {},
   "outputs": [],
   "source": [
    "import numpy as np"
   ]
  },
  {
   "cell_type": "code",
   "execution_count": null,
   "metadata": {},
   "outputs": [],
   "source": [
    "# generate timestamps every 100ms\n",
    "t = [6433 + (100 * i) for i in range(0, 1000)]\n",
    "\n",
    "for precision in [16.66, 20, 33.33, 40, 60, 80, 100, 120,140,160,180,200]:\n",
    "\n",
    "    rounded = [0] * len(t)\n",
    "    distances = [0] * len(t)\n",
    "\n",
    "    for i, x in enumerate(t):\n",
    "        r = x - x % precision\n",
    "        rounded[i] = r\n",
    "\n",
    "        if i != 0:\n",
    "            distances[i] = r - rounded[i-1]\n",
    "\n",
    "    distances = np.array(distances).round(1)\n",
    "\n",
    "    # ignore first distance, always 0\n",
    "    distances = distances[1:]\n",
    "\n",
    "    u, inv = np.unique(distances, return_inverse=True)\n",
    "    c = np.bincount(inv)\n",
    "\n",
    "    print(precision)\n",
    "    print(min(t), '-', max(t))\n",
    "    o = sum(c)\n",
    "    print(u)\n",
    "    print(round(sum(distances) / len(distances), 1))\n",
    "    print(f'{[round(a / o, 3) for a in c]}')\n",
    "    print('')"
   ]
  },
  {
   "cell_type": "markdown",
   "metadata": {},
   "source": [
    "\\begin{table}[H]\n",
    "\\centering\n",
    "\\begin{tabular}{ |l|c|l|c|  }\n",
    " \\hline\n",
    " \\multicolumn{4}{|c|}{Zeitstempelproben in Millisekunden - Ziel 100 Millisekunden} \\\\\n",
    " \\hline\n",
    "  Browser                      & Datenpunkt/Wert  & Anteil  & Durchschnitt   \\\\\n",
    " \n",
    " \\hline\n",
    " 16.66ms                       &  100          & 0.998  &   100.0  \\\\\n",
    "                               &  116.6        & 0.002  &          \\\\               \n",
    " \\hline\n",
    " 20ms                          &  100          & 1.0  &   100.0    \\\\               \n",
    " \\hline\n",
    " 33.3ms                        &  100          & 1.0  &   100.0    \\\\               \n",
    " \\hline\n",
    " 40ms                          &  80           & 0.499  &   100.0    \\\\ \n",
    "                               &  120          & 0.501  &            \\\\ \n",
    " \\hline\n",
    "  60ms                         &  60           & 0.333  &   100.0    \\\\ \n",
    "                               &  120           & 0.667  &           \\\\ \n",
    " \\hline\n",
    " \n",
    "\\end{tabular}\n",
    "\\caption{}\n",
    "\\label{tab:}\n",
    "\\end{table}"
   ]
  }
 ],
 "metadata": {
  "kernelspec": {
   "display_name": "Python 3",
   "language": "python",
   "name": "python3"
  },
  "language_info": {
   "codemirror_mode": {
    "name": "ipython",
    "version": 3
   },
   "file_extension": ".py",
   "mimetype": "text/x-python",
   "name": "python",
   "nbconvert_exporter": "python",
   "pygments_lexer": "ipython3",
   "version": "3.11.4"
  },
  "orig_nbformat": 4
 },
 "nbformat": 4,
 "nbformat_minor": 2
}
