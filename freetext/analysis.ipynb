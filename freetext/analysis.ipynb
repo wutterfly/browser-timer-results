{
 "cells": [
  {
   "cell_type": "code",
   "execution_count": 9,
   "metadata": {},
   "outputs": [],
   "source": [
    "# imports\n",
    "import pandas as pd\n",
    "import numpy as np"
   ]
  },
  {
   "cell_type": "code",
   "execution_count": 10,
   "metadata": {},
   "outputs": [],
   "source": [
    "data_folder = '__DATA_28_tt'"
   ]
  },
  {
   "cell_type": "code",
   "execution_count": 11,
   "metadata": {},
   "outputs": [],
   "source": [
    "def compare_classification_performance(original: pd.DataFrame, compare: pd.DataFrame):\n",
    "    o_r2_a24 = original.iloc[16]['Error']\n",
    "    o_r2_a234 = original.iloc[17]['Error']\n",
    "    o_r234_a23 = original.iloc[23]['Error']\n",
    "    o_combined_raw = original['Error']\n",
    "    o_combined = sum(o_combined_raw) / len(o_combined_raw)\n",
    "\n",
    "\n",
    "    c_r2_a24 = compare.iloc[16]['Error']\n",
    "    c_r2_a234 = compare.iloc[17]['Error']\n",
    "    c_r234_a23 = compare.iloc[23]['Error']\n",
    "    c_combined_raw = compare['Error']\n",
    "    c_combined = sum(c_combined_raw) / len(c_combined_raw)\n",
    "\n",
    "\n",
    "    diff_r2_a24 = round(o_r2_a24 - c_r2_a24, 2)\n",
    "    diff_r2_a234 = round(o_r2_a234 - c_r2_a234, 2)\n",
    "    diff_r234_a23  = round(o_r234_a23 - c_r234_a23, 2)\n",
    "    diff_combined = round(o_combined - c_combined, 2)\n",
    "\n",
    "    if diff_r2_a24 == 0:\n",
    "        diff_r2_a24 = f'Equal : {diff_r2_a24:7.2f} %'\n",
    "    elif diff_r2_a24 > 0:\n",
    "        diff_r2_a24 = f'Less  : {diff_r2_a24:7.2f} %'\n",
    "    else:\n",
    "        diff_r2_a24 = f'More  : {diff_r2_a24:7.2f} %'\n",
    "\n",
    "    if diff_r2_a234 == 0:\n",
    "        diff_r2_a234 = f'Equal : {diff_r2_a234:7.2f} %'\n",
    "    elif diff_r2_a234 > 0:\n",
    "        diff_r2_a234 = f'Less  : {diff_r2_a234:7.2f} %'\n",
    "    else:\n",
    "        diff_r2_a234 = f'More  : {diff_r2_a234:7.2f} %'\n",
    "\n",
    "    if diff_r234_a23 == 0:\n",
    "        diff_r234_a23 = f'Equal : {diff_r234_a23:7.2f} %'\n",
    "    elif diff_r234_a23 > 0:\n",
    "        diff_r234_a23 = f'Less  : {diff_r234_a23:7.2f} %'\n",
    "    else:\n",
    "        diff_r234_a23 = f'More  : {diff_r234_a23:7.2f} %'\n",
    "\n",
    "    if diff_combined == 0:\n",
    "        diff_combined = f'Equal : {diff_combined:7.2f} %'\n",
    "    elif diff_combined > 0:\n",
    "        diff_combined = f'Less  : {diff_combined:7.2f} %'\n",
    "    else:\n",
    "        diff_combined = f'More  : {diff_combined:7.2f} %'\n",
    "\n",
    "\n",
    "    print('err r2_a24   : ',  round(c_r2_a24  ,2),'%', diff_r2_a24)\n",
    "    print('err r2_a234  : ',  round(c_r2_a234 ,2),'%', diff_r2_a234)\n",
    "    print('err r234_a23  : ',  round(c_r234_a23 ,2),'%', diff_r234_a23)\n",
    "    print('err comp mean: ',  round(c_combined,2),'%', diff_combined)"
   ]
  },
  {
   "cell_type": "code",
   "execution_count": 12,
   "metadata": {},
   "outputs": [],
   "source": [
    "def compare_classification(original: pd.DataFrame, compare: pd.DataFrame)-> tuple[pd.DataFrame, tuple[int, int, int, int]]:\n",
    "\n",
    "    assert len(original) == len(compare)\n",
    "\n",
    "    diffs = original.subtract(compare)\n",
    "\n",
    "\n",
    "    total = len(diffs.columns) * len(diffs)\n",
    "    better_then_original = np.sum((diffs < 0).values.ravel())\n",
    "    worse_then_original = np.sum((diffs > 0).values.ravel())\n",
    "    equal_then_original = np.sum((diffs == 0).values.ravel())\n",
    "\n",
    "    assert total == better_then_original + worse_then_original + equal_then_original\n",
    "\n",
    "    print(f'better: {better_then_original:4} ({(better_then_original / total) * 100:5.2f}%)')\n",
    "    print(f'worse : {worse_then_original:4} ({(worse_then_original / total) * 100:5.2f}%)')\n",
    "    print(f'equal : {equal_then_original:4} ({(equal_then_original / total) * 100:5.2f}%)')\n",
    "    \n",
    "    return (diffs, (total, better_then_original, worse_then_original,  equal_then_original))\n",
    "    \n",
    "    "
   ]
  },
  {
   "cell_type": "code",
   "execution_count": 13,
   "metadata": {},
   "outputs": [],
   "source": [
    "def compare_authentication(original: pd.DataFrame, compare: pd.DataFrame):\n",
    "\n",
    "    o_total_fr = original.iloc[0]['Attempts']\n",
    "    c_total_fr = compare.iloc[0]['Attempts']\n",
    "\n",
    "    o_fr = original.iloc[0]['Result']\n",
    "    c_fr = compare.iloc[0]['Result']\n",
    "\n",
    "    o_fr_rate = (o_fr / o_total_fr) * 100\n",
    "    c_fr_rate = (c_fr / c_total_fr) * 100\n",
    "\n",
    "    diff_fr_rate = round(o_fr_rate - c_fr_rate, 2)\n",
    "\n",
    "    if diff_fr_rate == 0:\n",
    "        diff_fr_rate = f'equal: {diff_fr_rate:6.2f}'\n",
    "    elif diff_fr_rate > 0:\n",
    "        diff_fr_rate = f'less : {diff_fr_rate:6.2f}'\n",
    "    else:\n",
    "        diff_fr_rate = f'more : {diff_fr_rate:6.2f}'\n",
    "\n",
    "    print(f'False Reject Rate:  {round(c_fr_rate, 2):6.2f} % {diff_fr_rate} %')\n",
    "\n",
    "    ###############################################################\n",
    "\n",
    "    o_total_fa = original.iloc[1]['Attempts']\n",
    "    c_total_fa = compare.iloc[1]['Attempts']\n",
    "\n",
    "    o_fa = original.iloc[1]['Result']\n",
    "    c_fa = compare.iloc[1]['Result']\n",
    "\n",
    "    o_fa_rate = (o_fa / o_total_fa) * 100\n",
    "    c_fa_rate = (c_fa / c_total_fa) * 100\n",
    "\n",
    "    diff_fa_rate = round(o_fa_rate - c_fa_rate, 2)\n",
    "\n",
    "    if diff_fa_rate == 0:\n",
    "        diff_fa_rate = f'equal: {diff_fa_rate:6.2f}'\n",
    "    elif diff_fa_rate > 0:\n",
    "        diff_fa_rate = f'less : {diff_fa_rate:6.2f}'\n",
    "    else:\n",
    "        diff_fa_rate = f'more : {diff_fa_rate::6.2f}'\n",
    "\n",
    "    print(f'False Accept Rate:  {round(c_fa_rate,2):6.2f} % {diff_fa_rate} %')\n"
   ]
  },
  {
   "cell_type": "code",
   "execution_count": 14,
   "metadata": {},
   "outputs": [],
   "source": [
    "# load original\n",
    "original_classification_perf = pd.read_csv(f'./{data_folder}/original_classification_performance.csv')\n",
    "original_classification = pd.read_csv(f'./{data_folder}/original_classification.csv')\n",
    "original_authentication = pd.read_csv(f'./{data_folder}/original_authentication.csv')"
   ]
  },
  {
   "cell_type": "code",
   "execution_count": 15,
   "metadata": {},
   "outputs": [
    {
     "name": "stdout",
     "output_type": "stream",
     "text": [
      "Classification Performance\n",
      "err r2_a24   :  5.0 % Equal :    0.00 %\n",
      "err r2_a234  :  5.0 % Equal :    0.00 %\n",
      "err r234_a23  :  5.24 % Equal :    0.00 %\n",
      "err comp mean:  9.82 % Equal :    0.00 %\n",
      "\n",
      "Authentication Performance\n",
      "False Reject Rate:    7.62 % equal:   0.00 %\n",
      "False Accept Rate:    3.70 % equal:   0.00 %\n"
     ]
    }
   ],
   "source": [
    "# original\n",
    "# classification perf\n",
    "print(\"Classification Performance\")\n",
    "compare_classification_performance(original_classification_perf, original_classification_perf)\n",
    "print(\"\")\n",
    "\n",
    "\n",
    "# authentication\n",
    "print('Authentication Performance')\n",
    "compare_authentication(original_authentication, original_authentication)"
   ]
  },
  {
   "cell_type": "code",
   "execution_count": 16,
   "metadata": {},
   "outputs": [
    {
     "name": "stdout",
     "output_type": "stream",
     "text": [
      "Classification Performance\n",
      "err r2_a24   :  5.24 % More  :   -0.24 %\n",
      "err r2_a234  :  5.0 % Equal :    0.00 %\n",
      "err r234_a23  :  5.24 % Equal :    0.00 %\n",
      "err comp mean:  9.81 % Less  :    0.01 %\n",
      "\n",
      "Classification\n",
      "better:   39 ( 5.16%)\n",
      "worse :   42 ( 5.56%)\n",
      "equal :  675 (89.29%)\n",
      "\n",
      "Authentication Performance\n",
      "False Reject Rate:    7.62 % equal:   0.00 %\n",
      "False Accept Rate:    3.70 % equal:   0.00 %\n"
     ]
    }
   ],
   "source": [
    "# chrome isolated\n",
    "chrome_isolated_classification_perf = pd.read_csv(f'./{data_folder}/chrome_isolated_classification_performance.csv')\n",
    "chrome_isolated_classification = pd.read_csv(f'./{data_folder}/chrome_isolated_classification.csv')\n",
    "chrome_isolated_authentication = pd.read_csv(f'./{data_folder}/chrome_isolated_authentication.csv')\n",
    "\n",
    "\n",
    "# classification perf\n",
    "print(\"Classification Performance\")\n",
    "compare_classification_performance(original_classification_perf, chrome_isolated_classification_perf)\n",
    "print(\"\")\n",
    "\n",
    "# classification\n",
    "print('Classification')\n",
    "compare_classification(original_classification, chrome_isolated_classification)\n",
    "print(\"\")\n",
    "\n",
    "# authentication\n",
    "print('Authentication Performance')\n",
    "compare_authentication(original_authentication, chrome_isolated_authentication)\n"
   ]
  },
  {
   "cell_type": "code",
   "execution_count": 17,
   "metadata": {},
   "outputs": [
    {
     "name": "stdout",
     "output_type": "stream",
     "text": [
      "Classification Performance\n",
      "err r2_a24   :  5.0 % Equal :    0.00 %\n",
      "err r2_a234  :  5.0 % Equal :    0.00 %\n",
      "err r234_a23  :  5.24 % Equal :    0.00 %\n",
      "err comp mean:  9.7 % Less  :    0.12 %\n",
      "\n",
      "Classification\n",
      "better:   42 ( 5.56%)\n",
      "worse :   40 ( 5.29%)\n",
      "equal :  674 (89.15%)\n",
      "\n",
      "Authentication Performance\n",
      "False Reject Rate:    7.86 % more :  -0.24 %\n",
      "False Accept Rate:    3.70 % equal:   0.00 %\n"
     ]
    }
   ],
   "source": [
    "# chrome unisolated\n",
    "chrome_unisolated_classification_perf = pd.read_csv(f'./{data_folder}/chrome_unisolated_classification_performance.csv')\n",
    "chrome_unisolated_classification = pd.read_csv(f'./{data_folder}/chrome_unisolated_classification.csv')\n",
    "chrome_unisolated_authentication = pd.read_csv(f'./{data_folder}/chrome_unisolated_authentication.csv')\n",
    "\n",
    "\n",
    "# classification perf\n",
    "print(\"Classification Performance\")\n",
    "compare_classification_performance(original_classification_perf, chrome_unisolated_classification_perf)\n",
    "print(\"\")\n",
    "\n",
    "# classification\n",
    "print('Classification')\n",
    "compare_classification(original_classification, chrome_unisolated_classification)\n",
    "print(\"\")\n",
    "\n",
    "# authentication\n",
    "print('Authentication Performance')\n",
    "compare_authentication(original_authentication, chrome_unisolated_authentication)"
   ]
  },
  {
   "cell_type": "code",
   "execution_count": 18,
   "metadata": {},
   "outputs": [
    {
     "name": "stdout",
     "output_type": "stream",
     "text": [
      "Classification Performance\n",
      "err r2_a24   :  4.76 % Less  :    0.24 %\n",
      "err r2_a234  :  5.0 % Equal :    0.00 %\n",
      "err r234_a23  :  5.24 % Equal :    0.00 %\n",
      "err comp mean:  9.76 % Less  :    0.05 %\n",
      "\n",
      "Classification\n",
      "better:   42 ( 5.56%)\n",
      "worse :   38 ( 5.03%)\n",
      "equal :  676 (89.42%)\n",
      "\n",
      "Authentication Performance\n",
      "False Reject Rate:    7.86 % more :  -0.24 %\n",
      "False Accept Rate:    3.70 % equal:   0.00 %\n"
     ]
    }
   ],
   "source": [
    "# chromium isolated\n",
    "chromium_isolated_classification_perf = pd.read_csv(f'./{data_folder}/chromium_isolated_classification_performance.csv')\n",
    "chromium_isolated_classification = pd.read_csv(f'./{data_folder}/chromium_isolated_classification.csv')\n",
    "chromium_isolated_authentication = pd.read_csv(f'./{data_folder}/chromium_isolated_authentication.csv')\n",
    "\n",
    "# classification perf\n",
    "print(\"Classification Performance\")\n",
    "compare_classification_performance(original_classification_perf, chromium_isolated_classification_perf)\n",
    "print(\"\")\n",
    "\n",
    "\n",
    "# classification\n",
    "print('Classification')\n",
    "compare_classification(original_classification, chromium_isolated_classification)\n",
    "print(\"\")\n",
    "\n",
    "# authentication\n",
    "print('Authentication Performance')\n",
    "compare_authentication(original_authentication, chromium_isolated_authentication)"
   ]
  },
  {
   "cell_type": "code",
   "execution_count": 19,
   "metadata": {},
   "outputs": [
    {
     "name": "stdout",
     "output_type": "stream",
     "text": [
      "Classification Performance\n",
      "err r2_a24   :  5.0 % Equal :    0.00 %\n",
      "err r2_a234  :  5.0 % Equal :    0.00 %\n",
      "err r234_a23  :  5.24 % Equal :    0.00 %\n",
      "err comp mean:  9.79 % Less  :    0.03 %\n",
      "\n",
      "Classification\n",
      "better:   43 ( 5.69%)\n",
      "worse :   38 ( 5.03%)\n",
      "equal :  675 (89.29%)\n",
      "\n",
      "Authentication Performance\n",
      "False Reject Rate:    7.86 % more :  -0.24 %\n",
      "False Accept Rate:    3.70 % equal:   0.00 %\n"
     ]
    }
   ],
   "source": [
    "# chromium unisolated\n",
    "chromium_unisolated_classification_perf = pd.read_csv(f'./{data_folder}/chromium_unisolated_classification_performance.csv')\n",
    "chromium_unisolated_classification = pd.read_csv(f'./{data_folder}/chromium_unisolated_classification.csv')\n",
    "chromium_unisolated_authentication = pd.read_csv(f'./{data_folder}/chromium_unisolated_authentication.csv')\n",
    "\n",
    "# classification perf\n",
    "print(\"Classification Performance\")\n",
    "compare_classification_performance(original_classification_perf, chromium_unisolated_classification_perf)\n",
    "print(\"\")\n",
    "\n",
    "# classification\n",
    "print('Classification')\n",
    "compare_classification(original_classification, chromium_unisolated_classification)\n",
    "print(\"\")\n",
    "\n",
    "# authentication\n",
    "print('Authentication Performance')\n",
    "compare_authentication(original_authentication, chromium_unisolated_authentication)"
   ]
  },
  {
   "cell_type": "code",
   "execution_count": 20,
   "metadata": {},
   "outputs": [
    {
     "name": "stdout",
     "output_type": "stream",
     "text": [
      "Classification Performance\n",
      "err r2_a24   :  4.76 % Less  :    0.24 %\n",
      "err r2_a234  :  4.76 % Less  :    0.24 %\n",
      "err r234_a23  :  5.24 % Equal :    0.00 %\n",
      "err comp mean:  10.02 % More  :   -0.20 %\n",
      "\n",
      "Classification\n",
      "better:   28 ( 3.70%)\n",
      "worse :   42 ( 5.56%)\n",
      "equal :  686 (90.74%)\n",
      "\n",
      "Authentication Performance\n",
      "False Reject Rate:    7.86 % more :  -0.24 %\n",
      "False Accept Rate:    3.70 % equal:   0.00 %\n"
     ]
    }
   ],
   "source": [
    "# edge isolated\n",
    "edge_isolated_classification_perf = pd.read_csv(f'./{data_folder}/edge_isolated_classification_performance.csv')\n",
    "edge_isolated_classification = pd.read_csv(f'./{data_folder}/edge_isolated_classification.csv')\n",
    "edge_isolated_authentication = pd.read_csv(f'./{data_folder}/edge_isolated_authentication.csv')\n",
    "\n",
    "# classification perf\n",
    "print(\"Classification Performance\")\n",
    "compare_classification_performance(original_classification_perf, edge_isolated_classification_perf)\n",
    "print(\"\")\n",
    "\n",
    "\n",
    "# classification\n",
    "print('Classification')\n",
    "compare_classification(original_classification, edge_isolated_classification)\n",
    "print(\"\")\n",
    "\n",
    "# authentication\n",
    "print('Authentication Performance')\n",
    "compare_authentication(original_authentication, edge_isolated_authentication)"
   ]
  },
  {
   "cell_type": "code",
   "execution_count": 21,
   "metadata": {},
   "outputs": [
    {
     "name": "stdout",
     "output_type": "stream",
     "text": [
      "Classification Performance\n",
      "err r2_a24   :  5.0 % Equal :    0.00 %\n",
      "err r2_a234  :  5.0 % Equal :    0.00 %\n",
      "err r234_a23  :  5.24 % Equal :    0.00 %\n",
      "err comp mean:  9.78 % Less  :    0.04 %\n",
      "\n",
      "Classification\n",
      "better:   39 ( 5.16%)\n",
      "worse :   41 ( 5.42%)\n",
      "equal :  676 (89.42%)\n",
      "\n",
      "Authentication Performance\n",
      "False Reject Rate:    7.86 % more :  -0.24 %\n",
      "False Accept Rate:    3.70 % equal:   0.00 %\n"
     ]
    }
   ],
   "source": [
    "# edge unisolated\n",
    "edge_unisolated_classification_perf = pd.read_csv(f'./{data_folder}/edge_unisolated_classification_performance.csv')\n",
    "edge_unisolated_classification = pd.read_csv(f'./{data_folder}/edge_unisolated_classification.csv')\n",
    "edge_unisolated_authentication = pd.read_csv(f'./{data_folder}/edge_unisolated_authentication.csv')\n",
    "\n",
    "\n",
    "# classification perf\n",
    "print(\"Classification Performance\")\n",
    "compare_classification_performance(original_classification_perf, edge_unisolated_classification_perf)\n",
    "print(\"\")\n",
    "\n",
    "# classification\n",
    "print('Classification')\n",
    "compare_classification(original_classification, edge_unisolated_classification)\n",
    "print(\"\")\n",
    "\n",
    "# authentication\n",
    "print('Authentication Performance')\n",
    "compare_authentication(original_authentication, edge_unisolated_authentication)"
   ]
  },
  {
   "cell_type": "code",
   "execution_count": 22,
   "metadata": {},
   "outputs": [
    {
     "name": "stdout",
     "output_type": "stream",
     "text": [
      "Classification Performance\n",
      "err r2_a24   :  5.0 % Equal :    0.00 %\n",
      "err r2_a234  :  4.52 % Less  :    0.48 %\n",
      "err r234_a23  :  5.24 % Equal :    0.00 %\n",
      "err comp mean:  10.42 % More  :   -0.60 %\n",
      "\n",
      "Classification\n",
      "better:   83 (10.98%)\n",
      "worse :  101 (13.36%)\n",
      "equal :  572 (75.66%)\n",
      "\n",
      "Authentication Performance\n",
      "False Reject Rate:    8.57 % more :  -0.95 %\n",
      "False Accept Rate:    3.70 % equal:   0.00 %\n"
     ]
    }
   ],
   "source": [
    "# tor unisolated\n",
    "tor_unisolated_classification_perf = pd.read_csv(f'./{data_folder}/tor_unisolated_classification_performance.csv')\n",
    "tor_unisolated_classification = pd.read_csv(f'./{data_folder}/tor_unisolated_classification.csv')\n",
    "tor_unisolated_authentication = pd.read_csv(f'./{data_folder}/tor_unisolated_authentication.csv')\n",
    "\n",
    "# classification perf\n",
    "print(\"Classification Performance\")\n",
    "compare_classification_performance(original_classification_perf, tor_unisolated_classification_perf)\n",
    "print(\"\")\n",
    "\n",
    "# classification\n",
    "print('Classification')\n",
    "compare_classification(original_classification, tor_unisolated_classification)\n",
    "print(\"\")\n",
    "\n",
    "# authentication\n",
    "print('Authentication Performance')\n",
    "compare_authentication(original_authentication, tor_unisolated_authentication)"
   ]
  },
  {
   "cell_type": "code",
   "execution_count": 23,
   "metadata": {},
   "outputs": [
    {
     "name": "stdout",
     "output_type": "stream",
     "text": [
      "Classification Performance\n",
      "err r2_a24   :  5.24 % More  :   -0.24 %\n",
      "err r2_a234  :  5.0 % Equal :    0.00 %\n",
      "err r234_a23  :  5.24 % Equal :    0.00 %\n",
      "err comp mean:  9.92 % More  :   -0.10 %\n",
      "\n",
      "Classification\n",
      "better:   36 ( 4.76%)\n",
      "worse :   48 ( 6.35%)\n",
      "equal :  672 (88.89%)\n",
      "\n",
      "Authentication Performance\n",
      "False Reject Rate:    7.86 % more :  -0.24 %\n",
      "False Accept Rate:    3.70 % equal:   0.00 %\n"
     ]
    }
   ],
   "source": [
    "# firefox isolated\n",
    "firefox_isolated_classification_perf = pd.read_csv(f'./{data_folder}/firefox_isolated_classification_performance.csv')\n",
    "firefox_isolated_classification = pd.read_csv(f'./{data_folder}/firefox_isolated_classification.csv')\n",
    "firefox_isolated_authentication = pd.read_csv(f'./{data_folder}/firefox_isolated_authentication.csv')\n",
    "\n",
    "# classification perf\n",
    "print(\"Classification Performance\")\n",
    "compare_classification_performance(original_classification_perf, firefox_isolated_classification_perf)\n",
    "print(\"\")\n",
    "\n",
    "\n",
    "# classification\n",
    "print('Classification')\n",
    "compare_classification(original_classification, firefox_isolated_classification)\n",
    "print(\"\")\n",
    "\n",
    "# authentication\n",
    "print('Authentication Performance')\n",
    "compare_authentication(original_authentication, firefox_isolated_authentication)"
   ]
  },
  {
   "cell_type": "code",
   "execution_count": 24,
   "metadata": {},
   "outputs": [
    {
     "name": "stdout",
     "output_type": "stream",
     "text": [
      "Classification Performance\n",
      "err r2_a24   :  5.0 % Equal :    0.00 %\n",
      "err r2_a234  :  5.0 % Equal :    0.00 %\n",
      "err r234_a23  :  5.24 % Equal :    0.00 %\n",
      "err comp mean:  10.37 % More  :   -0.55 %\n",
      "\n",
      "Classification\n",
      "better:   36 ( 4.76%)\n",
      "worse :   68 ( 8.99%)\n",
      "equal :  652 (86.24%)\n",
      "\n",
      "Authentication Performance\n",
      "False Reject Rate:    7.38 % less :   0.24 %\n",
      "False Accept Rate:    3.70 % equal:   0.00 %\n"
     ]
    }
   ],
   "source": [
    "# firefox unisolated\n",
    "firefox_unisolated_classification_perf = pd.read_csv(f'./{data_folder}/firefox_unisolated_classification_performance.csv')\n",
    "firefox_unisolated_classification = pd.read_csv(f'./{data_folder}/firefox_unisolated_classification.csv')\n",
    "firefox_unisolated_authentication = pd.read_csv(f'./{data_folder}/firefox_unisolated_authentication.csv')\n",
    "\n",
    "\n",
    "# classification perf\n",
    "print(\"Classification Performance\")\n",
    "compare_classification_performance(original_classification_perf, firefox_unisolated_classification_perf)\n",
    "print(\"\")\n",
    "\n",
    "\n",
    "# classification\n",
    "print('Classification')\n",
    "compare_classification(original_classification, firefox_unisolated_classification)\n",
    "print(\"\")\n",
    "\n",
    "# authentication\n",
    "print('Authentication Performance')\n",
    "compare_authentication(original_authentication, firefox_unisolated_authentication)"
   ]
  },
  {
   "cell_type": "code",
   "execution_count": 25,
   "metadata": {},
   "outputs": [
    {
     "name": "stdout",
     "output_type": "stream",
     "text": [
      "Classification Performance\n",
      "err r2_a24   :  4.76 % Less  :    0.24 %\n",
      "err r2_a234  :  4.76 % Less  :    0.24 %\n",
      "err r234_a23  :  5.48 % More  :   -0.24 %\n",
      "err comp mean:  10.38 % More  :   -0.56 %\n",
      "\n",
      "Classification\n",
      "better:   79 (10.45%)\n",
      "worse :  112 (14.81%)\n",
      "equal :  565 (74.74%)\n",
      "\n",
      "Authentication Performance\n",
      "False Reject Rate:    8.33 % more :  -0.71 %\n",
      "False Accept Rate:    3.70 % equal:   0.00 %\n"
     ]
    }
   ],
   "source": [
    "# firefox isolated resist\n",
    "firefox_rf_isolated_classification_perf = pd.read_csv(f'./{data_folder}/firefox_resistFP_isolated_classification_performance.csv')\n",
    "firefox_rf_isolated_classification = pd.read_csv(f'./{data_folder}/firefox_resistFP_isolated_classification.csv')\n",
    "firefox_rf_isolated_authentication = pd.read_csv(f'./{data_folder}/firefox_resistFP_isolated_authentication.csv')\n",
    "\n",
    "# classification perf\n",
    "print(\"Classification Performance\")\n",
    "compare_classification_performance(original_classification_perf, firefox_rf_isolated_classification_perf)\n",
    "print(\"\")\n",
    "\n",
    "# classification\n",
    "print('Classification')\n",
    "compare_classification(original_classification, firefox_rf_isolated_classification)\n",
    "print(\"\")\n",
    "\n",
    "# authentication\n",
    "print('Authentication Performance')\n",
    "compare_authentication(original_authentication, firefox_rf_isolated_authentication)"
   ]
  },
  {
   "cell_type": "code",
   "execution_count": 26,
   "metadata": {},
   "outputs": [
    {
     "name": "stdout",
     "output_type": "stream",
     "text": [
      "Classification Performance\n",
      "err r2_a24   :  5.24 % More  :   -0.24 %\n",
      "err r2_a234  :  4.52 % Less  :    0.48 %\n",
      "err r234_a23  :  5.71 % More  :   -0.48 %\n",
      "err comp mean:  10.01 % More  :   -0.19 %\n",
      "\n",
      "Classification\n",
      "better:   78 (10.32%)\n",
      "worse :   96 (12.70%)\n",
      "equal :  582 (76.98%)\n",
      "\n",
      "Authentication Performance\n",
      "False Reject Rate:    8.33 % more :  -0.71 %\n",
      "False Accept Rate:    3.70 % equal:   0.00 %\n"
     ]
    }
   ],
   "source": [
    "# firefox unisolated resist\n",
    "firefox_rf_unisolated_classification_perf = pd.read_csv(f'./{data_folder}/firefox_resistFP_unisolated_classification_performance.csv')\n",
    "firefox_rf_unisolated_classification = pd.read_csv(f'./{data_folder}/firefox_resistFP_unisolated_classification.csv')\n",
    "firefox_rf_unisolated_authentication = pd.read_csv(f'./{data_folder}/firefox_resistFP_unisolated_authentication.csv')\n",
    "\n",
    "\n",
    "# classification perf\n",
    "print(\"Classification Performance\")\n",
    "compare_classification_performance(original_classification_perf, firefox_rf_unisolated_classification_perf)\n",
    "print(\"\")\n",
    "\n",
    "# classification\n",
    "print('Classification')\n",
    "compare_classification(original_classification, firefox_rf_unisolated_classification)\n",
    "print(\"\")\n",
    "\n",
    "# authentication\n",
    "print('Authentication Performance')\n",
    "compare_authentication(original_authentication, firefox_rf_unisolated_authentication)"
   ]
  },
  {
   "cell_type": "code",
   "execution_count": 27,
   "metadata": {},
   "outputs": [
    {
     "name": "stdout",
     "output_type": "stream",
     "text": [
      "Classification Performance\n",
      "err r2_a24   :  4.05 % Less  :    0.95 %\n",
      "err r2_a234  :  4.05 % Less  :    0.95 %\n",
      "err r234_a23  :  5.0 % Less  :    0.24 %\n",
      "err comp mean:  9.4 % Less  :    0.42 %\n",
      "\n",
      "Classification\n",
      "better:  105 (13.89%)\n",
      "worse :  101 (13.36%)\n",
      "equal :  550 (72.75%)\n",
      "\n",
      "Authentication Performance\n",
      "False Reject Rate:    7.86 % more :  -0.24 %\n",
      "False Accept Rate:    3.70 % equal:   0.00 %\n"
     ]
    }
   ],
   "source": [
    "# firefox unisolated resist 20ms\n",
    "firefox_rf_20ms_unisolated_classification_perf = pd.read_csv(f'./{data_folder}/firefox_resistFP_20ms_unisolated_classification_performance.csv')\n",
    "firefox_rf_20ms_unisolated_classification = pd.read_csv(f'./{data_folder}/firefox_resistFP_20ms_unisolated_classification.csv')\n",
    "firefox_rf_20ms_unisolated_authentication = pd.read_csv(f'./{data_folder}/firefox_resistFP_20ms_unisolated_authentication.csv')\n",
    "\n",
    "\n",
    "# classification perf\n",
    "print(\"Classification Performance\")\n",
    "compare_classification_performance(original_classification_perf, firefox_rf_20ms_unisolated_classification_perf)\n",
    "print(\"\")\n",
    "\n",
    "# classification\n",
    "print('Classification')\n",
    "compare_classification(original_classification, firefox_rf_20ms_unisolated_classification)\n",
    "print(\"\")\n",
    "\n",
    "# authentication\n",
    "print('Authentication Performance')\n",
    "compare_authentication(original_authentication, firefox_rf_20ms_unisolated_authentication)"
   ]
  },
  {
   "cell_type": "code",
   "execution_count": 28,
   "metadata": {},
   "outputs": [
    {
     "name": "stdout",
     "output_type": "stream",
     "text": [
      "Classification Performance\n",
      "err r2_a24   :  5.0 % Equal :    0.00 %\n",
      "err r2_a234  :  4.76 % Less  :    0.24 %\n",
      "err r234_a23  :  5.24 % Equal :    0.00 %\n",
      "err comp mean:  10.37 % More  :   -0.55 %\n",
      "\n",
      "Classification\n",
      "better:   97 (12.83%)\n",
      "worse :  123 (16.27%)\n",
      "equal :  536 (70.90%)\n",
      "\n",
      "Authentication Performance\n",
      "False Reject Rate:    8.33 % more :  -0.71 %\n",
      "False Accept Rate:    3.70 % equal:   0.00 %\n"
     ]
    }
   ],
   "source": [
    "# firefox unisolated resist 33ms\n",
    "firefox_rf_33ms_unisolated_classification_perf = pd.read_csv(f'./{data_folder}/firefox_resistFP_33ms_unisolated_classification_performance.csv')\n",
    "firefox_rf_33ms_unisolated_classification = pd.read_csv(f'./{data_folder}/firefox_resistFP_33ms_unisolated_classification.csv')\n",
    "firefox_rf_33ms_unisolated_authentication = pd.read_csv(f'./{data_folder}/firefox_resistFP_33ms_unisolated_authentication.csv')\n",
    "\n",
    "\n",
    "# classification perf\n",
    "print(\"Classification Performance\")\n",
    "compare_classification_performance(original_classification_perf, firefox_rf_33ms_unisolated_classification_perf)\n",
    "print(\"\")\n",
    "\n",
    "# classification\n",
    "print('Classification')\n",
    "compare_classification(original_classification, firefox_rf_33ms_unisolated_classification)\n",
    "print(\"\")\n",
    "\n",
    "# authentication\n",
    "print('Authentication Performance')\n",
    "compare_authentication(original_authentication, firefox_rf_33ms_unisolated_authentication)"
   ]
  },
  {
   "cell_type": "code",
   "execution_count": 29,
   "metadata": {},
   "outputs": [
    {
     "name": "stdout",
     "output_type": "stream",
     "text": [
      "Classification Performance\n",
      "err r2_a24   :  5.48 % More  :   -0.48 %\n",
      "err r2_a234  :  4.76 % Less  :    0.24 %\n",
      "err r234_a23  :  6.19 % More  :   -0.95 %\n",
      "err comp mean:  10.82 % More  :   -1.01 %\n",
      "\n",
      "Classification\n",
      "better:   92 (12.17%)\n",
      "worse :  139 (18.39%)\n",
      "equal :  525 (69.44%)\n",
      "\n",
      "Authentication Performance\n",
      "False Reject Rate:    9.52 % more :  -1.90 %\n",
      "False Accept Rate:    3.70 % equal:   0.00 %\n"
     ]
    }
   ],
   "source": [
    "# firefox unisolated resist 40ms\n",
    "firefox_rf_40ms_unisolated_classification_perf = pd.read_csv(f'./{data_folder}/firefox_resistFP_40ms_unisolated_classification_performance.csv')\n",
    "firefox_rf_40ms_unisolated_classification = pd.read_csv(f'./{data_folder}/firefox_resistFP_40ms_unisolated_classification.csv')\n",
    "firefox_rf_40ms_unisolated_authentication = pd.read_csv(f'./{data_folder}/firefox_resistFP_40ms_unisolated_authentication.csv')\n",
    "\n",
    "\n",
    "# classification perf\n",
    "print(\"Classification Performance\")\n",
    "compare_classification_performance(original_classification_perf, firefox_rf_40ms_unisolated_classification_perf)\n",
    "print(\"\")\n",
    "\n",
    "# classification\n",
    "print('Classification')\n",
    "compare_classification(original_classification, firefox_rf_40ms_unisolated_classification)\n",
    "print(\"\")\n",
    "\n",
    "# authentication\n",
    "print('Authentication Performance')\n",
    "compare_authentication(original_authentication, firefox_rf_40ms_unisolated_authentication)"
   ]
  },
  {
   "cell_type": "code",
   "execution_count": 30,
   "metadata": {},
   "outputs": [
    {
     "name": "stdout",
     "output_type": "stream",
     "text": [
      "Classification Performance\n",
      "err r2_a24   :  4.76 % Less  :    0.24 %\n",
      "err r2_a234  :  4.52 % Less  :    0.48 %\n",
      "err r234_a23  :  6.19 % More  :   -0.95 %\n",
      "err comp mean:  12.16 % More  :   -2.34 %\n",
      "\n",
      "Classification\n",
      "better:   85 (11.24%)\n",
      "worse :  177 (23.41%)\n",
      "equal :  494 (65.34%)\n",
      "\n",
      "Authentication Performance\n",
      "False Reject Rate:   11.67 % more :  -4.05 %\n",
      "False Accept Rate:    3.70 % equal:   0.00 %\n"
     ]
    }
   ],
   "source": [
    "# firefox unisolated resist 60ms\n",
    "firefox_rf_60ms_unisolated_classification_perf = pd.read_csv(f'./{data_folder}/firefox_resistFP_60ms_unisolated_classification_performance.csv')\n",
    "firefox_rf_60ms_unisolated_classification = pd.read_csv(f'./{data_folder}/firefox_resistFP_60ms_unisolated_classification.csv')\n",
    "firefox_rf_60ms_unisolated_authentication = pd.read_csv(f'./{data_folder}/firefox_resistFP_60ms_unisolated_authentication.csv')\n",
    "\n",
    "\n",
    "# classification perf\n",
    "print(\"Classification Performance\")\n",
    "compare_classification_performance(original_classification_perf, firefox_rf_60ms_unisolated_classification_perf)\n",
    "print(\"\")\n",
    "\n",
    "# classification\n",
    "print('Classification')\n",
    "compare_classification(original_classification, firefox_rf_60ms_unisolated_classification)\n",
    "print(\"\")\n",
    "\n",
    "# authentication\n",
    "print('Authentication Performance')\n",
    "compare_authentication(original_authentication, firefox_rf_60ms_unisolated_authentication)"
   ]
  },
  {
   "cell_type": "code",
   "execution_count": 31,
   "metadata": {},
   "outputs": [
    {
     "name": "stdout",
     "output_type": "stream",
     "text": [
      "Classification Performance\n",
      "err r2_a24   :  6.9 % More  :   -1.90 %\n",
      "err r2_a234  :  6.67 % More  :   -1.67 %\n",
      "err r234_a23  :  6.67 % More  :   -1.43 %\n",
      "err comp mean:  14.17 % More  :   -4.35 %\n",
      "\n",
      "Classification\n",
      "better:   65 ( 8.60%)\n",
      "worse :  205 (27.12%)\n",
      "equal :  486 (64.29%)\n",
      "\n",
      "Authentication Performance\n",
      "False Reject Rate:   15.95 % more :  -8.33 %\n",
      "False Accept Rate:    3.70 % equal:   0.00 %\n"
     ]
    }
   ],
   "source": [
    "# firefox unisolated resist 80ms\n",
    "firefox_rf_80ms_unisolated_classification_perf = pd.read_csv(f'./{data_folder}/firefox_resistFP_80ms_unisolated_classification_performance.csv')\n",
    "firefox_rf_80ms_unisolated_classification = pd.read_csv(f'./{data_folder}/firefox_resistFP_80ms_unisolated_classification.csv')\n",
    "firefox_rf_80ms_unisolated_authentication = pd.read_csv(f'./{data_folder}/firefox_resistFP_80ms_unisolated_authentication.csv')\n",
    "\n",
    "\n",
    "# classification perf\n",
    "print(\"Classification Performance\")\n",
    "compare_classification_performance(original_classification_perf, firefox_rf_80ms_unisolated_classification_perf)\n",
    "print(\"\")\n",
    "\n",
    "# classification\n",
    "print('Classification')\n",
    "compare_classification(original_classification, firefox_rf_80ms_unisolated_classification)\n",
    "print(\"\")\n",
    "\n",
    "# authentication\n",
    "print('Authentication Performance')\n",
    "compare_authentication(original_authentication, firefox_rf_80ms_unisolated_authentication)"
   ]
  },
  {
   "cell_type": "code",
   "execution_count": 32,
   "metadata": {},
   "outputs": [
    {
     "name": "stdout",
     "output_type": "stream",
     "text": [
      "Classification Performance\n",
      "err r2_a24   :  7.62 % More  :   -2.62 %\n",
      "err r2_a234  :  6.9 % More  :   -1.90 %\n",
      "err r234_a23  :  8.1 % More  :   -2.86 %\n",
      "err comp mean:  16.42 % More  :   -6.60 %\n",
      "\n",
      "Classification\n",
      "better:   65 ( 8.60%)\n",
      "worse :  258 (34.13%)\n",
      "equal :  433 (57.28%)\n",
      "\n",
      "Authentication Performance\n",
      "False Reject Rate:   19.29 % more : -11.67 %\n",
      "False Accept Rate:    3.70 % equal:   0.00 %\n"
     ]
    }
   ],
   "source": [
    "# firefox unisolated resist 100ms\n",
    "firefox_rf_100ms_unisolated_classification_perf = pd.read_csv(f'./{data_folder}/firefox_resistFP_100ms_unisolated_classification_performance.csv')\n",
    "firefox_rf_100ms_unisolated_classification = pd.read_csv(f'./{data_folder}/firefox_resistFP_100ms_unisolated_classification.csv')\n",
    "firefox_rf_100ms_unisolated_authentication = pd.read_csv(f'./{data_folder}/firefox_resistFP_100ms_unisolated_authentication.csv')\n",
    "\n",
    "\n",
    "# classification perf\n",
    "print(\"Classification Performance\")\n",
    "compare_classification_performance(original_classification_perf, firefox_rf_100ms_unisolated_classification_perf)\n",
    "print(\"\")\n",
    "\n",
    "# classification\n",
    "print('Classification')\n",
    "compare_classification(original_classification, firefox_rf_100ms_unisolated_classification)\n",
    "print(\"\")\n",
    "\n",
    "# authentication\n",
    "print('Authentication Performance')\n",
    "compare_authentication(original_authentication, firefox_rf_100ms_unisolated_authentication)"
   ]
  },
  {
   "cell_type": "code",
   "execution_count": 33,
   "metadata": {},
   "outputs": [
    {
     "name": "stdout",
     "output_type": "stream",
     "text": [
      "Classification Performance\n",
      "err r2_a24   :  9.29 % More  :   -4.29 %\n",
      "err r2_a234  :  8.1 % More  :   -3.10 %\n",
      "err r234_a23  :  10.48 % More  :   -5.24 %\n",
      "err comp mean:  18.93 % More  :   -9.11 %\n",
      "\n",
      "Classification\n",
      "better:   63 ( 8.33%)\n",
      "worse :  296 (39.15%)\n",
      "equal :  397 (52.51%)\n",
      "\n",
      "Authentication Performance\n",
      "False Reject Rate:   23.57 % more : -15.95 %\n",
      "False Accept Rate:    3.70 % equal:   0.00 %\n"
     ]
    }
   ],
   "source": [
    "# firefox unisolated resist 120ms\n",
    "firefox_rf_120ms_unisolated_classification_perf = pd.read_csv(f'./{data_folder}/firefox_resistFP_120ms_unisolated_classification_performance.csv')\n",
    "firefox_rf_120ms_unisolated_classification = pd.read_csv(f'./{data_folder}/firefox_resistFP_120ms_unisolated_classification.csv')\n",
    "firefox_rf_120ms_unisolated_authentication = pd.read_csv(f'./{data_folder}/firefox_resistFP_120ms_unisolated_authentication.csv')\n",
    "\n",
    "\n",
    "# classification perf\n",
    "print(\"Classification Performance\")\n",
    "compare_classification_performance(original_classification_perf, firefox_rf_120ms_unisolated_classification_perf)\n",
    "print(\"\")\n",
    "\n",
    "# classification\n",
    "print('Classification')\n",
    "compare_classification(original_classification, firefox_rf_120ms_unisolated_classification)\n",
    "print(\"\")\n",
    "\n",
    "# authentication\n",
    "print('Authentication Performance')\n",
    "compare_authentication(original_authentication, firefox_rf_120ms_unisolated_authentication)"
   ]
  },
  {
   "cell_type": "code",
   "execution_count": 34,
   "metadata": {},
   "outputs": [
    {
     "name": "stdout",
     "output_type": "stream",
     "text": [
      "Classification Performance\n",
      "err r2_a24   :  9.76 % More  :   -4.76 %\n",
      "err r2_a234  :  9.52 % More  :   -4.52 %\n",
      "err r234_a23  :  10.71 % More  :   -5.48 %\n",
      "err comp mean:  18.72 % More  :   -8.90 %\n",
      "\n",
      "Classification\n",
      "better:   65 ( 8.60%)\n",
      "worse :  332 (43.92%)\n",
      "equal :  359 (47.49%)\n",
      "\n",
      "Authentication Performance\n",
      "False Reject Rate:   28.81 % more : -21.19 %\n",
      "False Accept Rate:    3.70 % equal:   0.00 %\n"
     ]
    }
   ],
   "source": [
    "# firefox unisolated resist 140ms\n",
    "firefox_rf_140ms_unisolated_classification_perf = pd.read_csv(f'./{data_folder}/firefox_resistFP_140ms_unisolated_classification_performance.csv')\n",
    "firefox_rf_140ms_unisolated_classification = pd.read_csv(f'./{data_folder}/firefox_resistFP_140ms_unisolated_classification.csv')\n",
    "firefox_rf_140ms_unisolated_authentication = pd.read_csv(f'./{data_folder}/firefox_resistFP_140ms_unisolated_authentication.csv')\n",
    "\n",
    "\n",
    "# classification perf\n",
    "print(\"Classification Performance\")\n",
    "compare_classification_performance(original_classification_perf, firefox_rf_140ms_unisolated_classification_perf)\n",
    "print(\"\")\n",
    "\n",
    "# classification\n",
    "print('Classification')\n",
    "compare_classification(original_classification, firefox_rf_140ms_unisolated_classification)\n",
    "print(\"\")\n",
    "\n",
    "# authentication\n",
    "print('Authentication Performance')\n",
    "compare_authentication(original_authentication, firefox_rf_140ms_unisolated_authentication)"
   ]
  },
  {
   "cell_type": "code",
   "execution_count": 35,
   "metadata": {},
   "outputs": [
    {
     "name": "stdout",
     "output_type": "stream",
     "text": [
      "Classification Performance\n",
      "err r2_a24   :  13.33 % More  :   -8.33 %\n",
      "err r2_a234  :  12.86 % More  :   -7.86 %\n",
      "err r234_a23  :  11.67 % More  :   -6.43 %\n",
      "err comp mean:  23.61 % More  :  -13.79 %\n",
      "\n",
      "Classification\n",
      "better:   31 ( 4.10%)\n",
      "worse :  377 (49.87%)\n",
      "equal :  348 (46.03%)\n",
      "\n",
      "Authentication Performance\n",
      "False Reject Rate:   34.29 % more : -26.67 %\n",
      "False Accept Rate:    3.70 % equal:   0.00 %\n"
     ]
    }
   ],
   "source": [
    "# firefox unisolated resist 160ms\n",
    "firefox_rf_160ms_unisolated_classification_perf = pd.read_csv(f'./{data_folder}/firefox_resistFP_160ms_unisolated_classification_performance.csv')\n",
    "firefox_rf_160ms_unisolated_classification = pd.read_csv(f'./{data_folder}/firefox_resistFP_160ms_unisolated_classification.csv')\n",
    "firefox_rf_160ms_unisolated_authentication = pd.read_csv(f'./{data_folder}/firefox_resistFP_160ms_unisolated_authentication.csv')\n",
    "\n",
    "\n",
    "# classification perf\n",
    "print(\"Classification Performance\")\n",
    "compare_classification_performance(original_classification_perf, firefox_rf_160ms_unisolated_classification_perf)\n",
    "print(\"\")\n",
    "\n",
    "# classification\n",
    "print('Classification')\n",
    "compare_classification(original_classification, firefox_rf_160ms_unisolated_classification)\n",
    "print(\"\")\n",
    "\n",
    "# authentication\n",
    "print('Authentication Performance')\n",
    "compare_authentication(original_authentication, firefox_rf_160ms_unisolated_authentication)"
   ]
  },
  {
   "cell_type": "code",
   "execution_count": 36,
   "metadata": {},
   "outputs": [
    {
     "name": "stdout",
     "output_type": "stream",
     "text": [
      "Classification Performance\n",
      "err r2_a24   :  13.81 % More  :   -8.81 %\n",
      "err r2_a234  :  11.67 % More  :   -6.67 %\n",
      "err r234_a23  :  14.52 % More  :   -9.29 %\n",
      "err comp mean:  25.32 % More  :  -15.50 %\n",
      "\n",
      "Classification\n",
      "better:   38 ( 5.03%)\n",
      "worse :  418 (55.29%)\n",
      "equal :  300 (39.68%)\n",
      "\n",
      "Authentication Performance\n",
      "False Reject Rate:   40.71 % more : -33.10 %\n",
      "False Accept Rate:    3.70 % equal:   0.00 %\n"
     ]
    }
   ],
   "source": [
    "# firefox unisolated resist 180ms\n",
    "firefox_rf_180ms_unisolated_classification_perf = pd.read_csv(f'./{data_folder}/firefox_resistFP_180ms_unisolated_classification_performance.csv')\n",
    "firefox_rf_180ms_unisolated_classification = pd.read_csv(f'./{data_folder}/firefox_resistFP_180ms_unisolated_classification.csv')\n",
    "firefox_rf_180ms_unisolated_authentication = pd.read_csv(f'./{data_folder}/firefox_resistFP_180ms_unisolated_authentication.csv')\n",
    "\n",
    "\n",
    "# classification perf\n",
    "print(\"Classification Performance\")\n",
    "compare_classification_performance(original_classification_perf, firefox_rf_180ms_unisolated_classification_perf)\n",
    "print(\"\")\n",
    "\n",
    "# classification\n",
    "print('Classification')\n",
    "compare_classification(original_classification, firefox_rf_180ms_unisolated_classification)\n",
    "print(\"\")\n",
    "\n",
    "# authentication\n",
    "print('Authentication Performance')\n",
    "compare_authentication(original_authentication, firefox_rf_180ms_unisolated_authentication)"
   ]
  },
  {
   "cell_type": "code",
   "execution_count": 37,
   "metadata": {},
   "outputs": [
    {
     "name": "stdout",
     "output_type": "stream",
     "text": [
      "Classification Performance\n",
      "err r2_a24   :  19.52 % More  :  -14.52 %\n",
      "err r2_a234  :  19.29 % More  :  -14.29 %\n",
      "err r234_a23  :  14.76 % More  :   -9.52 %\n",
      "err comp mean:  28.8 % More  :  -18.98 %\n",
      "\n",
      "Classification\n",
      "better:   23 ( 3.04%)\n",
      "worse :  447 (59.13%)\n",
      "equal :  286 (37.83%)\n",
      "\n",
      "Authentication Performance\n",
      "False Reject Rate:   43.81 % more : -36.19 %\n",
      "False Accept Rate:    3.70 % equal:   0.00 %\n"
     ]
    }
   ],
   "source": [
    "# firefox unisolated resist 200ms\n",
    "firefox_rf_200ms_unisolated_classification_perf = pd.read_csv(f'./{data_folder}/firefox_resistFP_200ms_unisolated_classification_performance.csv')\n",
    "firefox_rf_200ms_unisolated_classification = pd.read_csv(f'./{data_folder}/firefox_resistFP_200ms_unisolated_classification.csv')\n",
    "firefox_rf_200ms_unisolated_authentication = pd.read_csv(f'./{data_folder}/firefox_resistFP_200ms_unisolated_authentication.csv')\n",
    "\n",
    "\n",
    "# classification perf\n",
    "print(\"Classification Performance\")\n",
    "compare_classification_performance(original_classification_perf, firefox_rf_200ms_unisolated_classification_perf)\n",
    "print(\"\")\n",
    "\n",
    "# classification\n",
    "print('Classification')\n",
    "compare_classification(original_classification, firefox_rf_200ms_unisolated_classification)\n",
    "print(\"\")\n",
    "\n",
    "# authentication\n",
    "print('Authentication Performance')\n",
    "compare_authentication(original_authentication, firefox_rf_200ms_unisolated_authentication)"
   ]
  },
  {
   "cell_type": "code",
   "execution_count": 38,
   "metadata": {},
   "outputs": [
    {
     "name": "stdout",
     "output_type": "stream",
     "text": [
      "Classification Performance\n",
      "err r2_a24   :  4.76 % Less  :    0.24 %\n",
      "err r2_a234  :  4.29 % Less  :    0.71 %\n",
      "err r234_a23  :  5.24 % Equal :    0.00 %\n",
      "err comp mean:  9.51 % Less  :    0.30 %\n",
      "\n",
      "Classification\n",
      "better:   89 (11.77%)\n",
      "worse :   75 ( 9.92%)\n",
      "equal :  592 (78.31%)\n",
      "\n",
      "Authentication Performance\n",
      "False Reject Rate:    8.10 % more :  -0.48 %\n",
      "False Accept Rate:    3.70 % equal:   0.00 %\n"
     ]
    }
   ],
   "source": [
    "# firefox unisolated resist NJ\n",
    "firefox_rf_NJ_unisolated_classification_perf = pd.read_csv(f'./{data_folder}/firefox_resistFP_NJ_unisolated_classification_performance.csv')\n",
    "firefox_rf_NJ_unisolated_classification = pd.read_csv(f'./{data_folder}/firefox_resistFP_NJ_unisolated_classification.csv')\n",
    "firefox_rf_NJ_unisolated_authentication = pd.read_csv(f'./{data_folder}/firefox_resistFP_NJ_unisolated_authentication.csv')\n",
    "\n",
    "\n",
    "# classification perf\n",
    "print(\"Classification Performance\")\n",
    "compare_classification_performance(original_classification_perf, firefox_rf_NJ_unisolated_classification_perf)\n",
    "print(\"\")\n",
    "\n",
    "# classification\n",
    "print('Classification')\n",
    "compare_classification(original_classification, firefox_rf_NJ_unisolated_classification)\n",
    "print(\"\")\n",
    "\n",
    "# authentication\n",
    "print('Authentication Performance')\n",
    "compare_authentication(original_authentication, firefox_rf_NJ_unisolated_authentication)"
   ]
  },
  {
   "cell_type": "code",
   "execution_count": 39,
   "metadata": {},
   "outputs": [
    {
     "name": "stdout",
     "output_type": "stream",
     "text": [
      "Classification Performance\n",
      "err r2_a24   :  4.52 % Less  :    0.48 %\n",
      "err r2_a234  :  4.52 % Less  :    0.48 %\n",
      "err r234_a23  :  5.24 % Equal :    0.00 %\n",
      "err comp mean:  8.84 % Less  :    0.98 %\n",
      "\n",
      "Classification\n",
      "better:  102 (13.49%)\n",
      "worse :   73 ( 9.66%)\n",
      "equal :  581 (76.85%)\n",
      "\n",
      "Authentication Performance\n",
      "False Reject Rate:    7.86 % more :  -0.24 %\n",
      "False Accept Rate:    3.70 % equal:   0.00 %\n"
     ]
    }
   ],
   "source": [
    "# firefox unisolated resist 20ms NJ\n",
    "firefox_rf_20ms_NJ_unisolated_classification_perf = pd.read_csv(f'./{data_folder}/firefox_resistFP_20ms_NJ_unisolated_classification_performance.csv')\n",
    "firefox_rf_20ms_NJ_unisolated_classification = pd.read_csv(f'./{data_folder}/firefox_resistFP_20ms_NJ_unisolated_classification.csv')\n",
    "firefox_rf_20ms_NJ_unisolated_authentication = pd.read_csv(f'./{data_folder}/firefox_resistFP_20ms_NJ_unisolated_authentication.csv')\n",
    "\n",
    "\n",
    "# classification perf\n",
    "print(\"Classification Performance\")\n",
    "compare_classification_performance(original_classification_perf, firefox_rf_20ms_NJ_unisolated_classification_perf)\n",
    "print(\"\")\n",
    "\n",
    "# classification\n",
    "print('Classification')\n",
    "compare_classification(original_classification, firefox_rf_20ms_NJ_unisolated_classification)\n",
    "print(\"\")\n",
    "\n",
    "# authentication\n",
    "print('Authentication Performance')\n",
    "compare_authentication(original_authentication, firefox_rf_20ms_NJ_unisolated_authentication)"
   ]
  },
  {
   "cell_type": "code",
   "execution_count": 40,
   "metadata": {},
   "outputs": [
    {
     "name": "stdout",
     "output_type": "stream",
     "text": [
      "Classification Performance\n",
      "err r2_a24   :  4.29 % Less  :    0.71 %\n",
      "err r2_a234  :  4.05 % Less  :    0.95 %\n",
      "err r234_a23  :  5.24 % Equal :    0.00 %\n",
      "err comp mean:  8.8 % Less  :    1.02 %\n",
      "\n",
      "Classification\n",
      "better:  107 (14.15%)\n",
      "worse :   87 (11.51%)\n",
      "equal :  562 (74.34%)\n",
      "\n",
      "Authentication Performance\n",
      "False Reject Rate:    7.86 % more :  -0.24 %\n",
      "False Accept Rate:    3.70 % equal:   0.00 %\n"
     ]
    }
   ],
   "source": [
    "# firefox unisolated resist 33ms NJ\n",
    "firefox_rf_33ms_NJ_unisolated_classification_perf = pd.read_csv(f'./{data_folder}/firefox_resistFP_33ms_NJ_unisolated_classification_performance.csv')\n",
    "firefox_rf_33ms_NJ_unisolated_classification = pd.read_csv(f'./{data_folder}/firefox_resistFP_33ms_NJ_unisolated_classification.csv')\n",
    "firefox_rf_33ms_NJ_unisolated_authentication = pd.read_csv(f'./{data_folder}/firefox_resistFP_33ms_NJ_unisolated_authentication.csv')\n",
    "\n",
    "\n",
    "# classification perf\n",
    "print(\"Classification Performance\")\n",
    "compare_classification_performance(original_classification_perf, firefox_rf_33ms_NJ_unisolated_classification_perf)\n",
    "print(\"\")\n",
    "\n",
    "# classification\n",
    "print('Classification')\n",
    "compare_classification(original_classification, firefox_rf_33ms_NJ_unisolated_classification)\n",
    "print(\"\")\n",
    "\n",
    "# authentication\n",
    "print('Authentication Performance')\n",
    "compare_authentication(original_authentication, firefox_rf_33ms_NJ_unisolated_authentication)"
   ]
  },
  {
   "cell_type": "code",
   "execution_count": 41,
   "metadata": {},
   "outputs": [
    {
     "name": "stdout",
     "output_type": "stream",
     "text": [
      "Classification Performance\n",
      "err r2_a24   :  4.05 % Less  :    0.95 %\n",
      "err r2_a234  :  3.57 % Less  :    1.43 %\n",
      "err r234_a23  :  5.48 % More  :   -0.24 %\n",
      "err comp mean:  8.64 % Less  :    1.18 %\n",
      "\n",
      "Classification\n",
      "better:  110 (14.55%)\n",
      "worse :   89 (11.77%)\n",
      "equal :  557 (73.68%)\n",
      "\n",
      "Authentication Performance\n",
      "False Reject Rate:    7.86 % more :  -0.24 %\n",
      "False Accept Rate:    3.70 % equal:   0.00 %\n"
     ]
    }
   ],
   "source": [
    "# firefox unisolated resist 40ms NJ\n",
    "firefox_rf_40ms_NJ_unisolated_classification_perf = pd.read_csv(f'./{data_folder}/firefox_resistFP_40ms_NJ_unisolated_classification_performance.csv')\n",
    "firefox_rf_40ms_NJ_unisolated_classification = pd.read_csv(f'./{data_folder}/firefox_resistFP_40ms_NJ_unisolated_classification.csv')\n",
    "firefox_rf_40ms_NJ_unisolated_authentication = pd.read_csv(f'./{data_folder}/firefox_resistFP_40ms_NJ_unisolated_authentication.csv')\n",
    "\n",
    "\n",
    "# classification perf\n",
    "print(\"Classification Performance\")\n",
    "compare_classification_performance(original_classification_perf, firefox_rf_40ms_NJ_unisolated_classification_perf)\n",
    "print(\"\")\n",
    "\n",
    "# classification\n",
    "print('Classification')\n",
    "compare_classification(original_classification, firefox_rf_40ms_NJ_unisolated_classification)\n",
    "print(\"\")\n",
    "\n",
    "# authentication\n",
    "print('Authentication Performance')\n",
    "compare_authentication(original_authentication, firefox_rf_40ms_NJ_unisolated_authentication)"
   ]
  },
  {
   "cell_type": "code",
   "execution_count": 42,
   "metadata": {},
   "outputs": [
    {
     "name": "stdout",
     "output_type": "stream",
     "text": [
      "Classification Performance\n",
      "err r2_a24   :  4.29 % Less  :    0.71 %\n",
      "err r2_a234  :  4.05 % Less  :    0.95 %\n",
      "err r234_a23  :  5.24 % Equal :    0.00 %\n",
      "err comp mean:  9.89 % More  :   -0.07 %\n",
      "\n",
      "Classification\n",
      "better:  107 (14.15%)\n",
      "worse :  114 (15.08%)\n",
      "equal :  535 (70.77%)\n",
      "\n",
      "Authentication Performance\n",
      "False Reject Rate:    9.05 % more :  -1.43 %\n",
      "False Accept Rate:    3.70 % equal:   0.00 %\n"
     ]
    }
   ],
   "source": [
    "# firefox unisolated resist 60ms NJ\n",
    "firefox_rf_60ms_NJ_unisolated_classification_perf = pd.read_csv(f'./{data_folder}/firefox_resistFP_60ms_NJ_unisolated_classification_performance.csv')\n",
    "firefox_rf_60ms_NJ_unisolated_classification = pd.read_csv(f'./{data_folder}/firefox_resistFP_60ms_NJ_unisolated_classification.csv')\n",
    "firefox_rf_60ms_NJ_unisolated_authentication = pd.read_csv(f'./{data_folder}/firefox_resistFP_60ms_NJ_unisolated_authentication.csv')\n",
    "\n",
    "\n",
    "# classification perf\n",
    "print(\"Classification Performance\")\n",
    "compare_classification_performance(original_classification_perf, firefox_rf_60ms_NJ_unisolated_classification_perf)\n",
    "print(\"\")\n",
    "\n",
    "# classification\n",
    "print('Classification')\n",
    "compare_classification(original_classification, firefox_rf_60ms_NJ_unisolated_classification)\n",
    "print(\"\")\n",
    "\n",
    "# authentication\n",
    "print('Authentication Performance')\n",
    "compare_authentication(original_authentication, firefox_rf_60ms_NJ_unisolated_authentication)"
   ]
  },
  {
   "cell_type": "code",
   "execution_count": 43,
   "metadata": {},
   "outputs": [
    {
     "name": "stdout",
     "output_type": "stream",
     "text": [
      "Classification Performance\n",
      "err r2_a24   :  4.52 % Less  :    0.48 %\n",
      "err r2_a234  :  4.29 % Less  :    0.71 %\n",
      "err r234_a23  :  5.95 % More  :   -0.71 %\n",
      "err comp mean:  10.62 % More  :   -0.81 %\n",
      "\n",
      "Classification\n",
      "better:   98 (12.96%)\n",
      "worse :  144 (19.05%)\n",
      "equal :  514 (67.99%)\n",
      "\n",
      "Authentication Performance\n",
      "False Reject Rate:   11.90 % more :  -4.29 %\n",
      "False Accept Rate:    3.70 % equal:   0.00 %\n"
     ]
    }
   ],
   "source": [
    "# firefox unisolated resist 80ms NJ\n",
    "firefox_rf_80ms_NJ_unisolated_classification_perf = pd.read_csv(f'./{data_folder}/firefox_resistFP_80ms_NJ_unisolated_classification_performance.csv')\n",
    "firefox_rf_80ms_NJ_unisolated_classification = pd.read_csv(f'./{data_folder}/firefox_resistFP_80ms_NJ_unisolated_classification.csv')\n",
    "firefox_rf_80ms_NJ_unisolated_authentication = pd.read_csv(f'./{data_folder}/firefox_resistFP_80ms_NJ_unisolated_authentication.csv')\n",
    "\n",
    "\n",
    "# classification perf\n",
    "print(\"Classification Performance\")\n",
    "compare_classification_performance(original_classification_perf, firefox_rf_80ms_NJ_unisolated_classification_perf)\n",
    "print(\"\")\n",
    "\n",
    "# classification\n",
    "print('Classification')\n",
    "compare_classification(original_classification, firefox_rf_80ms_NJ_unisolated_classification)\n",
    "print(\"\")\n",
    "\n",
    "# authentication\n",
    "print('Authentication Performance')\n",
    "compare_authentication(original_authentication, firefox_rf_80ms_NJ_unisolated_authentication)"
   ]
  },
  {
   "cell_type": "code",
   "execution_count": 44,
   "metadata": {},
   "outputs": [
    {
     "name": "stdout",
     "output_type": "stream",
     "text": [
      "Classification Performance\n",
      "err r2_a24   :  5.95 % More  :   -0.95 %\n",
      "err r2_a234  :  6.43 % More  :   -1.43 %\n",
      "err r234_a23  :  6.67 % More  :   -1.43 %\n",
      "err comp mean:  12.96 % More  :   -3.14 %\n",
      "\n",
      "Classification\n",
      "better:   79 (10.45%)\n",
      "worse :  200 (26.46%)\n",
      "equal :  477 (63.10%)\n",
      "\n",
      "Authentication Performance\n",
      "False Reject Rate:   14.29 % more :  -6.67 %\n",
      "False Accept Rate:    3.70 % equal:   0.00 %\n"
     ]
    }
   ],
   "source": [
    "# firefox unisolated resist 100ms NJ\n",
    "firefox_rf_100ms_NJ_unisolated_classification_perf = pd.read_csv(f'./{data_folder}/firefox_resistFP_100ms_NJ_unisolated_classification_performance.csv')\n",
    "firefox_rf_100ms_NJ_unisolated_classification = pd.read_csv(f'./{data_folder}/firefox_resistFP_100ms_NJ_unisolated_classification.csv')\n",
    "firefox_rf_100ms_NJ_unisolated_authentication = pd.read_csv(f'./{data_folder}/firefox_resistFP_100ms_NJ_unisolated_authentication.csv')\n",
    "\n",
    "\n",
    "# classification perf\n",
    "print(\"Classification Performance\")\n",
    "compare_classification_performance(original_classification_perf, firefox_rf_100ms_NJ_unisolated_classification_perf)\n",
    "print(\"\")\n",
    "\n",
    "# classification\n",
    "print('Classification')\n",
    "compare_classification(original_classification, firefox_rf_100ms_NJ_unisolated_classification)\n",
    "print(\"\")\n",
    "\n",
    "# authentication\n",
    "print('Authentication Performance')\n",
    "compare_authentication(original_authentication, firefox_rf_100ms_NJ_unisolated_authentication)"
   ]
  },
  {
   "cell_type": "code",
   "execution_count": 45,
   "metadata": {},
   "outputs": [
    {
     "name": "stdout",
     "output_type": "stream",
     "text": [
      "Classification Performance\n",
      "err r2_a24   :  6.43 % More  :   -1.43 %\n",
      "err r2_a234  :  6.9 % More  :   -1.90 %\n",
      "err r234_a23  :  6.67 % More  :   -1.43 %\n",
      "err comp mean:  13.94 % More  :   -4.12 %\n",
      "\n",
      "Classification\n",
      "better:   73 ( 9.66%)\n",
      "worse :  204 (26.98%)\n",
      "equal :  479 (63.36%)\n",
      "\n",
      "Authentication Performance\n",
      "False Reject Rate:   14.29 % more :  -6.67 %\n",
      "False Accept Rate:    3.70 % equal:   0.00 %\n"
     ]
    }
   ],
   "source": [
    "# firefox unisolated resist 120ms NJ\n",
    "firefox_rf_120ms_NJ_unisolated_classification_perf = pd.read_csv(f'./{data_folder}/firefox_resistFP_120ms_NJ_unisolated_classification_performance.csv')\n",
    "firefox_rf_120ms_NJ_unisolated_classification = pd.read_csv(f'./{data_folder}/firefox_resistFP_120ms_NJ_unisolated_classification.csv')\n",
    "firefox_rf_120ms_NJ_unisolated_authentication = pd.read_csv(f'./{data_folder}/firefox_resistFP_120ms_NJ_unisolated_authentication.csv')\n",
    "\n",
    "\n",
    "# classification perf\n",
    "print(\"Classification Performance\")\n",
    "compare_classification_performance(original_classification_perf, firefox_rf_120ms_NJ_unisolated_classification_perf)\n",
    "print(\"\")\n",
    "\n",
    "# classification\n",
    "print('Classification')\n",
    "compare_classification(original_classification, firefox_rf_120ms_NJ_unisolated_classification)\n",
    "print(\"\")\n",
    "\n",
    "# authentication\n",
    "print('Authentication Performance')\n",
    "compare_authentication(original_authentication, firefox_rf_120ms_NJ_unisolated_authentication)"
   ]
  },
  {
   "cell_type": "code",
   "execution_count": 46,
   "metadata": {},
   "outputs": [
    {
     "name": "stdout",
     "output_type": "stream",
     "text": [
      "Classification Performance\n",
      "err r2_a24   :  9.29 % More  :   -4.29 %\n",
      "err r2_a234  :  10.71 % More  :   -5.71 %\n",
      "err r234_a23  :  6.9 % More  :   -1.67 %\n",
      "err comp mean:  18.25 % More  :   -8.43 %\n",
      "\n",
      "Classification\n",
      "better:   52 ( 6.88%)\n",
      "worse :  285 (37.70%)\n",
      "equal :  419 (55.42%)\n",
      "\n",
      "Authentication Performance\n",
      "False Reject Rate:   17.38 % more :  -9.76 %\n",
      "False Accept Rate:    3.70 % equal:   0.00 %\n"
     ]
    }
   ],
   "source": [
    "# firefox unisolated resist 140ms NJ\n",
    "firefox_rf_140ms_NJ_unisolated_classification_perf = pd.read_csv(f'./{data_folder}/firefox_resistFP_140ms_NJ_unisolated_classification_performance.csv')\n",
    "firefox_rf_140ms_NJ_unisolated_classification = pd.read_csv(f'./{data_folder}/firefox_resistFP_140ms_NJ_unisolated_classification.csv')\n",
    "firefox_rf_140ms_NJ_unisolated_authentication = pd.read_csv(f'./{data_folder}/firefox_resistFP_140ms_NJ_unisolated_authentication.csv')\n",
    "\n",
    "\n",
    "# classification perf\n",
    "print(\"Classification Performance\")\n",
    "compare_classification_performance(original_classification_perf, firefox_rf_140ms_NJ_unisolated_classification_perf)\n",
    "print(\"\")\n",
    "\n",
    "# classification\n",
    "print('Classification')\n",
    "compare_classification(original_classification, firefox_rf_140ms_NJ_unisolated_classification)\n",
    "print(\"\")\n",
    "\n",
    "# authentication\n",
    "print('Authentication Performance')\n",
    "compare_authentication(original_authentication, firefox_rf_140ms_NJ_unisolated_authentication)"
   ]
  },
  {
   "cell_type": "code",
   "execution_count": 47,
   "metadata": {},
   "outputs": [
    {
     "name": "stdout",
     "output_type": "stream",
     "text": [
      "Classification Performance\n",
      "err r2_a24   :  7.86 % More  :   -2.86 %\n",
      "err r2_a234  :  8.33 % More  :   -3.33 %\n",
      "err r234_a23  :  6.67 % More  :   -1.43 %\n",
      "err comp mean:  17.46 % More  :   -7.65 %\n",
      "\n",
      "Classification\n",
      "better:   45 ( 5.95%)\n",
      "worse :  265 (35.05%)\n",
      "equal :  446 (58.99%)\n",
      "\n",
      "Authentication Performance\n",
      "False Reject Rate:   15.24 % more :  -7.62 %\n",
      "False Accept Rate:    3.70 % equal:   0.00 %\n"
     ]
    }
   ],
   "source": [
    "# firefox unisolated resist 160ms NJ\n",
    "firefox_rf_160ms_NJ_unisolated_classification_perf = pd.read_csv(f'./{data_folder}/firefox_resistFP_160ms_NJ_unisolated_classification_performance.csv')\n",
    "firefox_rf_160ms_NJ_unisolated_classification = pd.read_csv(f'./{data_folder}/firefox_resistFP_160ms_NJ_unisolated_classification.csv')\n",
    "firefox_rf_160ms_NJ_unisolated_authentication = pd.read_csv(f'./{data_folder}/firefox_resistFP_160ms_NJ_unisolated_authentication.csv')\n",
    "\n",
    "\n",
    "# classification perf\n",
    "print(\"Classification Performance\")\n",
    "compare_classification_performance(original_classification_perf, firefox_rf_160ms_NJ_unisolated_classification_perf)\n",
    "print(\"\")\n",
    "\n",
    "# classification\n",
    "print('Classification')\n",
    "compare_classification(original_classification, firefox_rf_160ms_NJ_unisolated_classification)\n",
    "print(\"\")\n",
    "\n",
    "# authentication\n",
    "print('Authentication Performance')\n",
    "compare_authentication(original_authentication, firefox_rf_160ms_NJ_unisolated_authentication)"
   ]
  },
  {
   "cell_type": "code",
   "execution_count": 48,
   "metadata": {},
   "outputs": [
    {
     "name": "stdout",
     "output_type": "stream",
     "text": [
      "Classification Performance\n",
      "err r2_a24   :  8.81 % More  :   -3.81 %\n",
      "err r2_a234  :  8.81 % More  :   -3.81 %\n",
      "err r234_a23  :  8.33 % More  :   -3.10 %\n",
      "err comp mean:  17.66 % More  :   -7.85 %\n",
      "\n",
      "Classification\n",
      "better:   56 ( 7.41%)\n",
      "worse :  310 (41.01%)\n",
      "equal :  390 (51.59%)\n",
      "\n",
      "Authentication Performance\n",
      "False Reject Rate:   23.33 % more : -15.71 %\n",
      "False Accept Rate:    3.70 % equal:   0.00 %\n"
     ]
    }
   ],
   "source": [
    "# firefox unisolated resist 180ms NJ\n",
    "firefox_rf_180ms_NJ_unisolated_classification_perf = pd.read_csv(f'./{data_folder}/firefox_resistFP_180ms_NJ_unisolated_classification_performance.csv')\n",
    "firefox_rf_180ms_NJ_unisolated_classification = pd.read_csv(f'./{data_folder}/firefox_resistFP_180ms_NJ_unisolated_classification.csv')\n",
    "firefox_rf_180ms_NJ_unisolated_authentication = pd.read_csv(f'./{data_folder}/firefox_resistFP_180ms_NJ_unisolated_authentication.csv')\n",
    "\n",
    "\n",
    "# classification perf\n",
    "print(\"Classification Performance\")\n",
    "compare_classification_performance(original_classification_perf, firefox_rf_180ms_NJ_unisolated_classification_perf)\n",
    "print(\"\")\n",
    "\n",
    "# classification\n",
    "print('Classification')\n",
    "compare_classification(original_classification, firefox_rf_180ms_NJ_unisolated_classification)\n",
    "print(\"\")\n",
    "\n",
    "# authentication\n",
    "print('Authentication Performance')\n",
    "compare_authentication(original_authentication, firefox_rf_180ms_NJ_unisolated_authentication)"
   ]
  },
  {
   "cell_type": "code",
   "execution_count": 49,
   "metadata": {},
   "outputs": [
    {
     "name": "stdout",
     "output_type": "stream",
     "text": [
      "Classification Performance\n",
      "err r2_a24   :  11.9 % More  :   -6.90 %\n",
      "err r2_a234  :  13.1 % More  :   -8.10 %\n",
      "err r234_a23  :  9.52 % More  :   -4.29 %\n",
      "err comp mean:  20.03 % More  :  -10.21 %\n",
      "\n",
      "Classification\n",
      "better:   48 ( 6.35%)\n",
      "worse :  335 (44.31%)\n",
      "equal :  373 (49.34%)\n",
      "\n",
      "Authentication Performance\n",
      "False Reject Rate:   29.05 % more : -21.43 %\n",
      "False Accept Rate:    3.70 % equal:   0.00 %\n"
     ]
    }
   ],
   "source": [
    "# firefox unisolated resist 200ms NJ\n",
    "firefox_rf_200ms_NJ_unisolated_classification_perf = pd.read_csv(f'./{data_folder}/firefox_resistFP_200ms_NJ_unisolated_classification_performance.csv')\n",
    "firefox_rf_200ms_NJ_unisolated_classification = pd.read_csv(f'./{data_folder}/firefox_resistFP_200ms_NJ_unisolated_classification.csv')\n",
    "firefox_rf_200ms_NJ_unisolated_authentication = pd.read_csv(f'./{data_folder}/firefox_resistFP_200ms_NJ_unisolated_authentication.csv')\n",
    "\n",
    "\n",
    "# classification perf\n",
    "print(\"Classification Performance\")\n",
    "compare_classification_performance(original_classification_perf, firefox_rf_200ms_NJ_unisolated_classification_perf)\n",
    "print(\"\")\n",
    "\n",
    "# classification\n",
    "print('Classification')\n",
    "compare_classification(original_classification, firefox_rf_200ms_NJ_unisolated_classification)\n",
    "print(\"\")\n",
    "\n",
    "# authentication\n",
    "print('Authentication Performance')\n",
    "compare_authentication(original_authentication, firefox_rf_200ms_NJ_unisolated_authentication)"
   ]
  }
 ],
 "metadata": {
  "kernelspec": {
   "display_name": "Python 3",
   "language": "python",
   "name": "python3"
  },
  "language_info": {
   "codemirror_mode": {
    "name": "ipython",
    "version": 3
   },
   "file_extension": ".py",
   "mimetype": "text/x-python",
   "name": "python",
   "nbconvert_exporter": "python",
   "pygments_lexer": "ipython3",
   "version": "3.11.4"
  },
  "orig_nbformat": 4
 },
 "nbformat": 4,
 "nbformat_minor": 2
}
