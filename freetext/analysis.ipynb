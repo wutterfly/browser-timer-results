{
 "cells": [
  {
   "cell_type": "code",
   "execution_count": null,
   "metadata": {},
   "outputs": [],
   "source": [
    "# imports\n",
    "import pandas as pd\n",
    "import numpy as np"
   ]
  },
  {
   "cell_type": "code",
   "execution_count": null,
   "metadata": {},
   "outputs": [],
   "source": [
    "# load original\n",
    "original_classification = pd.read_csv('./__DATA/original_classification.csv')\n",
    "original_authentication = pd.read_csv('./__DATA/original_authentication.csv')"
   ]
  },
  {
   "cell_type": "code",
   "execution_count": null,
   "metadata": {},
   "outputs": [],
   "source": [
    "def compare_classification(original: pd.DataFrame, compare: pd.DataFrame)-> tuple[pd.DataFrame, tuple[int, int, int, int]]:\n",
    "    assert len(original) == len(compare)\n",
    "    diffs = original.subtract(compare)\n",
    "\n",
    "    total = len(diffs.columns) * 31\n",
    "    better_then_original = np.sum((diffs < 0).values.ravel())\n",
    "    worse_then_original = np.sum((diffs > 0).values.ravel())\n",
    "    equal_then_original = np.sum((diffs == 0).values.ravel())\n",
    "\n",
    "    assert total == better_then_original + worse_then_original + equal_then_original\n",
    "    \n",
    "    return (diffs, (total, better_then_original, worse_then_original,  equal_then_original))\n",
    "    \n",
    "    "
   ]
  },
  {
   "cell_type": "code",
   "execution_count": null,
   "metadata": {},
   "outputs": [],
   "source": [
    "def compare_authentication(original: pd.DataFrame, compare: pd.DataFrame) -> tuple[pd.DataFrame]:\n",
    "    assert len(original) == len(compare)\n",
    "    diff = original.set_index('Type').subtract(compare.set_index('Type'))\n",
    "    print(diff,\"\\n\")\n",
    "    return diff"
   ]
  },
  {
   "cell_type": "code",
   "execution_count": null,
   "metadata": {},
   "outputs": [],
   "source": [
    "# chrome isolated\n",
    "chrome_isolated_classification = pd.read_csv('./__DATA/chrome_isolated_classification.csv')\n",
    "chrome_isolated_authentication = pd.read_csv('./__DATA/chrome_isolated_authentication.csv')\n",
    "\n",
    "\n",
    "# classification\n",
    "(diffs, (total, better, worse, equal)) = compare_classification(original_classification, chrome_isolated_classification)\n",
    "diffs.to_csv('./__DATA/compare/compare_classification_original_chrome_isolated.csv', index=False)\n",
    "print('Classification')\n",
    "print(f'better: {better} ({(better / total) * 100:.2f}%)')\n",
    "print(f'worse: {worse} ({(worse / total) * 100:.2f}%)')\n",
    "print(f'equal: {equal} ({(equal / total) * 100:.2f}%)')\n",
    "\n",
    "print(\"\")\n",
    "\n",
    "# authentication\n",
    "print('Authentication')\n",
    "diffs = compare_authentication(original_authentication, chrome_isolated_authentication)\n",
    "diffs.to_csv('./__DATA/compare/compare_authentication_original_chrome_isolated.csv')"
   ]
  },
  {
   "cell_type": "code",
   "execution_count": null,
   "metadata": {},
   "outputs": [],
   "source": [
    "# chrome unisolated\n",
    "chrome_unisolated_classification = pd.read_csv('./__DATA/chrome_unisolated_classification.csv')\n",
    "chrome_unisolated_authentication = pd.read_csv('./__DATA/chrome_unisolated_authentication.csv')\n",
    "\n",
    "\n",
    "# classification\n",
    "(diffs, (total, better, worse, equal)) = compare_classification(original_classification, chrome_unisolated_classification)\n",
    "diffs.to_csv('./__DATA/compare/compare_classification_original_chrome_unisolated.csv', index=False)\n",
    "print('Classification')\n",
    "print(f'better: {better} ({(better / total) * 100:.2f}%)')\n",
    "print(f'worse: {worse} ({(worse / total) * 100:.2f}%)')\n",
    "print(f'equal: {equal} ({(equal / total) * 100:.2f}%)')\n",
    "\n",
    "print(\"\")\n",
    "\n",
    "# authentication\n",
    "print('Authentication')\n",
    "diffs = compare_authentication(original_authentication, chrome_unisolated_authentication)\n",
    "diffs.to_csv('./__DATA/compare/compare_authentication_original_chrome_unisolated.csv')"
   ]
  },
  {
   "cell_type": "code",
   "execution_count": null,
   "metadata": {},
   "outputs": [],
   "source": [
    "# chromium isolated\n",
    "chromium_isolated_classification = pd.read_csv('./__DATA/chromium_isolated_classification.csv')\n",
    "chromium_isolated_authentication = pd.read_csv('./__DATA/chromium_isolated_authentication.csv')\n",
    "\n",
    "\n",
    "# classification\n",
    "(diffs, (total, better, worse, equal)) = compare_classification(original_classification, chromium_isolated_classification)\n",
    "diffs.to_csv('./__DATA/compare/compare_classification_original_chromium_isolated.csv', index=False)\n",
    "print('Classification')\n",
    "print(f'better: {better} ({(better / total) * 100:.2f}%)')\n",
    "print(f'worse: {worse} ({(worse / total) * 100:.2f}%)')\n",
    "print(f'equal: {equal} ({(equal / total) * 100:.2f}%)')\n",
    "\n",
    "print(\"\")\n",
    "\n",
    "# authentication\n",
    "print('Authentication')\n",
    "diffs = compare_authentication(original_authentication, chromium_isolated_authentication)\n",
    "diffs.to_csv('./__DATA/compare/compare_authentication_original_chromium_isolated.csv')"
   ]
  },
  {
   "cell_type": "code",
   "execution_count": null,
   "metadata": {},
   "outputs": [],
   "source": [
    "# chromium unisolated\n",
    "chromium_unisolated_classification = pd.read_csv('./__DATA/chromium_unisolated_classification.csv')\n",
    "chromium_unisolated_authentication = pd.read_csv('./__DATA/chromium_unisolated_authentication.csv')\n",
    "\n",
    "\n",
    "# classification\n",
    "(diffs, (total, better, worse, equal)) = compare_classification(original_classification, chromium_unisolated_classification)\n",
    "diffs.to_csv('./__DATA/compare/compare_classification_original_chromium_unisolated.csv', index=False)\n",
    "print('Classification')\n",
    "print(f'better: {better} ({(better / total) * 100:.2f}%)')\n",
    "print(f'worse: {worse} ({(worse / total) * 100:.2f}%)')\n",
    "print(f'equal: {equal} ({(equal / total) * 100:.2f}%)')\n",
    "\n",
    "print(\"\")\n",
    "\n",
    "# authentication\n",
    "print('Authentication')\n",
    "diffs = compare_authentication(original_authentication, chromium_unisolated_authentication)\n",
    "diffs.to_csv('./__DATA/compare/compare_authentication_original_chromium_unisolated.csv')"
   ]
  },
  {
   "cell_type": "code",
   "execution_count": null,
   "metadata": {},
   "outputs": [],
   "source": [
    "# tor unisolated\n",
    "tor_unisolated_classification = pd.read_csv('./__DATA/tor_unisolated_classification.csv')\n",
    "tor_unisolated_authentication = pd.read_csv('./__DATA/tor_unisolated_authentication.csv')\n",
    "\n",
    "\n",
    "# classification\n",
    "(diffs, (total, better, worse, equal)) = compare_classification(original_classification, tor_unisolated_classification)\n",
    "diffs.to_csv('./__DATA/compare/compare_classification_original_tor_unisolated.csv', index=False)\n",
    "print('Classification')\n",
    "print(f'better: {better} ({(better / total) * 100:.2f}%)')\n",
    "print(f'worse: {worse} ({(worse / total) * 100:.2f}%)')\n",
    "print(f'equal: {equal} ({(equal / total) * 100:.2f}%)')\n",
    "\n",
    "print(\"\")\n",
    "\n",
    "# authentication\n",
    "print('Authentication')\n",
    "diffs = compare_authentication(original_authentication, tor_unisolated_authentication)\n",
    "diffs.to_csv('./__DATA/compare/compare_authentication_original_tor_unisolated.csv')"
   ]
  },
  {
   "cell_type": "code",
   "execution_count": null,
   "metadata": {},
   "outputs": [],
   "source": [
    "# firefox unisolated resist\n",
    "firefox_rf_unisolated_classification = pd.read_csv('./__DATA/firefox_resistFP_unisolated_classification.csv')\n",
    "firefox_rf_unisolated_authentication = pd.read_csv('./__DATA/firefox_resistFP_unisolated_authentication.csv')\n",
    "\n",
    "\n",
    "# classification\n",
    "(diffs, (total, better, worse, equal)) = compare_classification(original_classification, firefox_rf_unisolated_classification)\n",
    "diffs.to_csv('./__DATA/compare/compare_classification_original_firefox_resistFP_unisolated.csv', index=False)\n",
    "print('Classification')\n",
    "print(f'better: {better} ({(better / total) * 100:.2f}%)')\n",
    "print(f'worse: {worse} ({(worse / total) * 100:.2f}%)')\n",
    "print(f'equal: {equal} ({(equal / total) * 100:.2f}%)')\n",
    "\n",
    "print(\"\")\n",
    "\n",
    "# authentication\n",
    "print('Authentication')\n",
    "diffs = compare_authentication(original_authentication, firefox_rf_unisolated_authentication)\n",
    "diffs.to_csv('./__DATA/compare/compare_authentication_original_firefox_resistFP_unisolated.csv')"
   ]
  }
 ],
 "metadata": {
  "kernelspec": {
   "display_name": "Python 3",
   "language": "python",
   "name": "python3"
  },
  "language_info": {
   "codemirror_mode": {
    "name": "ipython",
    "version": 3
   },
   "file_extension": ".py",
   "mimetype": "text/x-python",
   "name": "python",
   "nbconvert_exporter": "python",
   "pygments_lexer": "ipython3",
   "version": "3.11.4"
  },
  "orig_nbformat": 4
 },
 "nbformat": 4,
 "nbformat_minor": 2
}
