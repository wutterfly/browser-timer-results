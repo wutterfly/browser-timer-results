{
 "cells": [
  {
   "cell_type": "code",
   "execution_count": 89,
   "metadata": {},
   "outputs": [],
   "source": [
    "# imports\n",
    "import pandas as pd\n",
    "import numpy as np"
   ]
  },
  {
   "cell_type": "code",
   "execution_count": 90,
   "metadata": {},
   "outputs": [],
   "source": [
    "# load original\n",
    "original_classification = pd.read_csv('./__DATA/original_classification.csv')\n",
    "original_authentication = pd.read_csv('./__DATA/original_authentication.csv')"
   ]
  },
  {
   "cell_type": "code",
   "execution_count": 91,
   "metadata": {},
   "outputs": [],
   "source": [
    "def compare_classification(original: pd.DataFrame, compare: pd.DataFrame)-> tuple[pd.DataFrame, tuple[int, int, int, int]]:\n",
    "    assert len(original) == len(compare)\n",
    "    diffs = original.subtract(compare)\n",
    "\n",
    "    total = len(diffs.columns) * 31\n",
    "    better_then_original = np.sum((diffs < 0).values.ravel())\n",
    "    worse_then_original = np.sum((diffs > 0).values.ravel())\n",
    "    equal_then_original = np.sum((diffs == 0).values.ravel())\n",
    "\n",
    "    assert total == better_then_original + worse_then_original + equal_then_original\n",
    "    \n",
    "    return (diffs, (total, better_then_original, worse_then_original,  equal_then_original))\n",
    "    \n",
    "    "
   ]
  },
  {
   "cell_type": "code",
   "execution_count": 92,
   "metadata": {},
   "outputs": [],
   "source": [
    "def compare_authentication(original: pd.DataFrame, compare: pd.DataFrame) -> tuple[pd.DataFrame]:\n",
    "    assert len(original) == len(compare)\n",
    "    diff = original.set_index('Type').subtract(compare.set_index('Type'))\n",
    "    print(diff,\"\\n\")\n",
    "    return diff"
   ]
  },
  {
   "cell_type": "code",
   "execution_count": 93,
   "metadata": {},
   "outputs": [
    {
     "name": "stdout",
     "output_type": "stream",
     "text": [
      "better: 41 (4.90%)\n",
      "worse: 69 (8.24%)\n",
      "equal: 727 (86.86%)\n",
      "              Attempts  Result\n",
      "Type                          \n",
      "False Reject         0       0\n",
      "False Accept         0       0 \n",
      "\n"
     ]
    }
   ],
   "source": [
    "# chrome isolated\n",
    "chrome_isolated_classification = pd.read_csv('./__DATA/chrome_isolated_classification.csv')\n",
    "chrome_isolated_authentication = pd.read_csv('./__DATA/chrome_isolated_authentication.csv')\n",
    "\n",
    "\n",
    "# classification\n",
    "(diffs, (total, better, worse, equal)) = compare_classification(original_classification, chrome_isolated_classification)\n",
    "diffs.to_csv('./__DATA/compare/compare_classification_original_chrome_isolated.csv', index=False)\n",
    "print(f'better: {better} ({(better / total) * 100:.2f}%)')\n",
    "print(f'worse: {worse} ({(worse / total) * 100:.2f}%)')\n",
    "print(f'equal: {equal} ({(equal / total) * 100:.2f}%)')\n",
    "\n",
    "# authentication\n",
    "diffs = compare_authentication(original_authentication, chrome_isolated_authentication)\n",
    "diffs.to_csv('./__DATA/compare/compare_authentication_original_chrome_isolated.csv', index=False)\n",
    "\n"
   ]
  }
 ],
 "metadata": {
  "kernelspec": {
   "display_name": "Python 3",
   "language": "python",
   "name": "python3"
  },
  "language_info": {
   "codemirror_mode": {
    "name": "ipython",
    "version": 3
   },
   "file_extension": ".py",
   "mimetype": "text/x-python",
   "name": "python",
   "nbconvert_exporter": "python",
   "pygments_lexer": "ipython3",
   "version": "3.11.4"
  },
  "orig_nbformat": 4
 },
 "nbformat": 4,
 "nbformat_minor": 2
}
