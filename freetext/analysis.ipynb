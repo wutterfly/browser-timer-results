{
 "cells": [
  {
   "cell_type": "code",
   "execution_count": 133,
   "metadata": {},
   "outputs": [],
   "source": [
    "# imports\n",
    "import pandas as pd\n",
    "import numpy as np"
   ]
  },
  {
   "cell_type": "code",
   "execution_count": 134,
   "metadata": {},
   "outputs": [],
   "source": [
    "# load original\n",
    "original_classification_perf = pd.read_csv('./__DATA/original_classification_performance.csv')\n",
    "original_classification = pd.read_csv('./__DATA/original_classification.csv')\n",
    "original_authentication = pd.read_csv('./__DATA/original_authentication.csv')"
   ]
  },
  {
   "cell_type": "code",
   "execution_count": 135,
   "metadata": {},
   "outputs": [],
   "source": [
    "def compare_classification_performance(original: pd.DataFrame, compare: pd.DataFrame):\n",
    "    o_r2_a24 = original.iloc[16]['Error']\n",
    "    o_r2_a234 = original.iloc[17]['Error']\n",
    "    o_r23_a23 = original.iloc[19]['Error']\n",
    "    o_combined_raw = original['Error']\n",
    "    o_combined = sum(o_combined_raw) / len(o_combined_raw)\n",
    "\n",
    "\n",
    "    c_r2_a24 = compare.iloc[16]['Error']\n",
    "    c_r2_a234 = compare.iloc[17]['Error']\n",
    "    c_r23_a23 = compare.iloc[19]['Error']\n",
    "    c_combined_raw = compare['Error']\n",
    "    c_combined = sum(c_combined_raw) / len(c_combined_raw)\n",
    "\n",
    "\n",
    "    diff_r2_a24 = round(o_r2_a24 - c_r2_a24, 2)\n",
    "    diff_r2_a234 = round(o_r2_a234 - c_r2_a234, 2)\n",
    "    diff_r23_a2 = round(o_r23_a23 - c_r23_a23, 2)\n",
    "    diff_combined = round(o_combined - c_combined, 2)\n",
    "\n",
    "    if diff_r2_a24 == 0:\n",
    "        diff_r2_a24 = f'Equal : {diff_r2_a24:7.2f} %'\n",
    "    elif diff_r2_a24 > 0:\n",
    "        diff_r2_a24 = f'Less  : {diff_r2_a24:7.2f} %'\n",
    "    else:\n",
    "        diff_r2_a24 = f'More  : {diff_r2_a24:7.2f} %'\n",
    "\n",
    "    if diff_r2_a234 == 0:\n",
    "        diff_r2_a234 = f'Equal : {diff_r2_a234:7.2f} %'\n",
    "    elif diff_r2_a234 > 0:\n",
    "        diff_r2_a234 = f'Less  : {diff_r2_a234:7.2f} %'\n",
    "    else:\n",
    "        diff_r2_a234 = f'More  : {diff_r2_a234:7.2f} %'\n",
    "\n",
    "    if diff_r23_a2 == 0:\n",
    "        diff_r23_a2 = f'Equal : {diff_r23_a2:7.2f} %'\n",
    "    elif diff_r23_a2 > 0:\n",
    "        diff_r23_a2 = f'Less  : {diff_r23_a2:7.2f} %'\n",
    "    else:\n",
    "        diff_r23_a2 = f'More  : {diff_r23_a2:7.2f} %'\n",
    "\n",
    "    if diff_combined == 0:\n",
    "        diff_combined = f'Equal : {diff_combined:7.2f} %'\n",
    "    elif diff_combined > 0:\n",
    "        diff_combined = f'Less  : {diff_combined:7.2f} %'\n",
    "    else:\n",
    "        diff_combined = f'More  : {diff_combined:7.2f} %'\n",
    "\n",
    "\n",
    "    print('err r2_a24   : ',  round(c_r2_a24  ,2),'%', diff_r2_a24)\n",
    "    print('err r2_a234  : ',  round(c_r2_a234 ,2),'%', diff_r2_a234)\n",
    "    print('err r23_a23  : ',  round(c_r23_a23 ,2),'%', diff_r23_a2)\n",
    "    print('err comp mean: ',  round(c_combined,2),'%', diff_combined)"
   ]
  },
  {
   "cell_type": "code",
   "execution_count": 136,
   "metadata": {},
   "outputs": [],
   "source": [
    "def compare_classification(original: pd.DataFrame, compare: pd.DataFrame)-> tuple[pd.DataFrame, tuple[int, int, int, int]]:\n",
    "    assert len(original) == len(compare)\n",
    "    diffs = original.subtract(compare)\n",
    "\n",
    "    total = len(diffs.columns) * 31\n",
    "    better_then_original = np.sum((diffs < 0).values.ravel())\n",
    "    worse_then_original = np.sum((diffs > 0).values.ravel())\n",
    "    equal_then_original = np.sum((diffs == 0).values.ravel())\n",
    "\n",
    "    assert total == better_then_original + worse_then_original + equal_then_original\n",
    "\n",
    "    print(f'better: {better_then_original:4} ({(better_then_original / total) * 100:5.2f}%)')\n",
    "    print(f'worse : {worse_then_original:4} ({(worse_then_original / total) * 100:5.2f}%)')\n",
    "    print(f'equal : {equal_then_original:4} ({(equal_then_original / total) * 100:5.2f}%)')\n",
    "    \n",
    "    return (diffs, (total, better_then_original, worse_then_original,  equal_then_original))\n",
    "    \n",
    "    "
   ]
  },
  {
   "cell_type": "code",
   "execution_count": 137,
   "metadata": {},
   "outputs": [],
   "source": [
    "def compare_authentication(original: pd.DataFrame, compare: pd.DataFrame):\n",
    "\n",
    "    o_total_fr = original.iloc[0]['Attempts']\n",
    "    c_total_fr = compare.iloc[0]['Attempts']\n",
    "\n",
    "    o_fr = original.iloc[0]['Result']\n",
    "    c_fr = compare.iloc[0]['Result']\n",
    "\n",
    "    o_fr_rate = (o_fr / o_total_fr) * 100\n",
    "    c_fr_rate = (c_fr / c_total_fr) * 100\n",
    "\n",
    "    diff_fr_rate = round(o_fr_rate - c_fr_rate, 2)\n",
    "\n",
    "    if diff_fr_rate == 0:\n",
    "        diff_fr_rate = f'equal: {diff_fr_rate:6.2f}'\n",
    "    elif diff_fr_rate > 0:\n",
    "        diff_fr_rate = f'less : {diff_fr_rate:6.2f}'\n",
    "    else:\n",
    "        diff_fr_rate = f'more : {diff_fr_rate:6.2f}'\n",
    "\n",
    "    print(f'False Accept Rate:  {round(c_fr_rate, 2):6.2f} % {diff_fr_rate} %')\n",
    "\n",
    "    ###############################################################\n",
    "\n",
    "    o_total_fa = original.iloc[1]['Attempts']\n",
    "    c_total_fa = compare.iloc[1]['Attempts']\n",
    "\n",
    "    o_fa = original.iloc[1]['Result']\n",
    "    c_fa = compare.iloc[1]['Result']\n",
    "\n",
    "    o_fa_rate = (o_fa / o_total_fa) * 100\n",
    "    c_fa_rate = (c_fa / c_total_fa) * 100\n",
    "\n",
    "    diff_fa_rate = round(o_fa_rate - c_fa_rate, 2)\n",
    "\n",
    "    if diff_fa_rate == 0:\n",
    "        diff_fa_rate = f'equal: {diff_fa_rate:6.2f}'\n",
    "    elif diff_fa_rate > 0:\n",
    "        diff_fa_rate = f'less : {diff_fa_rate:6.2f}'\n",
    "    else:\n",
    "        diff_fa_rate = f'more : {diff_fa_rate::6.2f}'\n",
    "\n",
    "    print(f'False Accept Rate:  {round(c_fa_rate,2):6.2f} % {diff_fa_rate} %')\n"
   ]
  },
  {
   "cell_type": "code",
   "execution_count": 138,
   "metadata": {},
   "outputs": [
    {
     "name": "stdout",
     "output_type": "stream",
     "text": [
      "Classification Performance\n",
      "err r2_a24   :  13.76 % Equal :    0.00 %\n",
      "err r2_a234  :  13.55 % Equal :    0.00 %\n",
      "err r23_a23  :  13.76 % Equal :    0.00 %\n",
      "err comp mean:  18.18 % Equal :    0.00 %\n",
      "\n",
      "Authentication Performance\n",
      "False Accept Rate:   16.34 % equal:   0.00 %\n",
      "False Accept Rate:    3.33 % equal:   0.00 %\n"
     ]
    }
   ],
   "source": [
    "# original\n",
    "# classification perf\n",
    "print(\"Classification Performance\")\n",
    "compare_classification_performance(original_classification_perf, original_classification_perf)\n",
    "print(\"\")\n",
    "\n",
    "\n",
    "# authentication\n",
    "print('Authentication Performance')\n",
    "compare_authentication(original_authentication, original_authentication)"
   ]
  },
  {
   "cell_type": "code",
   "execution_count": 139,
   "metadata": {},
   "outputs": [
    {
     "name": "stdout",
     "output_type": "stream",
     "text": [
      "Classification Performance\n",
      "err r2_a24   :  13.55 % Less  :    0.22 %\n",
      "err r2_a234  :  13.76 % More  :   -0.22 %\n",
      "err r23_a23  :  13.76 % Equal :    0.00 %\n",
      "err comp mean:  18.54 % More  :   -0.36 %\n",
      "\n",
      "Classification\n",
      "better:   43 ( 5.14%)\n",
      "worse :   68 ( 8.12%)\n",
      "equal :  726 (86.74%)\n",
      "\n",
      "Authentication Performance\n",
      "False Accept Rate:   16.13 % less :   0.22 %\n",
      "False Accept Rate:    3.33 % equal:   0.00 %\n"
     ]
    }
   ],
   "source": [
    "# chrome isolated\n",
    "chrome_isolated_classification_perf = pd.read_csv('./__DATA/chrome_isolated_classification_performance.csv')\n",
    "chrome_isolated_classification = pd.read_csv('./__DATA/chrome_isolated_classification.csv')\n",
    "chrome_isolated_authentication = pd.read_csv('./__DATA/chrome_isolated_authentication.csv')\n",
    "\n",
    "\n",
    "# classification perf\n",
    "print(\"Classification Performance\")\n",
    "compare_classification_performance(original_classification_perf, chrome_isolated_classification_perf)\n",
    "print(\"\")\n",
    "\n",
    "# classification\n",
    "print('Classification')\n",
    "compare_classification(original_classification, chrome_isolated_classification)\n",
    "print(\"\")\n",
    "\n",
    "# authentication\n",
    "print('Authentication Performance')\n",
    "compare_authentication(original_authentication, chrome_isolated_authentication)\n"
   ]
  },
  {
   "cell_type": "code",
   "execution_count": 140,
   "metadata": {},
   "outputs": [
    {
     "name": "stdout",
     "output_type": "stream",
     "text": [
      "Classification Performance\n",
      "err r2_a24   :  14.41 % More  :   -0.65 %\n",
      "err r2_a234  :  13.76 % More  :   -0.22 %\n",
      "err r23_a23  :  13.98 % More  :   -0.22 %\n",
      "err comp mean:  18.63 % More  :   -0.45 %\n",
      "\n",
      "Classification\n",
      "better:   39 ( 4.66%)\n",
      "worse :   77 ( 9.20%)\n",
      "equal :  721 (86.14%)\n",
      "\n",
      "Authentication Performance\n",
      "False Accept Rate:   16.56 % more :  -0.22 %\n",
      "False Accept Rate:    3.33 % equal:   0.00 %\n"
     ]
    }
   ],
   "source": [
    "# chrome unisolated\n",
    "chrome_unisolated_classification_perf = pd.read_csv('./__DATA/chrome_unisolated_classification_performance.csv')\n",
    "chrome_unisolated_classification = pd.read_csv('./__DATA/chrome_unisolated_classification.csv')\n",
    "chrome_unisolated_authentication = pd.read_csv('./__DATA/chrome_unisolated_authentication.csv')\n",
    "\n",
    "\n",
    "# classification perf\n",
    "print(\"Classification Performance\")\n",
    "compare_classification_performance(original_classification_perf, chrome_unisolated_classification_perf)\n",
    "print(\"\")\n",
    "\n",
    "# classification\n",
    "print('Classification')\n",
    "compare_classification(original_classification, chrome_unisolated_classification)\n",
    "print(\"\")\n",
    "\n",
    "# authentication\n",
    "print('Authentication Performance')\n",
    "compare_authentication(original_authentication, chrome_unisolated_authentication)"
   ]
  },
  {
   "cell_type": "code",
   "execution_count": 141,
   "metadata": {},
   "outputs": [
    {
     "name": "stdout",
     "output_type": "stream",
     "text": [
      "Classification Performance\n",
      "err r2_a24   :  13.98 % More  :   -0.22 %\n",
      "err r2_a234  :  13.76 % More  :   -0.22 %\n",
      "err r23_a23  :  13.76 % Equal :    0.00 %\n",
      "err comp mean:  18.92 % More  :   -0.74 %\n",
      "\n",
      "Classification\n",
      "better:   32 ( 3.82%)\n",
      "worse :   77 ( 9.20%)\n",
      "equal :  728 (86.98%)\n",
      "\n",
      "Authentication Performance\n",
      "False Accept Rate:   16.56 % more :  -0.22 %\n",
      "False Accept Rate:    3.33 % equal:   0.00 %\n"
     ]
    }
   ],
   "source": [
    "# chromium isolated\n",
    "chromium_isolated_classification_perf = pd.read_csv('./__DATA/chromium_isolated_classification_performance.csv')\n",
    "chromium_isolated_classification = pd.read_csv('./__DATA/chromium_isolated_classification.csv')\n",
    "chromium_isolated_authentication = pd.read_csv('./__DATA/chromium_isolated_authentication.csv')\n",
    "\n",
    "# classification perf\n",
    "print(\"Classification Performance\")\n",
    "compare_classification_performance(original_classification_perf, chromium_isolated_classification_perf)\n",
    "print(\"\")\n",
    "\n",
    "\n",
    "# classification\n",
    "print('Classification')\n",
    "compare_classification(original_classification, chromium_isolated_classification)\n",
    "print(\"\")\n",
    "\n",
    "# authentication\n",
    "print('Authentication Performance')\n",
    "compare_authentication(original_authentication, chromium_isolated_authentication)"
   ]
  },
  {
   "cell_type": "code",
   "execution_count": 142,
   "metadata": {},
   "outputs": [
    {
     "name": "stdout",
     "output_type": "stream",
     "text": [
      "Classification Performance\n",
      "err r2_a24   :  13.76 % Equal :    0.00 %\n",
      "err r2_a234  :  13.76 % More  :   -0.22 %\n",
      "err r23_a23  :  13.76 % Equal :    0.00 %\n",
      "err comp mean:  18.54 % More  :   -0.36 %\n",
      "\n",
      "Classification\n",
      "better:   46 ( 5.50%)\n",
      "worse :   69 ( 8.24%)\n",
      "equal :  722 (86.26%)\n",
      "\n",
      "Authentication Performance\n",
      "False Accept Rate:   16.34 % equal:   0.00 %\n",
      "False Accept Rate:    3.33 % equal:   0.00 %\n"
     ]
    }
   ],
   "source": [
    "# chromium unisolated\n",
    "chromium_unisolated_classification_perf = pd.read_csv('./__DATA/chromium_unisolated_classification_performance.csv')\n",
    "chromium_unisolated_classification = pd.read_csv('./__DATA/chromium_unisolated_classification.csv')\n",
    "chromium_unisolated_authentication = pd.read_csv('./__DATA/chromium_unisolated_authentication.csv')\n",
    "\n",
    "# classification perf\n",
    "print(\"Classification Performance\")\n",
    "compare_classification_performance(original_classification_perf, chromium_unisolated_classification_perf)\n",
    "print(\"\")\n",
    "\n",
    "# classification\n",
    "print('Classification')\n",
    "compare_classification(original_classification, chromium_unisolated_classification)\n",
    "print(\"\")\n",
    "\n",
    "# authentication\n",
    "print('Authentication Performance')\n",
    "compare_authentication(original_authentication, chromium_unisolated_authentication)"
   ]
  },
  {
   "cell_type": "code",
   "execution_count": 143,
   "metadata": {},
   "outputs": [
    {
     "name": "stdout",
     "output_type": "stream",
     "text": [
      "Classification Performance\n",
      "err r2_a24   :  13.76 % Equal :    0.00 %\n",
      "err r2_a234  :  13.76 % More  :   -0.22 %\n",
      "err r23_a23  :  13.76 % Equal :    0.00 %\n",
      "err comp mean:  18.48 % More  :   -0.30 %\n",
      "\n",
      "Classification\n",
      "better:   39 ( 4.66%)\n",
      "worse :   58 ( 6.93%)\n",
      "equal :  740 (88.41%)\n",
      "\n",
      "Authentication Performance\n",
      "False Accept Rate:   16.56 % more :  -0.22 %\n",
      "False Accept Rate:    3.33 % equal:   0.00 %\n"
     ]
    }
   ],
   "source": [
    "# edge isolated\n",
    "edge_isolated_classification_perf = pd.read_csv('./__DATA/edge_isolated_classification_performance.csv')\n",
    "edge_isolated_classification = pd.read_csv('./__DATA/edge_isolated_classification.csv')\n",
    "edge_isolated_authentication = pd.read_csv('./__DATA/edge_isolated_authentication.csv')\n",
    "\n",
    "# classification perf\n",
    "print(\"Classification Performance\")\n",
    "compare_classification_performance(original_classification_perf, edge_isolated_classification_perf)\n",
    "print(\"\")\n",
    "\n",
    "\n",
    "# classification\n",
    "print('Classification')\n",
    "compare_classification(original_classification, edge_isolated_classification)\n",
    "print(\"\")\n",
    "\n",
    "# authentication\n",
    "print('Authentication Performance')\n",
    "compare_authentication(original_authentication, edge_isolated_authentication)"
   ]
  },
  {
   "cell_type": "code",
   "execution_count": 144,
   "metadata": {},
   "outputs": [
    {
     "name": "stdout",
     "output_type": "stream",
     "text": [
      "Classification Performance\n",
      "err r2_a24   :  13.98 % More  :   -0.22 %\n",
      "err r2_a234  :  13.76 % More  :   -0.22 %\n",
      "err r23_a23  :  13.76 % Equal :    0.00 %\n",
      "err comp mean:  18.55 % More  :   -0.37 %\n",
      "\n",
      "Classification\n",
      "better:   42 ( 5.02%)\n",
      "worse :   72 ( 8.60%)\n",
      "equal :  723 (86.38%)\n",
      "\n",
      "Authentication Performance\n",
      "False Accept Rate:   16.34 % equal:   0.00 %\n",
      "False Accept Rate:    3.33 % equal:   0.00 %\n"
     ]
    }
   ],
   "source": [
    "# edge unisolated\n",
    "edge_unisolated_classification_perf = pd.read_csv('./__DATA/edge_unisolated_classification_performance.csv')\n",
    "edge_unisolated_classification = pd.read_csv('./__DATA/edge_unisolated_classification.csv')\n",
    "edge_unisolated_authentication = pd.read_csv('./__DATA/edge_unisolated_authentication.csv')\n",
    "\n",
    "\n",
    "# classification perf\n",
    "print(\"Classification Performance\")\n",
    "compare_classification_performance(original_classification_perf, edge_unisolated_classification_perf)\n",
    "print(\"\")\n",
    "\n",
    "# classification\n",
    "print('Classification')\n",
    "compare_classification(original_classification, edge_unisolated_classification)\n",
    "print(\"\")\n",
    "\n",
    "# authentication\n",
    "print('Authentication Performance')\n",
    "compare_authentication(original_authentication, edge_unisolated_authentication)"
   ]
  },
  {
   "cell_type": "code",
   "execution_count": 145,
   "metadata": {},
   "outputs": [
    {
     "name": "stdout",
     "output_type": "stream",
     "text": [
      "Classification Performance\n",
      "err r2_a24   :  15.05 % More  :   -1.29 %\n",
      "err r2_a234  :  14.84 % More  :   -1.29 %\n",
      "err r23_a23  :  15.05 % More  :   -1.29 %\n",
      "err comp mean:  23.99 % More  :   -5.81 %\n",
      "\n",
      "Classification\n",
      "better:   35 ( 4.18%)\n",
      "worse :  211 (25.21%)\n",
      "equal :  591 (70.61%)\n",
      "\n",
      "Authentication Performance\n",
      "False Accept Rate:   15.70 % less :   0.65 %\n",
      "False Accept Rate:    3.33 % equal:   0.00 %\n"
     ]
    }
   ],
   "source": [
    "# tor unisolated\n",
    "tor_unisolated_classification_perf = pd.read_csv('./__DATA/tor_unisolated_classification_performance.csv')\n",
    "tor_unisolated_classification = pd.read_csv('./__DATA/tor_unisolated_classification.csv')\n",
    "tor_unisolated_authentication = pd.read_csv('./__DATA/tor_unisolated_authentication.csv')\n",
    "\n",
    "# classification perf\n",
    "print(\"Classification Performance\")\n",
    "compare_classification_performance(original_classification_perf, tor_unisolated_classification_perf)\n",
    "print(\"\")\n",
    "\n",
    "# classification\n",
    "print('Classification')\n",
    "compare_classification(original_classification, tor_unisolated_classification)\n",
    "print(\"\")\n",
    "\n",
    "# authentication\n",
    "print('Authentication Performance')\n",
    "compare_authentication(original_authentication, tor_unisolated_authentication)"
   ]
  },
  {
   "cell_type": "code",
   "execution_count": 146,
   "metadata": {},
   "outputs": [
    {
     "name": "stdout",
     "output_type": "stream",
     "text": [
      "Classification Performance\n",
      "err r2_a24   :  15.05 % More  :   -1.29 %\n",
      "err r2_a234  :  15.27 % More  :   -1.72 %\n",
      "err r23_a23  :  14.41 % More  :   -0.65 %\n",
      "err comp mean:  23.76 % More  :   -5.57 %\n",
      "\n",
      "Classification\n",
      "better:   38 ( 4.54%)\n",
      "worse :  195 (23.30%)\n",
      "equal :  604 (72.16%)\n",
      "\n",
      "Authentication Performance\n",
      "False Accept Rate:   15.91 % less :   0.43 %\n",
      "False Accept Rate:    3.33 % equal:   0.00 %\n"
     ]
    }
   ],
   "source": [
    "# firefox isolated resist\n",
    "firefox_rf_isolated_classification_perf = pd.read_csv('./__DATA/firefox_resistFP_isolated_classification_performance.csv')\n",
    "firefox_rf_isolated_classification = pd.read_csv('./__DATA/firefox_resistFP_isolated_classification.csv')\n",
    "firefox_rf_isolated_authentication = pd.read_csv('./__DATA/firefox_resistFP_isolated_authentication.csv')\n",
    "\n",
    "# classification perf\n",
    "print(\"Classification Performance\")\n",
    "compare_classification_performance(original_classification_perf, firefox_rf_isolated_classification_perf)\n",
    "print(\"\")\n",
    "\n",
    "# classification\n",
    "print('Classification')\n",
    "compare_classification(original_classification, firefox_rf_isolated_classification)\n",
    "print(\"\")\n",
    "\n",
    "# authentication\n",
    "print('Authentication Performance')\n",
    "compare_authentication(original_authentication, firefox_rf_isolated_authentication)"
   ]
  },
  {
   "cell_type": "code",
   "execution_count": 147,
   "metadata": {},
   "outputs": [
    {
     "name": "stdout",
     "output_type": "stream",
     "text": [
      "Classification Performance\n",
      "err r2_a24   :  14.19 % More  :   -0.43 %\n",
      "err r2_a234  :  14.19 % More  :   -0.65 %\n",
      "err r23_a23  :  15.05 % More  :   -1.29 %\n",
      "err comp mean:  24.16 % More  :   -5.98 %\n",
      "\n",
      "Classification\n",
      "better:   30 ( 3.58%)\n",
      "worse :  203 (24.25%)\n",
      "equal :  604 (72.16%)\n",
      "\n",
      "Authentication Performance\n",
      "False Accept Rate:   15.70 % less :   0.65 %\n",
      "False Accept Rate:    3.33 % equal:   0.00 %\n"
     ]
    }
   ],
   "source": [
    "# firefox unisolated resist\n",
    "firefox_rf_unisolated_classification_perf = pd.read_csv('./__DATA/firefox_resistFP_unisolated_classification_performance.csv')\n",
    "firefox_rf_unisolated_classification = pd.read_csv('./__DATA/firefox_resistFP_unisolated_classification.csv')\n",
    "firefox_rf_unisolated_authentication = pd.read_csv('./__DATA/firefox_resistFP_unisolated_authentication.csv')\n",
    "\n",
    "\n",
    "# classification perf\n",
    "print(\"Classification Performance\")\n",
    "compare_classification_performance(original_classification_perf, firefox_rf_unisolated_classification_perf)\n",
    "print(\"\")\n",
    "\n",
    "# classification\n",
    "print('Classification')\n",
    "compare_classification(original_classification, firefox_rf_unisolated_classification)\n",
    "print(\"\")\n",
    "\n",
    "# authentication\n",
    "print('Authentication Performance')\n",
    "compare_authentication(original_authentication, firefox_rf_unisolated_authentication)"
   ]
  },
  {
   "cell_type": "code",
   "execution_count": 148,
   "metadata": {},
   "outputs": [
    {
     "name": "stdout",
     "output_type": "stream",
     "text": [
      "Classification Performance\n",
      "err r2_a24   :  14.41 % More  :   -0.65 %\n",
      "err r2_a234  :  13.55 % Equal :    0.00 %\n",
      "err r23_a23  :  13.76 % Equal :    0.00 %\n",
      "err comp mean:  18.54 % More  :   -0.36 %\n",
      "\n",
      "Classification\n",
      "better:   46 ( 5.50%)\n",
      "worse :   63 ( 7.53%)\n",
      "equal :  728 (86.98%)\n",
      "\n",
      "Authentication Performance\n",
      "False Accept Rate:   16.34 % equal:   0.00 %\n",
      "False Accept Rate:    3.33 % equal:   0.00 %\n"
     ]
    }
   ],
   "source": [
    "# firefox isolated\n",
    "firefox_isolated_classification_perf = pd.read_csv('./__DATA/firefox_isolated_classification_performance.csv')\n",
    "firefox_isolated_classification = pd.read_csv('./__DATA/firefox_isolated_classification.csv')\n",
    "firefox_isolated_authentication = pd.read_csv('./__DATA/firefox_isolated_authentication.csv')\n",
    "\n",
    "# classification perf\n",
    "print(\"Classification Performance\")\n",
    "compare_classification_performance(original_classification_perf, firefox_isolated_classification_perf)\n",
    "print(\"\")\n",
    "\n",
    "\n",
    "# classification\n",
    "print('Classification')\n",
    "compare_classification(original_classification, firefox_isolated_classification)\n",
    "print(\"\")\n",
    "\n",
    "# authentication\n",
    "print('Authentication Performance')\n",
    "compare_authentication(original_authentication, firefox_isolated_authentication)"
   ]
  },
  {
   "cell_type": "code",
   "execution_count": 149,
   "metadata": {},
   "outputs": [
    {
     "name": "stdout",
     "output_type": "stream",
     "text": [
      "Classification Performance\n",
      "err r2_a24   :  13.98 % More  :   -0.22 %\n",
      "err r2_a234  :  13.76 % More  :   -0.22 %\n",
      "err r23_a23  :  13.76 % Equal :    0.00 %\n",
      "err comp mean:  18.43 % More  :   -0.25 %\n",
      "\n",
      "Classification\n",
      "better:   37 ( 4.42%)\n",
      "worse :   58 ( 6.93%)\n",
      "equal :  742 (88.65%)\n",
      "\n",
      "Authentication Performance\n",
      "False Accept Rate:   16.34 % equal:   0.00 %\n",
      "False Accept Rate:    3.33 % equal:   0.00 %\n"
     ]
    }
   ],
   "source": [
    "# firefox unisolated\n",
    "firefox_unisolated_classification_perf = pd.read_csv('./__DATA/firefox_unisolated_classification_performance.csv')\n",
    "firefox_unisolated_classification = pd.read_csv('./__DATA/firefox_unisolated_classification.csv')\n",
    "firefox_unisolated_authentication = pd.read_csv('./__DATA/firefox_unisolated_authentication.csv')\n",
    "\n",
    "\n",
    "# classification perf\n",
    "print(\"Classification Performance\")\n",
    "compare_classification_performance(original_classification_perf, firefox_unisolated_classification_perf)\n",
    "print(\"\")\n",
    "\n",
    "\n",
    "# classification\n",
    "print('Classification')\n",
    "compare_classification(original_classification, firefox_unisolated_classification)\n",
    "print(\"\")\n",
    "\n",
    "# authentication\n",
    "print('Authentication Performance')\n",
    "compare_authentication(original_authentication, firefox_unisolated_authentication)"
   ]
  }
 ],
 "metadata": {
  "kernelspec": {
   "display_name": "Python 3",
   "language": "python",
   "name": "python3"
  },
  "language_info": {
   "codemirror_mode": {
    "name": "ipython",
    "version": 3
   },
   "file_extension": ".py",
   "mimetype": "text/x-python",
   "name": "python",
   "nbconvert_exporter": "python",
   "pygments_lexer": "ipython3",
   "version": "3.11.4"
  },
  "orig_nbformat": 4
 },
 "nbformat": 4,
 "nbformat_minor": 2
}
