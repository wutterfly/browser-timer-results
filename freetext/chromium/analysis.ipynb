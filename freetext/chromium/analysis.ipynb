{
 "cells": [
  {
   "cell_type": "code",
   "execution_count": null,
   "metadata": {},
   "outputs": [],
   "source": [
    "# imports\n",
    "import pandas as pd"
   ]
  },
  {
   "cell_type": "code",
   "execution_count": null,
   "metadata": {},
   "outputs": [],
   "source": [
    "def map(key: int) -> str:\n",
    "\n",
    "    # uppercase letters to lowercase letters\n",
    "    if key >= 65 and key <= 90:\n",
    "        return chr(key + 32)\n",
    "    \n",
    "\n",
    "    # lowercase letters\n",
    "    if key >= 97 and key <= 122:\n",
    "        return chr(key)\n",
    "    \n",
    "\n",
    "    # numbers\n",
    "    if key >= 48 and key <= 57:\n",
    "        return chr(key)\n",
    "\n",
    "\n",
    "    match key:\n",
    "        case 8:\n",
    "            return 'Backspace'\n",
    "        case 13:\n",
    "            return 'Enter'\n",
    "        case 32:\n",
    "            return 'Space'\n",
    "        case 44:\n",
    "            return ','\n",
    "        case 45:\n",
    "            return '-'\n",
    "        case 46 :\n",
    "            return '.'\n",
    "        case _:\n",
    "            return '#'"
   ]
  },
  {
   "cell_type": "code",
   "execution_count": null,
   "metadata": {},
   "outputs": [],
   "source": [
    "# read in original\n",
    "\n",
    "original = pd.read_csv('./../FreeText-Dataset-31-USERS.csv')"
   ]
  },
  {
   "cell_type": "code",
   "execution_count": null,
   "metadata": {},
   "outputs": [],
   "source": [
    "# read in dataframes\n",
    "\n",
    "isolated = pd.read_csv('./isolated/complete.csv')\n",
    "unisolated = pd.read_csv('./unisolated/complete.csv')"
   ]
  },
  {
   "cell_type": "code",
   "execution_count": null,
   "metadata": {},
   "outputs": [],
   "source": [
    "# assert data has the right shape etc.\n",
    "assert len(isolated) == len(unisolated) == len(original)\n",
    "\n",
    "assert isolated['key'].to_list() == unisolated['key'].to_list() == original['key'].to_list()\n",
    "assert isolated['pressed_key'].to_list() == unisolated['pressed_key'].to_list()\n",
    "assert [map(x) for x in original['key']] == isolated['pressed_key'].to_list()\n"
   ]
  },
  {
   "cell_type": "code",
   "execution_count": null,
   "metadata": {},
   "outputs": [],
   "source": [
    "# calculate differences"
   ]
  }
 ],
 "metadata": {
  "kernelspec": {
   "display_name": "Python 3",
   "language": "python",
   "name": "python3"
  },
  "language_info": {
   "codemirror_mode": {
    "name": "ipython",
    "version": 3
   },
   "file_extension": ".py",
   "mimetype": "text/x-python",
   "name": "python",
   "nbconvert_exporter": "python",
   "pygments_lexer": "ipython3",
   "version": "3.11.4"
  },
  "orig_nbformat": 4
 },
 "nbformat": 4,
 "nbformat_minor": 2
}
