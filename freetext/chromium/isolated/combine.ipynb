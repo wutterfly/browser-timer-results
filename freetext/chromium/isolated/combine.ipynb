{
 "cells": [
  {
   "cell_type": "code",
   "execution_count": 31,
   "metadata": {},
   "outputs": [],
   "source": [
    "import pandas as pd\n",
    "import os"
   ]
  },
  {
   "cell_type": "code",
   "execution_count": 32,
   "metadata": {},
   "outputs": [],
   "source": [
    "# read in original\n",
    "\n",
    "original = pd.read_csv('./../../FreeText-Dataset-31-USERS.csv')"
   ]
  },
  {
   "cell_type": "code",
   "execution_count": 33,
   "metadata": {},
   "outputs": [],
   "source": [
    "DIR = \"./chromium_isolated\"\n",
    "\n",
    "dirs = [\n",
    "    DIR + \"_freetext_1-7/\",\n",
    "    DIR + \"_freetext_8-14/\",\n",
    "    DIR + \"_freetext_15-21/\",\n",
    "    DIR + \"_freetext_22-28/\",\n",
    "    DIR + \"_freetext_29-31/\",\n",
    "]"
   ]
  },
  {
   "cell_type": "code",
   "execution_count": 34,
   "metadata": {},
   "outputs": [],
   "source": [
    "# read in timings\n",
    "timings_list = []\n",
    "\n",
    "for dir in dirs[:-1]:\n",
    "    for set in range(0, 105):\n",
    "        path = os.path.join(dir, f'./text-timing-data({set}).csv')\n",
    "        df = pd.read_csv(path)\n",
    "        timings_list.append(df)\n",
    "\n",
    "for set in range(0, 45):\n",
    "    path = os.path.join(dirs[-1], f'./text-timing-data({set}).csv')\n",
    "    df = pd.read_csv(path)\n",
    "    timings_list.append(df)\n",
    "\n",
    "\n",
    "assert len(timings_list) == 31 * 15\n"
   ]
  },
  {
   "cell_type": "code",
   "execution_count": 35,
   "metadata": {},
   "outputs": [],
   "source": [
    "# read in keys\n",
    "users = range(1, 8)\n",
    "keys_list = []\n",
    "\n",
    "\n",
    "for (set, dir) in enumerate(dirs[:-1]):\n",
    "    for user in users:\n",
    "        for set_i in range(1, 16):\n",
    "            path = os.path.join(\n",
    "                dir, f'free-text-output/user{user+( set *7)}-{set_i}.csv')\n",
    "            df = pd.read_csv(path)\n",
    "            keys_list.append(df)\n",
    "\n",
    "for user in range(29, 32):\n",
    "    for set_i in range(1, 16):\n",
    "        path = os.path.join(\n",
    "            dirs[-1], f'free-text-output/user{user}-{set_i}.csv')\n",
    "        df = pd.read_csv(path)\n",
    "        keys_list.append(df)\n",
    "\n",
    "\n",
    "assert len(keys_list) == len(timings_list) == 31 * 15\n"
   ]
  },
  {
   "cell_type": "code",
   "execution_count": 36,
   "metadata": {},
   "outputs": [],
   "source": [
    "# combine keys and timings\n",
    "\n",
    "dataframes = []\n",
    "for user in range(1, 32):\n",
    "    user_dataframes = []\n",
    "    for set in range(1, 16):\n",
    "        idx = ((user - 1) * 15) + (set - 1)\n",
    "        last = idx\n",
    "        timings = timings_list[idx]\n",
    "        keys = keys_list[idx]\n",
    "\n",
    "        # trim warmups\n",
    "        timings = timings.iloc[8:]\n",
    "\n",
    "        # get orignal data for user and set\n",
    "        originals = original.loc[(original['user'] == user) & (original['set'] == set)]\n",
    "\n",
    "        assert len(timings) == len(keys) == len(originals)\n",
    "\n",
    "\n",
    "        df = pd.DataFrame({\n",
    "            'user': user,\n",
    "            'set': set,\n",
    "            'timestamp': timings['timestamp'].to_list(),\n",
    "            'key': keys['key'].to_list(),\n",
    "            'pressed_key': timings['key'].to_list()\n",
    "        })\n",
    "\n",
    "        assert len(df) == len(originals)\n",
    "        assert df['key'].to_list() == originals['key'].to_list()\n",
    "\n",
    "        user_dataframes.append(df)\n",
    "\n",
    "\n",
    "    assert len(user_dataframes) == 15\n",
    "    user_dataframe = pd.concat(user_dataframes)\n",
    "\n",
    "    dataframes.append(user_dataframe)\n"
   ]
  },
  {
   "cell_type": "code",
   "execution_count": 37,
   "metadata": {},
   "outputs": [],
   "source": [
    "# combine into one dataset\n",
    "\n",
    "complete = pd.concat(dataframes)\n",
    "\n",
    "assert len(complete) == len(original)\n",
    "\n",
    "complete.to_csv('./complete.csv', index=False)"
   ]
  }
 ],
 "metadata": {
  "kernelspec": {
   "display_name": "Python 3",
   "language": "python",
   "name": "python3"
  },
  "language_info": {
   "codemirror_mode": {
    "name": "ipython",
    "version": 3
   },
   "file_extension": ".py",
   "mimetype": "text/x-python",
   "name": "python",
   "nbconvert_exporter": "python",
   "pygments_lexer": "ipython3",
   "version": "3.9.7"
  },
  "orig_nbformat": 4
 },
 "nbformat": 4,
 "nbformat_minor": 2
}
