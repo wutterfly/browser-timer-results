{
 "cells": [
  {
   "cell_type": "code",
   "execution_count": null,
   "metadata": {},
   "outputs": [],
   "source": [
    "# imports\n",
    "import pandas as pd\n",
    "import matplotlib.pyplot as plt\n",
    "import numpy as np\n",
    "\n",
    "plt.rcParams['figure.figsize'] = [20, 10]"
   ]
  },
  {
   "cell_type": "code",
   "execution_count": null,
   "metadata": {},
   "outputs": [],
   "source": [
    "def reject_outliers(data: list, m = 5.):\n",
    "    data = np.asarray(data)\n",
    "    d = np.abs(data - np.median(data))\n",
    "    mdev = np.median(d)\n",
    "    s = d/mdev if mdev else np.zeros(len(d))\n",
    "    return data[s<m]"
   ]
  },
  {
   "cell_type": "code",
   "execution_count": null,
   "metadata": {},
   "outputs": [],
   "source": [
    "def _calculate_user_timestamp_diffs(original_set: pd.DataFrame, simulated_set: pd.DataFrame) -> list[list]:\n",
    "\n",
    "    out = []\n",
    "\n",
    "    # create differences for each user\n",
    "    for user in range(1, 32):\n",
    "        original_user_data = original_set[original_set['user'] == user]\n",
    "        simulated_user_data = simulated_set[simulated_set['user'] == user]\n",
    "\n",
    "        assert len(original_user_data) == len(simulated_user_data)\n",
    "\n",
    "        # assert 15 sets\n",
    "        assert len(original_user_data['set'].unique()) == len(simulated_user_data['set'].unique()) == 15\n",
    "\n",
    "        diffs = [None] * len(original_user_data)\n",
    "        assert len(diffs) == len(original_user_data) == len(simulated_user_data)\n",
    "\n",
    "\n",
    "        for (i , (original, simulated)) in enumerate(zip(original_user_data['timestamp'], simulated_user_data['timestamp'])):\n",
    "            diff = abs(original - simulated)\n",
    "            diffs[i] = diff\n",
    "\n",
    "        assert len(diffs) == len(original_user_data) == len(simulated_user_data)\n",
    "        assert not any(elem is None for elem in diffs)\n",
    "\n",
    "        out.append(diffs)\n",
    "\n",
    "    assert len(out) == 31\n",
    "\n",
    "\n",
    "    return out\n"
   ]
  },
  {
   "cell_type": "code",
   "execution_count": null,
   "metadata": {},
   "outputs": [],
   "source": [
    "def calculate_user_distances_diffs(original_set: pd.DataFrame, simulated_set: pd.DataFrame) -> list[list]:\n",
    "\n",
    "    out = []\n",
    "\n",
    "    # create differences for each user\n",
    "    for user in range(1, 32):\n",
    "        original_user_data = original_set[original_set['user'] == user]\n",
    "        simulated_user_data = simulated_set[simulated_set['user'] == user]\n",
    "\n",
    "        assert len(original_user_data) == len(simulated_user_data)\n",
    "\n",
    "        # assert 15 sets\n",
    "        assert len(original_user_data['set'].unique()) == len(simulated_user_data['set'].unique()) == 15\n",
    "\n",
    "        diffs = [None] * len(original_user_data)\n",
    "        assert len(diffs) == len(original_user_data) == len(simulated_user_data)\n",
    "\n",
    "\n",
    "        for (i , (original, simulated)) in enumerate(zip(original_user_data['distance'], simulated_user_data['distance'])):\n",
    "            diff = abs(original - simulated)\n",
    "            diffs[i] = diff\n",
    "\n",
    "        assert len(diffs) == len(original_user_data) == len(simulated_user_data)\n",
    "        assert not any(elem is None for elem in diffs)\n",
    "\n",
    "        out.append(diffs)\n",
    "\n",
    "    assert len(out) == 31\n",
    "\n",
    "\n",
    "    return out"
   ]
  },
  {
   "cell_type": "code",
   "execution_count": null,
   "metadata": {},
   "outputs": [],
   "source": [
    "# visualize\n",
    "def visualize_hist(data: list[list], browser:str, out_file: str):\n",
    "    data = [[x / 1000 for x in set] for set in data]\n",
    "    for (i, d) in enumerate(data):\n",
    "        bef = len(d)\n",
    "        d = reject_outliers(d)\n",
    "        plt.hist(d, label= f'User{i + 1}', alpha=1)\n",
    "        \n",
    "    plt.title(f'Differences in distances of input Event between original dataset and simulated dataset ({browser})', fontsize=18)\n",
    "    plt.xlabel('Difference to last Event (sec)', fontsize=18)\n",
    "    plt.ylabel('Occurences per User', fontsize=18)\n",
    "    plt.tight_layout()\n",
    "    plt.legend()\n",
    "    plt.savefig(out_file, bbox_inches=\"tight\", pad_inches=0.3)\n",
    "    plt.show()\n",
    "\n",
    "def visualize_plot(data: list[list], browser:str, out_file: str):\n",
    "    data = [[x/ 1000 for x in set] for set in data]\n",
    "    for (i, d) in enumerate(data):\n",
    "        d = reject_outliers(d)\n",
    "        plt.plot(d, label= f'User{i + 1}', alpha=1)\n",
    "        \n",
    "    plt.title(f'Differences in distances of input Event between original dataset and simulated dataset ({browser})', fontsize=18)\n",
    "    plt.xlabel('Input Event (all sets)', fontsize=18)\n",
    "    plt.ylabel('Difference to last Event (sec)', fontsize=18)\n",
    "    plt.tight_layout()\n",
    "    plt.legend()\n",
    "    plt.savefig(out_file, bbox_inches=\"tight\", pad_inches=0.3)\n",
    "    plt.show()\n",
    "\n",
    "def visualize_boxplot(data: list[list], browser:str, out_file: str):\n",
    "    data = [[x / 1000 for x in set] for set in data]\n",
    "    plt.boxplot(data, positions = range(31), showfliers=False, labels = [f'User{i}' for i in range(1,32)])\n",
    "\n",
    "    plt.title(f'Differences in distances of input Event between original dataset and simulated dataset ({browser})', fontsize=18)\n",
    "    plt.xlabel('Nutzer', fontsize=18)\n",
    "    plt.ylabel('Difference to last Event (sec)', fontsize=18)\n",
    "    plt.tight_layout()\n",
    "    plt.savefig(out_file, bbox_inches=\"tight\", pad_inches=0.3)\n",
    "    plt.show()"
   ]
  },
  {
   "cell_type": "code",
   "execution_count": null,
   "metadata": {},
   "outputs": [],
   "source": [
    "# read in original\n",
    "original = pd.read_csv('./FreeText-Dataset-31-USERS.csv')\n",
    "\n",
    "labels = [f'User{i}' for i in range(1,32)]\n",
    "positions = range(31)"
   ]
  },
  {
   "cell_type": "code",
   "execution_count": null,
   "metadata": {},
   "outputs": [],
   "source": [
    "# chrome isolated\n",
    "chrome_isolated = pd.read_csv('./chrome/isolated/complete.csv')\n",
    "chrome_isolated_user_diffs = calculate_user_distances_diffs(original, chrome_isolated)\n",
    "\n",
    "#visualize_hist(chrome_isolated_user_diffs, \"Chrome Isolated\", \"./chrome/isolated/hist.jpeg\")\n",
    "#visualize_plot(chrome_isolated_user_diffs, \"Chrome Isolated\", \"./chrome/isolated/plot.jpeg\")\n",
    "visualize_boxplot(chrome_isolated_user_diffs, \"Chrome Isolated\", \"./chrome/isolated/box.jpeg\")"
   ]
  },
  {
   "cell_type": "code",
   "execution_count": null,
   "metadata": {},
   "outputs": [],
   "source": [
    "# chrome unisolated\n",
    "chrome_unisolated = pd.read_csv('./chrome/unisolated/complete.csv')\n",
    "chrome_unisolated_user_diffs = calculate_user_distances_diffs(original, chrome_unisolated)\n",
    "\n",
    "#visualize_hist(chrome_unisolated_user_diffs, \"Chrome Unisolated\", \"./chrome/unisolated/hist.jpeg\")\n",
    "#visualize_plot(chrome_unisolated_user_diffs, \"Chrome Unisolated\", \"./chrome/unisolated/hist.jpeg\")\n",
    "visualize_boxplot(chrome_unisolated_user_diffs, \"Chrome Unisolated\", \"./chrome/unisolated/box.jpeg\")"
   ]
  },
  {
   "cell_type": "code",
   "execution_count": null,
   "metadata": {},
   "outputs": [],
   "source": [
    "# chromium isolated\n",
    "chromium_isolated = pd.read_csv('./chromium/isolated/complete.csv')\n",
    "chromium_isolated_user_diffs = calculate_user_distances_diffs(original, chromium_isolated)\n",
    "\n",
    "#visualize_hist(chromium_isolated_user_diffs, \"Chromium Isolated\", \"./chromium/isolated/hist.jpeg\")\n",
    "#visualize_plot(chromium_isolated_user_diffs, \"Chromium Isolated\", \"./chromium/isolated/hist.jpeg\")\n",
    "visualize_boxplot(chromium_isolated_user_diffs, \"Chromium Isolated\", \"./chromium/isolated/box.jpeg\")"
   ]
  },
  {
   "cell_type": "code",
   "execution_count": null,
   "metadata": {},
   "outputs": [],
   "source": [
    "# chromium unisolated\n",
    "chromium_unisolated = pd.read_csv('./chromium/unisolated/complete.csv')\n",
    "chromium_unisolated_user_diffs = calculate_user_distances_diffs(original, chromium_unisolated)\n",
    "\n",
    "#visualize_hist(chromium_unisolated_user_diffs, \"Chromium Unisolated\", \"./chromium/unisolated/hist.jpeg\")\n",
    "#visualize_plot(chromium_unisolated_user_diffs, \"Chromium Unisolated\", \"./chromium/unisolated/hist.jpeg\")\n",
    "visualize_boxplot(chromium_unisolated_user_diffs, \"Chromium Unisolated\", \"./chromium/unisolated/box.jpeg\")"
   ]
  },
  {
   "cell_type": "code",
   "execution_count": null,
   "metadata": {},
   "outputs": [],
   "source": [
    "# edge isolated\n",
    "edge_isolated = pd.read_csv('./edge/isolated/complete.csv')\n",
    "edge_isolated_user_diffs = calculate_user_distances_diffs(original, edge_isolated)\n",
    "\n",
    "#visualize_hist(edge_isolated_user_diffs, \"Edge Isolated\", \"./edge/isolated/hist.jpeg\")\n",
    "#visualize_plot(edge_isolated_user_diffs, \"Edge Isolated\", \"./edge/isolated/hist.jpeg\")\n",
    "visualize_boxplot(edge_isolated_user_diffs, \"Edge Isolated\", \"./edge/isolated/box.jpeg\")"
   ]
  },
  {
   "cell_type": "code",
   "execution_count": null,
   "metadata": {},
   "outputs": [],
   "source": [
    "# edge unisolated\n",
    "edge_unisolated = pd.read_csv('./edge/unisolated/complete.csv')\n",
    "edge_unisolated_user_diffs = calculate_user_distances_diffs(original, edge_unisolated)\n",
    "\n",
    "visualize_hist(edge_unisolated_user_diffs, \"Edge Unisolated\", \"./edge/unisolated/hist.jpeg\")\n",
    "visualize_plot(edge_unisolated_user_diffs, \"Edge Unisolated\", \"./edge/unisolated/hist.jpeg\")\n",
    "visualize_boxplot(edge_unisolated_user_diffs, \"Edge Unisolated\", \"./edge/unisolated/box.jpeg\")"
   ]
  },
  {
   "cell_type": "code",
   "execution_count": null,
   "metadata": {},
   "outputs": [],
   "source": [
    "# tor unisolated\n",
    "tor_unisolated = pd.read_csv('./tor/unisolated/complete.csv')\n",
    "tor_unisolated_user_diffs = calculate_user_distances_diffs(original, tor_unisolated)\n",
    "\n",
    "#visualize_hist(tor_unisolated_user_diffs, \"Tor Unisolated\", \"./tor/unisolated/hist.jpeg\")\n",
    "#visualize_plot(tor_unisolated_user_diffs, \"Tor Unisolated\", \"./tor/unisolated/hist.jpeg\")\n",
    "visualize_boxplot(tor_unisolated_user_diffs, \"Tor Unisolated\", \"./tor/unisolated/box.jpeg\")"
   ]
  },
  {
   "cell_type": "code",
   "execution_count": null,
   "metadata": {},
   "outputs": [],
   "source": [
    "# firefox isolated\n",
    "firefox_isolated = pd.read_csv('./firefox/isolated/complete.csv')\n",
    "firefox_isolated_user_diffs = calculate_user_distances_diffs(original, firefox_isolated)\n",
    "\n",
    "visualize_hist(firefox_isolated_user_diffs, \"Firefox Isolated\", \"./firefox/isolated/hist.jpeg\")\n",
    "visualize_plot(firefox_isolated_user_diffs, \"Firefox Isolated\", \"./firefox/isolated/hist.jpeg\")\n",
    "visualize_boxplot(firefox_isolated_user_diffs, \"Firefox Isolated\", \"./firefox/isolated/box.jpeg\")"
   ]
  },
  {
   "cell_type": "code",
   "execution_count": null,
   "metadata": {},
   "outputs": [],
   "source": [
    "# firefox unisolated\n",
    "firefox_unisolated = pd.read_csv('./firefox/unisolated/complete.csv')\n",
    "firefox_unisolated_user_diffs = calculate_user_distances_diffs(original, firefox_unisolated)\n",
    "\n",
    "#visualize_hist(firefox_unisolated_user_diffs, \"Firefox Unisolated\", \"./firefox/unisolated/hist.jpeg\")\n",
    "#visualize_plot(firefox_unisolated_user_diffs, \"Firefox Unisolated\", \"./firefox/unisolated/hist.jpeg\")\n",
    "visualize_boxplot(firefox_unisolated_user_diffs, \"Firefox Unisolated\", \"./firefox/unisolated/box.jpeg\")"
   ]
  },
  {
   "cell_type": "code",
   "execution_count": null,
   "metadata": {},
   "outputs": [],
   "source": [
    "# firefox isolated resistFP\n",
    "firefox_resistFP_isolated = pd.read_csv('./firefox_rf/isolated/complete.csv')\n",
    "firefox_resistFP_isolated_user_diffs = calculate_user_distances_diffs(original, firefox_resistFP_isolated)\n",
    "\n",
    "#visualize_hist(firefox_resistFP_isolated_user_diffs, \"Firefox RFP Isolated\", \"./firefox_rf/isolated/hist.jpeg\")\n",
    "#visualize_plot(firefox_resistFP_isolated_user_diffs, \"Firefox RFP Isolated\", \"./firefox_rf/isolated/hist.jpeg\")\n",
    "visualize_boxplot(firefox_resistFP_isolated_user_diffs, \"Firefox RFP Isolated\", \"./firefox_rf/isolated/box.jpeg\")"
   ]
  },
  {
   "cell_type": "code",
   "execution_count": null,
   "metadata": {},
   "outputs": [],
   "source": [
    "# firefox unisolated resistFP\n",
    "firefox_resistFP_unisolated = pd.read_csv('./firefox_rf/unisolated/complete.csv')\n",
    "firefox_resistFP_unisolated_user_diffs = calculate_user_distances_diffs(original, firefox_resistFP_unisolated)\n",
    "\n",
    "#visualize_hist(firefox_resistFP_unisolated_user_diffs, \"Firefox RFP Unisolated\", \"./firefox_rf/unisolated/hist.jpeg\")\n",
    "#visualize_plot(firefox_resistFP_unisolated_user_diffs, \"Firefox RFP Unisolated\", \"./firefox_rf/unisolated/hist.jpeg\")\n",
    "visualize_boxplot(firefox_resistFP_unisolated_user_diffs, \"Firefox RFP Unisolated\", \"./firefox_rf/unisolated/box.jpeg\")"
   ]
  }
 ],
 "metadata": {
  "kernelspec": {
   "display_name": "Python 3",
   "language": "python",
   "name": "python3"
  },
  "language_info": {
   "codemirror_mode": {
    "name": "ipython",
    "version": 3
   },
   "file_extension": ".py",
   "mimetype": "text/x-python",
   "name": "python",
   "nbconvert_exporter": "python",
   "pygments_lexer": "ipython3",
   "version": "3.11.4"
  },
  "orig_nbformat": 4
 },
 "nbformat": 4,
 "nbformat_minor": 2
}
