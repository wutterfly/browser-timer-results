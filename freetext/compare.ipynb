{
 "cells": [
  {
   "cell_type": "code",
   "execution_count": null,
   "metadata": {},
   "outputs": [],
   "source": [
    "# imports\n",
    "import pandas as pd\n",
    "import matplotlib.pyplot as plt\n",
    "import numpy as np\n",
    "\n",
    "plt.rcParams['figure.figsize'] = [20, 10]"
   ]
  },
  {
   "cell_type": "code",
   "execution_count": null,
   "metadata": {},
   "outputs": [],
   "source": [
    "def reject_outliers(data: list, m = 5.):\n",
    "    # copy pasta from stack overflow\n",
    "    # https://stackoverflow.com/questions/11686720/is-there-a-numpy-builtin-to-reject-outliers-from-a-list\n",
    "    data = np.asarray(data)\n",
    "    d = np.abs(data - np.median(data))\n",
    "    mdev = np.median(d)\n",
    "    s = d/mdev if mdev else np.zeros(len(d))\n",
    "    return data[s<m]"
   ]
  },
  {
   "cell_type": "code",
   "execution_count": null,
   "metadata": {},
   "outputs": [],
   "source": [
    "def calculate_user_distances_diffs(original_set: pd.DataFrame, simulated_set: pd.DataFrame) -> list[list]:\n",
    "\n",
    "    out = []\n",
    "\n",
    "    # create differences for each user\n",
    "    for user in range(1, 32):\n",
    "        original_user_data = original_set[original_set['user'] == user]\n",
    "        simulated_user_data = simulated_set[simulated_set['user'] == user]\n",
    "\n",
    "        assert len(original_user_data) == len(simulated_user_data)\n",
    "\n",
    "        # assert 15 sets\n",
    "        assert len(original_user_data['set'].unique()) == len(simulated_user_data['set'].unique()) == 15\n",
    "\n",
    "        diffs = [None] * len(original_user_data)\n",
    "        assert len(diffs) == len(original_user_data) == len(simulated_user_data)\n",
    "\n",
    "\n",
    "        for (i , (original, simulated)) in enumerate(zip(original_user_data['distance'], simulated_user_data['distance'])):\n",
    "            diff = abs(original - simulated)\n",
    "            diffs[i] = diff\n",
    "\n",
    "        assert len(diffs) == len(original_user_data) == len(simulated_user_data)\n",
    "        assert not any(elem is None for elem in diffs)\n",
    "\n",
    "        out.append(diffs)\n",
    "\n",
    "    assert len(out) == 31\n",
    "\n",
    "\n",
    "    return out"
   ]
  },
  {
   "cell_type": "code",
   "execution_count": null,
   "metadata": {},
   "outputs": [],
   "source": [
    "# visualize\n",
    "def visualize_boxplot(data: list[list], browser:str, out_file: str):\n",
    "    data = [[x / 1000 for x in set] for set in data]\n",
    "    plt.boxplot(data, positions = range(31), showfliers=False, labels = [f'User{i}' for i in range(1,32)])\n",
    "\n",
    "    plt.title(f'Differences in distances of input Event between original dataset and simulated dataset ({browser})', fontsize=18)\n",
    "    plt.xlabel('Nutzer', fontsize=18)\n",
    "    plt.ylabel('Difference to last Event (sec)', fontsize=18)\n",
    "    plt.tight_layout()\n",
    "    plt.savefig(out_file, bbox_inches=\"tight\", pad_inches=0.3)\n",
    "    plt.show()"
   ]
  },
  {
   "cell_type": "code",
   "execution_count": null,
   "metadata": {},
   "outputs": [],
   "source": [
    "# calc\n",
    "def calc(user_diffs: list[list], reject=False):\n",
    "    all = []\n",
    "    for l in user_diffs:\n",
    "        if reject:\n",
    "            all += reject_outliers(l).tolist()\n",
    "        else:\n",
    "            all += l\n",
    "    all = [x / 1000 for x in all]\n",
    "\n",
    "    print(\"Min:  \", round(min(all), 4) * 1000)\n",
    "    print(\"Max:  \", round(max(all), 4)* 1000)\n",
    "    print(\"Mean: \", round(sum(all) / len(all), 4)* 1000)\n",
    "    print(\"STD:  \", round(np.std(all), 4)* 1000)"
   ]
  },
  {
   "cell_type": "code",
   "execution_count": null,
   "metadata": {},
   "outputs": [],
   "source": [
    "# read in original\n",
    "original = pd.read_csv('./FreeText-Dataset-31-USERS.csv')\n",
    "\n",
    "labels = [f'User{i}' for i in range(1,32)]\n",
    "positions = range(31)"
   ]
  },
  {
   "cell_type": "code",
   "execution_count": null,
   "metadata": {},
   "outputs": [],
   "source": [
    "# chrome isolated\n",
    "chrome_isolated = pd.read_csv('./chrome/isolated/complete.csv')\n",
    "chrome_isolated_user_diffs = calculate_user_distances_diffs(original, chrome_isolated)\n",
    "\n",
    "calc(chrome_isolated_user_diffs)\n",
    "\n",
    "#visualize_boxplot(chrome_isolated_user_diffs, \"Chrome Isolated\", \"./chrome/isolated/box.jpeg\")"
   ]
  },
  {
   "cell_type": "code",
   "execution_count": null,
   "metadata": {},
   "outputs": [],
   "source": [
    "# chrome unisolated\n",
    "chrome_unisolated = pd.read_csv('./chrome/unisolated/complete.csv')\n",
    "chrome_unisolated_user_diffs = calculate_user_distances_diffs(original, chrome_unisolated)\n",
    "\n",
    "calc(chrome_unisolated_user_diffs)\n",
    "\n",
    "#visualize_boxplot(chrome_unisolated_user_diffs, \"Chrome Unisolated\", \"./chrome/unisolated/box.jpeg\")"
   ]
  },
  {
   "cell_type": "code",
   "execution_count": null,
   "metadata": {},
   "outputs": [],
   "source": [
    "# chromium isolated\n",
    "chromium_isolated = pd.read_csv('./chromium/isolated/complete.csv')\n",
    "chromium_isolated_user_diffs = calculate_user_distances_diffs(original, chromium_isolated)\n",
    "\n",
    "calc(chromium_isolated_user_diffs)\n",
    "\n",
    "visualize_boxplot(chromium_isolated_user_diffs, \"Chromium Isolated\", \"./chromium/isolated/box.jpeg\")"
   ]
  },
  {
   "cell_type": "code",
   "execution_count": null,
   "metadata": {},
   "outputs": [],
   "source": [
    "# chromium unisolated\n",
    "chromium_unisolated = pd.read_csv('./chromium/unisolated/complete.csv')\n",
    "chromium_unisolated_user_diffs = calculate_user_distances_diffs(original, chromium_unisolated)\n",
    "\n",
    "calc(chromium_unisolated_user_diffs)\n",
    "\n",
    "#visualize_boxplot(chromium_unisolated_user_diffs, \"Chromium Unisolated\", \"./chromium/unisolated/box.jpeg\")"
   ]
  },
  {
   "cell_type": "code",
   "execution_count": null,
   "metadata": {},
   "outputs": [],
   "source": [
    "# edge isolated\n",
    "edge_isolated = pd.read_csv('./edge/isolated/complete.csv')\n",
    "edge_isolated_user_diffs = calculate_user_distances_diffs(original, edge_isolated)\n",
    "\n",
    "calc(edge_isolated_user_diffs)\n",
    "\n",
    "#visualize_boxplot(edge_isolated_user_diffs, \"Edge Isolated\", \"./edge/isolated/box.jpeg\")"
   ]
  },
  {
   "cell_type": "code",
   "execution_count": null,
   "metadata": {},
   "outputs": [],
   "source": [
    "# edge unisolated\n",
    "edge_unisolated = pd.read_csv('./edge/unisolated/complete.csv')\n",
    "edge_unisolated_user_diffs = calculate_user_distances_diffs(original, edge_unisolated)\n",
    "\n",
    "calc(edge_unisolated_user_diffs)\n",
    "\n",
    "#visualize_boxplot(edge_unisolated_user_diffs, \"Edge Unisolated\", \"./edge/unisolated/box.jpeg\")"
   ]
  },
  {
   "cell_type": "code",
   "execution_count": null,
   "metadata": {},
   "outputs": [],
   "source": [
    "# tor unisolated\n",
    "tor_unisolated = pd.read_csv('./tor/unisolated/complete.csv')\n",
    "tor_unisolated_user_diffs = calculate_user_distances_diffs(original, tor_unisolated)\n",
    "\n",
    "calc(tor_unisolated_user_diffs)\n",
    "\n",
    "#visualize_boxplot(tor_unisolated_user_diffs, \"Tor Unisolated\", \"./tor/unisolated/box.jpeg\")"
   ]
  },
  {
   "cell_type": "code",
   "execution_count": null,
   "metadata": {},
   "outputs": [],
   "source": [
    "# firefox isolated\n",
    "firefox_isolated = pd.read_csv('./firefox/isolated/complete.csv')\n",
    "firefox_isolated_user_diffs = calculate_user_distances_diffs(original, firefox_isolated)\n",
    "\n",
    "calc(firefox_isolated_user_diffs)\n",
    "\n",
    "#visualize_boxplot(firefox_isolated_user_diffs, \"Firefox Isolated\", \"./firefox/isolated/box.jpeg\")"
   ]
  },
  {
   "cell_type": "code",
   "execution_count": null,
   "metadata": {},
   "outputs": [],
   "source": [
    "# firefox unisolated\n",
    "firefox_unisolated = pd.read_csv('./firefox/unisolated/complete.csv')\n",
    "firefox_unisolated_user_diffs = calculate_user_distances_diffs(original, firefox_unisolated)\n",
    "\n",
    "calc(firefox_unisolated_user_diffs)\n",
    "\n",
    "\n",
    "#visualize_boxplot(firefox_unisolated_user_diffs, \"Firefox Unisolated\", \"./firefox/unisolated/box.jpeg\")"
   ]
  },
  {
   "cell_type": "code",
   "execution_count": null,
   "metadata": {},
   "outputs": [],
   "source": [
    "# firefox isolated resistFP\n",
    "firefox_resistFP_isolated = pd.read_csv('./firefox_rf/isolated/complete.csv')\n",
    "firefox_resistFP_isolated_user_diffs = calculate_user_distances_diffs(original, firefox_resistFP_isolated)\n",
    "\n",
    "calc(firefox_resistFP_isolated_user_diffs)\n",
    "\n",
    "#visualize_boxplot(firefox_resistFP_isolated_user_diffs, \"Firefox RFP Isolated\", \"./firefox_rf/isolated/box.jpeg\")"
   ]
  },
  {
   "cell_type": "code",
   "execution_count": null,
   "metadata": {},
   "outputs": [],
   "source": [
    "# firefox unisolated resistFP\n",
    "firefox_resistFP_unisolated = pd.read_csv('./firefox_rf/unisolated/complete.csv')\n",
    "firefox_resistFP_unisolated_user_diffs = calculate_user_distances_diffs(original, firefox_resistFP_unisolated)\n",
    "\n",
    "calc(firefox_resistFP_unisolated_user_diffs)\n",
    "\n",
    "#visualize_boxplot(firefox_resistFP_unisolated_user_diffs, \"Firefox RFP Unisolated\", \"./firefox_rf/unisolated/box.jpeg\")"
   ]
  },
  {
   "cell_type": "code",
   "execution_count": null,
   "metadata": {},
   "outputs": [],
   "source": [
    "# firefox unisolated resistFP 20ms\n",
    "firefox_resistFP_20ms_unisolated = pd.read_csv('./firefox_rf_20/unisolated/complete.csv')\n",
    "firefox_resistFP_20ms_unisolated_user_diffs = calculate_user_distances_diffs(original, firefox_resistFP_20ms_unisolated)\n",
    "\n",
    "calc(firefox_resistFP_20ms_unisolated_user_diffs)\n",
    "\n",
    "#visualize_boxplot(firefox_resistFP_20ms_unisolated_user_diffs, \"Firefox RFP 20ms Unisolated\", \"./firefox_rf_20/unisolated/box.jpeg\")"
   ]
  },
  {
   "cell_type": "code",
   "execution_count": null,
   "metadata": {},
   "outputs": [],
   "source": [
    "# firefox unisolated resistFP 33ms\n",
    "firefox_resistFP_33ms_unisolated = pd.read_csv('./firefox_rf_33/unisolated/complete.csv')\n",
    "firefox_resistFP_33ms_unisolated_user_diffs = calculate_user_distances_diffs(original, firefox_resistFP_33ms_unisolated)\n",
    "\n",
    "calc(firefox_resistFP_33ms_unisolated_user_diffs)\n",
    "\n",
    "#visualize_boxplot(firefox_resistFP_33ms_unisolated_user_diffs, \"Firefox RFP 33.33ms Unisolated\", \"./firefox_rf_33/unisolated/box.jpeg\")"
   ]
  },
  {
   "cell_type": "code",
   "execution_count": null,
   "metadata": {},
   "outputs": [],
   "source": [
    "# firefox unisolated resistFP 40ms\n",
    "firefox_resistFP_40ms_unisolated = pd.read_csv('./firefox_rf_40/unisolated/complete.csv')\n",
    "firefox_resistFP_40ms_unisolated_user_diffs = calculate_user_distances_diffs(original, firefox_resistFP_40ms_unisolated)\n",
    "\n",
    "calc(firefox_resistFP_40ms_unisolated_user_diffs)\n",
    "\n",
    "#visualize_boxplot(firefox_resistFP_40ms_unisolated_user_diffs, \"Firefox RFP 40ms Unisolated\", \"./firefox_rf_40/unisolated/box.jpeg\")"
   ]
  },
  {
   "cell_type": "code",
   "execution_count": null,
   "metadata": {},
   "outputs": [],
   "source": [
    "# firefox unisolated resistFP 60ms\n",
    "firefox_resistFP_60ms_unisolated = pd.read_csv('./firefox_rf_60/unisolated/complete.csv')\n",
    "firefox_resistFP_60ms_unisolated_user_diffs = calculate_user_distances_diffs(original, firefox_resistFP_60ms_unisolated)\n",
    "\n",
    "calc(firefox_resistFP_60ms_unisolated_user_diffs)\n",
    "\n",
    "#visualize_boxplot(firefox_resistFP_60ms_unisolated_user_diffs, \"Firefox RFP 60ms Unisolated\", \"./firefox_rf_60/unisolated/box.jpeg\")"
   ]
  },
  {
   "cell_type": "code",
   "execution_count": null,
   "metadata": {},
   "outputs": [],
   "source": [
    "# firefox unisolated resistFP 80ms\n",
    "firefox_resistFP_80ms_unisolated = pd.read_csv('./firefox_rf_80/unisolated/complete.csv')\n",
    "firefox_resistFP_80ms_unisolated_user_diffs = calculate_user_distances_diffs(original, firefox_resistFP_80ms_unisolated)\n",
    "\n",
    "calc(firefox_resistFP_80ms_unisolated_user_diffs)\n",
    "\n",
    "#visualize_boxplot(firefox_resistFP_80ms_unisolated_user_diffs, \"Firefox RFP 80ms Unisolated\", \"./firefox_rf_80/unisolated/box.jpeg\")"
   ]
  },
  {
   "cell_type": "code",
   "execution_count": null,
   "metadata": {},
   "outputs": [],
   "source": [
    "# firefox unisolated resistFP 100ms\n",
    "firefox_resistFP_100ms_unisolated = pd.read_csv('./firefox_rf_100/unisolated/complete.csv')\n",
    "firefox_resistFP_100ms_unisolated_user_diffs = calculate_user_distances_diffs(original, firefox_resistFP_100ms_unisolated)\n",
    "\n",
    "calc(firefox_resistFP_100ms_unisolated_user_diffs)\n",
    "\n",
    "#visualize_boxplot(firefox_resistFP_100ms_unisolated_user_diffs, \"Firefox RFP 100ms Unisolated\", \"./firefox_rf_100/unisolated/box.jpeg\")"
   ]
  },
  {
   "cell_type": "code",
   "execution_count": null,
   "metadata": {},
   "outputs": [],
   "source": [
    "# firefox unisolated resistFP 120ms\n",
    "firefox_resistFP_120ms_unisolated = pd.read_csv('./firefox_rf_120/unisolated/complete.csv')\n",
    "firefox_resistFP_120ms_unisolated_user_diffs = calculate_user_distances_diffs(original, firefox_resistFP_120ms_unisolated)\n",
    "\n",
    "calc(firefox_resistFP_120ms_unisolated_user_diffs)\n",
    "\n",
    "#visualize_boxplot(firefox_resistFP_120ms_unisolated_user_diffs, \"Firefox RFP 120ms Unisolated\", \"./firefox_rf_120/unisolated/box.jpeg\")"
   ]
  },
  {
   "cell_type": "code",
   "execution_count": null,
   "metadata": {},
   "outputs": [],
   "source": [
    "# firefox unisolated resistFP 140ms\n",
    "firefox_resistFP_140ms_unisolated = pd.read_csv('./firefox_rf_140/unisolated/complete.csv')\n",
    "firefox_resistFP_140ms_unisolated_user_diffs = calculate_user_distances_diffs(original, firefox_resistFP_140ms_unisolated)\n",
    "\n",
    "calc(firefox_resistFP_140ms_unisolated_user_diffs)\n",
    "\n",
    "#visualize_boxplot(firefox_resistFP_140ms_unisolated_user_diffs, \"Firefox RFP 140ms Unisolated\", \"./firefox_rf_140/unisolated/box.jpeg\")"
   ]
  },
  {
   "cell_type": "code",
   "execution_count": null,
   "metadata": {},
   "outputs": [],
   "source": [
    "# firefox unisolated resistFP 160ms\n",
    "firefox_resistFP_160ms_unisolated = pd.read_csv('./firefox_rf_160/unisolated/complete.csv')\n",
    "firefox_resistFP_160ms_unisolated_user_diffs = calculate_user_distances_diffs(original, firefox_resistFP_160ms_unisolated)\n",
    "\n",
    "calc(firefox_resistFP_160ms_unisolated_user_diffs)\n",
    "\n",
    "#visualize_boxplot(firefox_resistFP_160ms_unisolated_user_diffs, \"Firefox RFP 160ms Unisolated\", \"./firefox_rf_160/unisolated/box.jpeg\")"
   ]
  },
  {
   "cell_type": "code",
   "execution_count": null,
   "metadata": {},
   "outputs": [],
   "source": [
    "# firefox unisolated resistFP 180ms\n",
    "firefox_resistFP_180ms_unisolated = pd.read_csv('./firefox_rf_180/unisolated/complete.csv')\n",
    "firefox_resistFP_180ms_unisolated_user_diffs = calculate_user_distances_diffs(original, firefox_resistFP_180ms_unisolated)\n",
    "\n",
    "calc(firefox_resistFP_180ms_unisolated_user_diffs)\n",
    "\n",
    "#visualize_boxplot(firefox_resistFP_180ms_unisolated_user_diffs, \"Firefox RFP 180ms Unisolated\", \"./firefox_rf_180/unisolated/box.jpeg\")"
   ]
  },
  {
   "cell_type": "code",
   "execution_count": null,
   "metadata": {},
   "outputs": [],
   "source": [
    "# firefox unisolated resistFP 200ms\n",
    "firefox_resistFP_200ms_unisolated = pd.read_csv('./firefox_rf_200/unisolated/complete.csv')\n",
    "firefox_resistFP_200ms_unisolated_user_diffs = calculate_user_distances_diffs(original, firefox_resistFP_200ms_unisolated)\n",
    "\n",
    "calc(firefox_resistFP_200ms_unisolated_user_diffs)\n",
    "\n",
    "#visualize_boxplot(firefox_resistFP_200ms_unisolated_user_diffs, \"Firefox RFP 200ms Unisolated\", \"./firefox_rf_200/unisolated/box.jpeg\")"
   ]
  },
  {
   "cell_type": "code",
   "execution_count": null,
   "metadata": {},
   "outputs": [],
   "source": [
    "# firefox unisolated resistFP NJ\n",
    "firefox_resistFP_NJ_unisolated = pd.read_csv('./firefox_rf_NJ/unisolated/complete.csv')\n",
    "firefox_resistFP_NJ_unisolated_user_diffs = calculate_user_distances_diffs(original, firefox_resistFP_NJ_unisolated)\n",
    "\n",
    "calc(firefox_resistFP_NJ_unisolated_user_diffs)\n",
    "\n",
    "#visualize_boxplot(firefox_resistFP_NJ_unisolated_user_diffs, \"Firefox RFP NJ Unisolated\", \"./firefox_rf_NJ/unisolated/box.jpeg\")"
   ]
  },
  {
   "cell_type": "code",
   "execution_count": null,
   "metadata": {},
   "outputs": [],
   "source": [
    "# firefox unisolated resistFP 20ms NJ\n",
    "firefox_resistFP_20ms_NJ_unisolated = pd.read_csv('./firefox_rf_20_NJ/unisolated/complete.csv')\n",
    "firefox_resistFP_20ms_NJ_unisolated_user_diffs = calculate_user_distances_diffs(original, firefox_resistFP_20ms_NJ_unisolated)\n",
    "\n",
    "calc(firefox_resistFP_20ms_NJ_unisolated_user_diffs)\n",
    "\n",
    "#visualize_boxplot(firefox_resistFP_20ms_NJ_unisolated_user_diffs, \"Firefox RFP 20ms NJ Unisolated\", \"./firefox_rf_20_NJ/unisolated/box.jpeg\")"
   ]
  },
  {
   "cell_type": "code",
   "execution_count": null,
   "metadata": {},
   "outputs": [],
   "source": [
    "# firefox unisolated resistFP 33ms NJ\n",
    "firefox_resistFP_33ms_NJ_unisolated = pd.read_csv('./firefox_rf_33_NJ/unisolated/complete.csv')\n",
    "firefox_resistFP_33ms_NJ_unisolated_user_diffs = calculate_user_distances_diffs(original, firefox_resistFP_33ms_NJ_unisolated)\n",
    "\n",
    "calc(firefox_resistFP_33ms_NJ_unisolated_user_diffs)\n",
    "\n",
    "#visualize_boxplot(firefox_resistFP_33ms_NJ_unisolated_user_diffs, \"Firefox RFP 33.33ms NJ Unisolated\", \"./firefox_rf_33_NJ/unisolated/box.jpeg\")"
   ]
  },
  {
   "cell_type": "code",
   "execution_count": null,
   "metadata": {},
   "outputs": [],
   "source": [
    "# firefox unisolated resistFP 40ms NJ\n",
    "firefox_resistFP_40ms_NJ_unisolated = pd.read_csv('./firefox_rf_40_NJ/unisolated/complete.csv')\n",
    "firefox_resistFP_40ms_NJ_unisolated_user_diffs = calculate_user_distances_diffs(original, firefox_resistFP_40ms_NJ_unisolated)\n",
    "\n",
    "calc(firefox_resistFP_40ms_NJ_unisolated_user_diffs)\n",
    "\n",
    "#visualize_boxplot(firefox_resistFP_40ms_NJ_unisolated_user_diffs, \"Firefox RFP 40ms NJ Unisolated\", \"./firefox_rf_40_NJ/unisolated/box.jpeg\")"
   ]
  },
  {
   "cell_type": "code",
   "execution_count": null,
   "metadata": {},
   "outputs": [],
   "source": [
    "# firefox unisolated resistFP 60ms NJ\n",
    "firefox_resistFP_60ms_NJ_unisolated = pd.read_csv('./firefox_rf_60_NJ/unisolated/complete.csv')\n",
    "firefox_resistFP_60ms_NJ_unisolated_user_diffs = calculate_user_distances_diffs(original, firefox_resistFP_60ms_NJ_unisolated)\n",
    "\n",
    "calc(firefox_resistFP_60ms_NJ_unisolated_user_diffs)\n",
    "\n",
    "#visualize_boxplot(firefox_resistFP_60ms_NJ_unisolated_user_diffs, \"Firefox RFP 60ms NJ Unisolated\", \"./firefox_rf_60_NJ/unisolated/box.jpeg\")"
   ]
  },
  {
   "cell_type": "code",
   "execution_count": null,
   "metadata": {},
   "outputs": [],
   "source": [
    "# firefox unisolated resistFP 80ms NJ\n",
    "firefox_resistFP_80ms_NJ_unisolated = pd.read_csv('./firefox_rf_80_NJ/unisolated/complete.csv')\n",
    "firefox_resistFP_80ms_NJ_unisolated_user_diffs = calculate_user_distances_diffs(original, firefox_resistFP_80ms_NJ_unisolated)\n",
    "\n",
    "calc(firefox_resistFP_80ms_NJ_unisolated_user_diffs)\n",
    "\n",
    "#visualize_boxplot(firefox_resistFP_80ms_NJ_unisolated_user_diffs, \"Firefox RFP 80ms NJ Unisolated\", \"./firefox_rf_80_NJ/unisolated/box.jpeg\")"
   ]
  },
  {
   "cell_type": "code",
   "execution_count": null,
   "metadata": {},
   "outputs": [],
   "source": [
    "# firefox unisolated resistFP 100ms NJ\n",
    "firefox_resistFP_100ms_NJ_unisolated = pd.read_csv('./firefox_rf_100_NJ/unisolated/complete.csv')\n",
    "firefox_resistFP_100ms_NJ_unisolated_user_diffs = calculate_user_distances_diffs(original, firefox_resistFP_100ms_NJ_unisolated)\n",
    "\n",
    "calc(firefox_resistFP_100ms_NJ_unisolated_user_diffs)\n",
    "\n",
    "#visualize_boxplot(firefox_resistFP_100ms_NJ_unisolated_user_diffs, \"Firefox RFP 100ms NJ Unisolated\", \"./firefox_rf_100_NJ/unisolated/box.jpeg\")"
   ]
  },
  {
   "cell_type": "code",
   "execution_count": null,
   "metadata": {},
   "outputs": [],
   "source": [
    "# firefox unisolated resistFP 120ms NJ\n",
    "firefox_resistFP_120ms_NJ_unisolated = pd.read_csv('./firefox_rf_120_NJ/unisolated/complete.csv')\n",
    "firefox_resistFP_120ms_NJ_unisolated_user_diffs = calculate_user_distances_diffs(original, firefox_resistFP_120ms_NJ_unisolated)\n",
    "\n",
    "calc(firefox_resistFP_120ms_NJ_unisolated_user_diffs)\n",
    "\n",
    "#visualize_boxplot(firefox_resistFP_120ms_NJ_unisolated_user_diffs, \"Firefox RFP 120ms NJ Unisolated\", \"./firefox_rf_120_NJ/unisolated/box.jpeg\")"
   ]
  },
  {
   "cell_type": "code",
   "execution_count": null,
   "metadata": {},
   "outputs": [],
   "source": [
    "# firefox unisolated resistFP 140ms NJ\n",
    "firefox_resistFP_140ms_NJ_unisolated = pd.read_csv('./firefox_rf_140_NJ/unisolated/complete.csv')\n",
    "firefox_resistFP_140ms_NJ_unisolated_user_diffs = calculate_user_distances_diffs(original, firefox_resistFP_140ms_NJ_unisolated)\n",
    "\n",
    "calc(firefox_resistFP_140ms_NJ_unisolated_user_diffs)\n",
    "\n",
    "#visualize_boxplot(firefox_resistFP_140ms_NJ_unisolated_user_diffs, \"Firefox RFP 140ms NJ Unisolated\", \"./firefox_rf_140_NJ/unisolated/box.jpeg\")"
   ]
  },
  {
   "cell_type": "code",
   "execution_count": null,
   "metadata": {},
   "outputs": [],
   "source": [
    "# firefox unisolated resistFP 160ms NJ\n",
    "firefox_resistFP_160ms_NJ_unisolated = pd.read_csv('./firefox_rf_160_NJ/unisolated/complete.csv')\n",
    "firefox_resistFP_160ms_NJ_unisolated_user_diffs = calculate_user_distances_diffs(original, firefox_resistFP_160ms_NJ_unisolated)\n",
    "\n",
    "calc(firefox_resistFP_160ms_NJ_unisolated_user_diffs)\n",
    "\n",
    "#visualize_boxplot(firefox_resistFP_160ms_NJ_unisolated_user_diffs, \"Firefox RFP 160ms NJ Unisolated\", \"./firefox_rf_160_NJ/unisolated/box.jpeg\")"
   ]
  },
  {
   "cell_type": "code",
   "execution_count": null,
   "metadata": {},
   "outputs": [],
   "source": [
    "# firefox unisolated resistFP 180ms NJ\n",
    "firefox_resistFP_180ms_NJ_unisolated = pd.read_csv('./firefox_rf_180_NJ/unisolated/complete.csv')\n",
    "firefox_resistFP_180ms_NJ_unisolated_user_diffs = calculate_user_distances_diffs(original, firefox_resistFP_180ms_NJ_unisolated)\n",
    "\n",
    "calc(firefox_resistFP_180ms_NJ_unisolated_user_diffs)\n",
    "\n",
    "#visualize_boxplot(firefox_resistFP_180ms_NJ_unisolated_user_diffs, \"Firefox RFP 180ms NJ Unisolated\", \"./firefox_rf_180_NJ/unisolated/box.jpeg\")"
   ]
  },
  {
   "cell_type": "code",
   "execution_count": null,
   "metadata": {},
   "outputs": [],
   "source": [
    "# firefox unisolated resistFP 200ms NJ\n",
    "firefox_resistFP_200ms_NJ_unisolated = pd.read_csv('./firefox_rf_200_NJ/unisolated/complete.csv')\n",
    "firefox_resistFP_200ms_NJ_unisolated_user_diffs = calculate_user_distances_diffs(original, firefox_resistFP_200ms_NJ_unisolated)\n",
    "\n",
    "calc(firefox_resistFP_200ms_NJ_unisolated_user_diffs)\n",
    "\n",
    "#visualize_boxplot(firefox_resistFP_200ms_NJ_unisolated_user_diffs, \"Firefox RFP 200ms NJ Unisolated\", \"./firefox_rf_200_NJ/unisolated/box.jpeg\")"
   ]
  }
 ],
 "metadata": {
  "kernelspec": {
   "display_name": "Python 3",
   "language": "python",
   "name": "python3"
  },
  "language_info": {
   "codemirror_mode": {
    "name": "ipython",
    "version": 3
   },
   "file_extension": ".py",
   "mimetype": "text/x-python",
   "name": "python",
   "nbconvert_exporter": "python",
   "pygments_lexer": "ipython3",
   "version": "3.11.4"
  },
  "orig_nbformat": 4
 },
 "nbformat": 4,
 "nbformat_minor": 2
}
