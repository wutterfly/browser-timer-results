{
 "cells": [
  {
   "cell_type": "code",
   "execution_count": null,
   "metadata": {},
   "outputs": [],
   "source": [
    "import os"
   ]
  },
  {
   "cell_type": "code",
   "execution_count": null,
   "metadata": {},
   "outputs": [],
   "source": [
    "# rename function\n",
    "def rename(dir: str, prefix: str):\n",
    "    for file in os.listdir(dir):\n",
    "        filename = os.fsdecode(file)\n",
    "        if filename.startswith(prefix):\n",
    "            continue\n",
    "\n",
    "        split = filename.split(\"_\")[-1]\n",
    "\n",
    "        old = os.path.join(dir, filename)\n",
    "        new  = os.path.join(dir,  prefix + split)\n",
    "        os.rename(old, new)"
   ]
  },
  {
   "cell_type": "code",
   "execution_count": null,
   "metadata": {},
   "outputs": [],
   "source": [
    "rename(\"./chromium_1-7/\", \"text_timing_data_\")\n",
    "rename(\"./chromium_8-14/\", \"text_timing_data_\")\n",
    "rename(\"./chromium_15-21/\", \"text_timing_data_\")\n",
    "rename(\"./chromium_22-28/\", \"text_timing_data_\")\n",
    "rename(\"./chromium_29-31/\", \"text_timing_data_\")"
   ]
  }
 ],
 "metadata": {
  "kernelspec": {
   "display_name": "Python 3",
   "language": "python",
   "name": "python3"
  },
  "language_info": {
   "codemirror_mode": {
    "name": "ipython",
    "version": 3
   },
   "file_extension": ".py",
   "mimetype": "text/x-python",
   "name": "python",
   "nbconvert_exporter": "python",
   "pygments_lexer": "ipython3",
   "version": "3.12.0"
  }
 },
 "nbformat": 4,
 "nbformat_minor": 2
}
