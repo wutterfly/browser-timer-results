{
 "cells": [
  {
   "cell_type": "code",
   "execution_count": null,
   "metadata": {},
   "outputs": [],
   "source": [
    "import pandas as pd\n",
    "import matplotlib.pyplot as plt\n",
    "import numpy as np\n",
    "\n",
    "#plt.rcParams['figure.figsize'] = [20, 10]"
   ]
  },
  {
   "cell_type": "code",
   "execution_count": null,
   "metadata": {},
   "outputs": [],
   "source": [
    "# calculate differences between browser and os data\n",
    "def get_differences(browser: pd.Series, os: pd.Series) -> list:\n",
    "    assert len(browser) == len(os)\n",
    "    diffs = [] \n",
    "    for i in range(0, len(browser)):\n",
    "        diffs.append(abs(browser.loc[i] - os.loc[i])  * 1000)\n",
    "\n",
    "    return diffs"
   ]
  },
  {
   "cell_type": "code",
   "execution_count": null,
   "metadata": {},
   "outputs": [],
   "source": [
    "def calc(diffs_natural, diffs_machine):\n",
    "    diffs_natural = np.array(diffs_natural)\n",
    "    diffs_machine = np.array(diffs_machine)\n",
    "\n",
    "    r = 1\n",
    "\n",
    "    mean = diffs_machine.mean()\n",
    "    std = diffs_machine.std()\n",
    "    min = diffs_machine.min()\n",
    "    max = diffs_machine.max()\n",
    "\n",
    "    print(\"Machine\")\n",
    "    print(\"Min : \", round(min, r))\n",
    "    print(\"Max : \", round(max, r))\n",
    "    print(\"Mean: \", round(mean, r))\n",
    "    print(\"Std : \", round(std, r))\n",
    "\n",
    "    mean = diffs_natural.mean()\n",
    "    std = diffs_natural.std()\n",
    "    min = diffs_natural.min()\n",
    "    max = diffs_natural.max()\n",
    "\n",
    "    print(\"Natural\")\n",
    "    print(\"Min : \", round(min, r))\n",
    "    print(\"Max : \", round(max, r))\n",
    "    print(\"Mean: \", round(mean, r))\n",
    "    print(\"Std : \", round(std, r))"
   ]
  },
  {
   "cell_type": "code",
   "execution_count": null,
   "metadata": {},
   "outputs": [],
   "source": [
    "firefox = pd.read_csv(\"./firefox/complete.csv\")\n",
    "firefox_stress = pd.read_csv(\"./firefox_stresstest_own/complete.csv\")"
   ]
  },
  {
   "cell_type": "code",
   "execution_count": null,
   "metadata": {},
   "outputs": [],
   "source": [
    "# firefox\n",
    "firefox_diffs_natural = get_differences(firefox['browser_natural'], firefox['os_natural'])\n",
    "firefox_diffs_machine = get_differences(firefox['browser_machine'], firefox['os_machine'])\n",
    "calc(firefox_diffs_natural, firefox_diffs_machine)"
   ]
  },
  {
   "cell_type": "code",
   "execution_count": null,
   "metadata": {},
   "outputs": [],
   "source": [
    "# firefox stresstest | normal 50%\n",
    "firefox_diffs_natural_normal_50 = get_differences(firefox_stress['browser_natural_normal_50'], firefox_stress['os_natural_normal_50'])\n",
    "firefox_diffs_machine_normal_50 = get_differences(firefox_stress['browser_machine_normal_50'], firefox_stress['os_machine_normal_50'])\n",
    "calc(firefox_diffs_natural_normal_50, firefox_diffs_machine_normal_50)"
   ]
  },
  {
   "cell_type": "code",
   "execution_count": null,
   "metadata": {},
   "outputs": [],
   "source": [
    "# firefox stresstest | normal 75%\n",
    "firefox_diffs_natural_normal_75 = get_differences(firefox_stress['browser_natural_normal_75'], firefox_stress['os_natural_normal_75'])\n",
    "firefox_diffs_machine_normal_75 = get_differences(firefox_stress['browser_machine_normal_75'], firefox_stress['os_machine_normal_75'])\n",
    "calc(firefox_diffs_natural_normal_75, firefox_diffs_machine_normal_75)"
   ]
  },
  {
   "cell_type": "code",
   "execution_count": null,
   "metadata": {},
   "outputs": [],
   "source": [
    "# firefox stresstest | normal 100%\n",
    "firefox_diffs_natural_normal_100 = get_differences(firefox_stress['browser_natural_normal_100'], firefox_stress['os_natural_normal_100'])\n",
    "firefox_diffs_machine_normal_100 = get_differences(firefox_stress['browser_machine_normal_100'], firefox_stress['os_machine_normal_100'])\n",
    "calc(firefox_diffs_natural_normal_100, firefox_diffs_machine_normal_100)"
   ]
  },
  {
   "cell_type": "code",
   "execution_count": null,
   "metadata": {},
   "outputs": [],
   "source": [
    "# firefox stresstest | abovenormal 75%\n",
    "firefox_diffs_natural_abovenormal_75 = get_differences(firefox_stress['browser_natural_abovenormal_75'], firefox_stress['os_natural_abovenormal_75'])\n",
    "firefox_diffs_machine_abovenormal_75 = get_differences(firefox_stress['browser_machine_abovenormal_75'], firefox_stress['os_machine_abovenormal_75'])\n",
    "calc(firefox_diffs_natural_abovenormal_75, firefox_diffs_machine_abovenormal_75)"
   ]
  },
  {
   "cell_type": "code",
   "execution_count": null,
   "metadata": {},
   "outputs": [],
   "source": [
    "# plot\n",
    "plt.boxplot([\n",
    "    #firefox_diffs_natural, firefox_diffs_machine,\n",
    "    firefox_diffs_natural_normal_50, firefox_diffs_machine_normal_50,\n",
    "    firefox_diffs_natural_normal_75, firefox_diffs_machine_normal_75,\n",
    "    firefox_diffs_natural_normal_100, firefox_diffs_machine_normal_100,\n",
    "    firefox_diffs_natural_abovenormal_75, firefox_diffs_machine_abovenormal_75,\n",
    "    ], labels=[\n",
    "    #\"Nutzer\",                       \"Script\",\n",
    "    \"Nutzer (50% normal)\",          \"Script (50% normal)\",\n",
    "    \"Nutzer (75% normal)\",          \"Script (75% normal)\",\n",
    "    \"Nutzer (100% normal)\",         \"Script (100% normal)\",\n",
    "    \"Nutzer (75% abovenormal)\",     \"Script (75% abovenormal)\",\n",
    "    ], showfliers=False, showmeans=True)\n",
    "#plt.title(\"Differenzen zwischen Tasten-Haltedauer in Browsern und nativer Anwendung ( Firefox | Stresstest)\", fontsize=18)\n",
    "plt.xticks(rotation=90, fontsize=14)\n",
    "plt.yticks(fontsize=12)\n",
    "# plt.xlabel(xlabel=\"\", fontsize=18)\n",
    "plt.ylabel(\"Differenzen\\nin Millisekunden\", fontsize=12)\n",
    "plt.tight_layout()\n",
    "plt.savefig(\"./fig_stresstest_own.jpeg\", bbox_inches=\"tight\", pad_inches=0.3)\n",
    "plt.show()"
   ]
  }
 ],
 "metadata": {
  "kernelspec": {
   "display_name": "Python 3",
   "language": "python",
   "name": "python3"
  },
  "language_info": {
   "codemirror_mode": {
    "name": "ipython",
    "version": 3
   },
   "file_extension": ".py",
   "mimetype": "text/x-python",
   "name": "python",
   "nbconvert_exporter": "python",
   "pygments_lexer": "ipython3",
   "version": "3.11.4"
  },
  "orig_nbformat": 4
 },
 "nbformat": 4,
 "nbformat_minor": 2
}
