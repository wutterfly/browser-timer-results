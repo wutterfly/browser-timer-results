{
 "cells": [
  {
   "cell_type": "code",
   "execution_count": 1,
   "metadata": {},
   "outputs": [],
   "source": [
    "# imports/config\n",
    "import pandas as pd\n"
   ]
  },
  {
   "cell_type": "code",
   "execution_count": 2,
   "metadata": {},
   "outputs": [],
   "source": [
    "# read inidividual parts\n",
    "browser_data_natural = pd.read_csv(\"./chrome_natural_browser_overhead_data_extended_js.csv\")\n",
    "os_data_natural = pd.read_csv(\"./chrome_natural_browser_overhead_data_extended_rs.csv\")\n",
    "\n",
    "browser_data_machine = pd.read_csv(\"./chrome_machine_browser_overhead_data_extended_js.csv\")\n",
    "os_data_machine = pd.read_csv(\"./chrome_machine_browser_overhead_data_extended_rs.csv\")\n",
    "\n",
    "\n",
    "assert 200 == len(browser_data_natural) == len(os_data_natural)  \\\n",
    "    == len(browser_data_machine) == len(os_data_machine)\n",
    "\n",
    "assert browser_data_natural['type'].to_list() == os_data_natural['type'].to_list() \\\n",
    "    == browser_data_machine['type'].to_list() == os_data_machine['type'].to_list()\n",
    "\n",
    "types = browser_data_natural['type'].to_list()"
   ]
  },
  {
   "cell_type": "code",
   "execution_count": 3,
   "metadata": {},
   "outputs": [],
   "source": [
    "browser_data_natural = browser_data_natural['timestamp'].to_list()\n",
    "\n",
    "os_data_natural = os_data_natural['timestamp'].to_list()\n",
    "\n",
    "browser_data_machine = browser_data_machine['timestamp'].to_list()\n",
    "\n",
    "os_data_machine = os_data_machine['timestamp'].to_list()\n"
   ]
  },
  {
   "cell_type": "code",
   "execution_count": 4,
   "metadata": {},
   "outputs": [],
   "source": [
    "# convert absolute timestamps to relative timestamps\n",
    "grounded_browser_natural = []\n",
    "grounded_os_natural = []\n",
    "\n",
    "grounded_browser_machine = []\n",
    "grounded_os_machine = []\n",
    "\n",
    "# ground event timestamps on first event\n",
    "for i in range(0, 200):\n",
    "    grounded_browser_natural.append(browser_data_natural[i] - browser_data_natural[0])\n",
    "    grounded_os_natural.append(os_data_natural[i] - os_data_natural[0])\n",
    "\n",
    "    grounded_browser_machine.append(browser_data_machine[i] - browser_data_machine[0])\n",
    "    grounded_os_machine.append(os_data_machine[i] - os_data_machine[0])"
   ]
  },
  {
   "cell_type": "code",
   "execution_count": 5,
   "metadata": {},
   "outputs": [],
   "source": [
    "complete = pd.DataFrame({\n",
    "    'browser_natural': grounded_browser_natural,\n",
    "    'os_natural': grounded_os_natural,\n",
    "    'browser_machine': grounded_browser_machine,\n",
    "    'os_machine': grounded_os_machine,\n",
    "    'type': types,\n",
    "})\n",
    "\n",
    "complete.to_csv(\"./complete.csv\", index=False)"
   ]
  }
 ],
 "metadata": {
  "kernelspec": {
   "display_name": "Python 3",
   "language": "python",
   "name": "python3"
  },
  "language_info": {
   "codemirror_mode": {
    "name": "ipython",
    "version": 3
   },
   "file_extension": ".py",
   "mimetype": "text/x-python",
   "name": "python",
   "nbconvert_exporter": "python",
   "pygments_lexer": "ipython3",
   "version": "3.11.4"
  },
  "orig_nbformat": 4
 },
 "nbformat": 4,
 "nbformat_minor": 2
}
