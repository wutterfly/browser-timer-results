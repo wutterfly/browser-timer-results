{
 "cells": [
  {
   "cell_type": "code",
   "execution_count": null,
   "metadata": {},
   "outputs": [],
   "source": [
    "import pandas as pd\n",
    "import matplotlib.pyplot as plt\n",
    "import numpy as np\n",
    "\n",
    "#plt.rcParams['figure.figsize'] = [20, 10]"
   ]
  },
  {
   "cell_type": "code",
   "execution_count": null,
   "metadata": {},
   "outputs": [],
   "source": [
    "b = 'firefox'\n",
    "iso = 'isolated'\n",
    "\n",
    "#data = pd.read_csv(f'./password_data_rs.csv')\n",
    "data = pd.read_csv(f'./../../{b}/password_data_{b}_{iso}_warmup/password_data_rs.csv')\n",
    "\n",
    "should = data['should_take']\n",
    "took = data['took']\n",
    "\n",
    "\n",
    "diffs = [abs(x - y)*1000 for x,y in zip(should, took)]\n",
    "print(np.array(diffs).mean())\n",
    "plt.plot(diffs)\n",
    "plt.show()\n",
    "    "
   ]
  },
  {
   "cell_type": "code",
   "execution_count": null,
   "metadata": {},
   "outputs": [],
   "source": [
    "b = 'firefox'\n",
    "iso = 'unisolated'\n",
    "m = 0.835977818627452\n",
    "\n",
    "b = 'safari'\n",
    "iso = 'unisolated'\n",
    "m = 2.9708455513235323\n",
    "\n",
    "b = 'safari'\n",
    "iso = 'isolated'\n",
    "m = 3.1814153923529433\n",
    "\n",
    "b = 'firefox'\n",
    "iso = 'isolated'\n",
    "m = 0.9854282058823531"
   ]
  }
 ],
 "metadata": {
  "kernelspec": {
   "display_name": "Python 3",
   "language": "python",
   "name": "python3"
  },
  "language_info": {
   "codemirror_mode": {
    "name": "ipython",
    "version": 3
   },
   "file_extension": ".py",
   "mimetype": "text/x-python",
   "name": "python",
   "nbconvert_exporter": "python",
   "pygments_lexer": "ipython3",
   "version": "3.11.4"
  },
  "orig_nbformat": 4
 },
 "nbformat": 4,
 "nbformat_minor": 2
}
