{
 "cells": [
  {
   "cell_type": "code",
   "execution_count": null,
   "metadata": {},
   "outputs": [],
   "source": [
    "# imports and config\n",
    "import pandas as pd\n",
    "import numpy as np\n",
    "import matplotlib.pyplot as plt\n",
    "\n",
    "plt.rcParams['figure.figsize'] = [20, 10]\n"
   ]
  },
  {
   "cell_type": "code",
   "execution_count": null,
   "metadata": {},
   "outputs": [],
   "source": [
    "# read in original dataset\n",
    "original_data_set = pd.read_csv(\"./DSL-StrongPasswordData.csv\")\n"
   ]
  },
  {
   "cell_type": "code",
   "execution_count": null,
   "metadata": {},
   "outputs": [],
   "source": [
    "# create dataframe with differences\n",
    "def calculate_differences(browser_data_set: pd.DataFrame, original_data_set: pd.DataFrame) -> pd.DataFrame:\n",
    "    diffs = []\n",
    "    for i in range(0, len(original_data_set)):\n",
    "        original_row = original_data_set.iloc[i]\n",
    "        browser_row = browser_data_set.iloc[i]\n",
    "\n",
    "        diffs_row = {\n",
    "            \"subject\": original_row['subject'],\n",
    "            \"sessionIndex\": original_row['sessionIndex'],\n",
    "            \"rep\": original_row['rep'],\n",
    "            \"H.period\": abs(original_row['H.period'] - browser_row['H.period']),\n",
    "            \"DD.period.t\": abs(original_row['DD.period.t'] - browser_row['DD.period.t']),\n",
    "            \"UD.period.t\": abs(original_row['UD.period.t'] - browser_row['UD.period.t']),\n",
    "            \"H.t\": abs(original_row['H.t'] - browser_row['H.t']),\n",
    "            \"DD.t.i\": abs(original_row['DD.t.i'] - browser_row['DD.t.i']),\n",
    "            \"UD.t.i\": abs(original_row['UD.t.i'] - browser_row['UD.t.i']),\n",
    "            \"H.i\": abs(original_row['H.i'] - browser_row['H.i']),\n",
    "            \"DD.i.e\": abs(original_row['DD.i.e'] - browser_row['DD.i.e']),\n",
    "            \"UD.i.e\": abs(original_row['UD.i.e'] - browser_row['UD.i.e']),\n",
    "            \"H.e\": abs(original_row['H.e'] - browser_row['H.e']),\n",
    "            \"DD.e.five\": abs(original_row['DD.e.five'] - browser_row['DD.e.five']),\n",
    "            \"UD.e.five\": abs(original_row['UD.e.five'] - browser_row['UD.e.five']),\n",
    "            \"H.five\": abs(original_row['H.five'] - browser_row['H.five']),\n",
    "            \"DD.five.Shift.r\": abs(original_row['DD.five.Shift.r'] - browser_row['DD.five.Shift.r']),\n",
    "            \"UD.five.Shift.r\": abs(original_row['UD.five.Shift.r'] - browser_row['UD.five.Shift.r']),\n",
    "            \"H.Shift.r\": abs(original_row['H.Shift.r'] - browser_row['H.Shift.r']),\n",
    "            \"DD.Shift.r.o\": abs(original_row['DD.Shift.r.o'] - browser_row['DD.Shift.r.o']),\n",
    "            \"UD.Shift.r.o\": abs(original_row['UD.Shift.r.o'] - browser_row['UD.Shift.r.o']),\n",
    "            \"H.o\": abs(original_row['H.o'] - browser_row['H.o']),\n",
    "            \"DD.o.a\": abs(original_row['DD.o.a'] - browser_row['DD.o.a']),\n",
    "            \"UD.o.a\": abs(original_row['UD.o.a'] - browser_row['UD.o.a']),\n",
    "            \"H.a\": abs(original_row['H.a'] - browser_row['H.a']),\n",
    "            \"DD.a.n\": abs(original_row['DD.a.n'] - browser_row['DD.a.n']),\n",
    "            \"UD.a.n\": abs(original_row['UD.a.n'] - browser_row['UD.a.n']),\n",
    "            \"H.n\": abs(original_row['H.n'] - browser_row['H.n']),\n",
    "            \"DD.n.l\": abs(original_row['DD.n.l'] - browser_row['DD.n.l']),\n",
    "            \"UD.n.l\": abs(original_row['UD.n.l'] - browser_row['UD.n.l']),\n",
    "            \"H.l\": abs(original_row['H.l'] - browser_row['H.l']),\n",
    "            \"DD.l.Return\": abs(original_row['DD.l.Return'] - browser_row['DD.l.Return']),\n",
    "            \"UD.l.Return\": abs(original_row['UD.l.Return'] - browser_row['UD.l.Return']),\n",
    "            \"H.Return\": abs(original_row['H.Return'] - browser_row['H.Return'])\n",
    "        }\n",
    "\n",
    "        diffs.append(diffs_row)\n",
    "\n",
    "    return pd.DataFrame(diffs)"
   ]
  },
  {
   "cell_type": "code",
   "execution_count": null,
   "metadata": {},
   "outputs": [],
   "source": [
    "# visualize differences\n",
    "def visualize(diffs: pd.DataFrame, browser: str, isolated: str, out):\n",
    "    colums = diffs.columns.to_list()\n",
    "    ax = diffs[colums[3:]].plot(\n",
    "        kind='box', title='boxplot', showmeans=True, showfliers=False)\n",
    "\n",
    "    ax.tick_params(axis='x', labelsize=14)\n",
    "    plt.setp(ax.get_xticklabels(), rotation=30, horizontalalignment='right')\n",
    "    plt.title(\n",
    "        f\"Absolute difference between Orginial Data and Simulated Data ({browser} {isolated})\", fontsize=18)\n",
    "    plt.ylabel(\"Difference in sec\", fontsize=18)\n",
    "    plt.xlabel(\"Datapoints\", fontsize=18)\n",
    "    plt.tight_layout()\n",
    "    plt.savefig(out, bbox_inches=\"tight\", pad_inches=0.3)\n",
    "    plt.show()\n"
   ]
  },
  {
   "cell_type": "code",
   "execution_count": null,
   "metadata": {},
   "outputs": [],
   "source": [
    "# calculate data\n",
    "def calc(diffs: pd.DataFrame):\n",
    "    all = []\n",
    "    all += diffs['H.period'].to_list()\n",
    "    all += diffs['DD.period.t'].to_list()\n",
    "    all += diffs['UD.period.t'].to_list()\n",
    "\n",
    "    all += diffs['H.t'].to_list()\n",
    "    all += diffs['DD.t.i'].to_list()\n",
    "    all += diffs['UD.t.i'].to_list()\n",
    "\n",
    "    all += diffs['H.i'].to_list()\n",
    "    all += diffs['DD.i.e'].to_list()\n",
    "    all += diffs['UD.i.e'].to_list()\n",
    "\n",
    "    all += diffs['H.e'].to_list()\n",
    "    all += diffs['DD.e.five'].to_list()\n",
    "    all += diffs['UD.e.five'].to_list()\n",
    "\n",
    "    all += diffs['H.five'].to_list()\n",
    "    all += diffs['DD.five.Shift.r'].to_list()\n",
    "    all += diffs['UD.five.Shift.r'].to_list()\n",
    "\n",
    "    all += diffs['H.Shift.r'].to_list()\n",
    "    all += diffs['DD.Shift.r.o'].to_list()\n",
    "    all += diffs['UD.Shift.r.o'].to_list()\n",
    "\n",
    "    all += diffs['H.o'].to_list()\n",
    "    all += diffs['DD.o.a'].to_list()\n",
    "    all += diffs['UD.o.a'].to_list()\n",
    "\n",
    "    all += diffs['H.a'].to_list()\n",
    "    all += diffs['DD.a.n'].to_list()\n",
    "    all += diffs['UD.a.n'].to_list()\n",
    "\n",
    "    all += diffs['H.n'].to_list()\n",
    "    all += diffs['DD.n.l'].to_list()\n",
    "    all += diffs['UD.n.l'].to_list()\n",
    "\n",
    "    all += diffs['H.l'].to_list()\n",
    "    all += diffs['DD.l.Return'].to_list()\n",
    "    all += diffs['UD.l.Return'].to_list()\n",
    "\n",
    "    all += diffs['H.Return'].to_list()\n",
    "\n",
    "\n",
    "    mean = sum(all) / len(all)\n",
    "    _min = min(all)\n",
    "    _max = max(all)\n",
    "\n",
    "    print('Min:  ', _min)\n",
    "    print('Max:  ', _max)\n",
    "    print('Mean: ', mean)\n",
    "    print('STD: ', np.std(all))"
   ]
  },
  {
   "cell_type": "code",
   "execution_count": null,
   "metadata": {},
   "outputs": [],
   "source": [
    "# Firefox isolated\n",
    "browser_data_set = pd.read_csv(\n",
    "    \"./firefox/password_data_firefox_isolated/full_data_set.csv\")\n",
    "\n",
    "diffs = calculate_differences(browser_data_set, original_data_set)\n",
    "visualize(diffs, browser=\"Firefox\", isolated=\"isolated\", out=\"./firefox/password_data_firefox_isolated/fig.jpeg\")\n"
   ]
  },
  {
   "cell_type": "code",
   "execution_count": null,
   "metadata": {},
   "outputs": [],
   "source": [
    "# Firefox isolated warmup\n",
    "browser_data_set = pd.read_csv(\n",
    "    \"./firefox/password_data_firefox_isolated_warmup/full_data_set.csv\")\n",
    "\n",
    "diffs = calculate_differences(browser_data_set, original_data_set)\n",
    "calc(diffs)\n",
    "visualize(diffs, browser=\"Firefox\", isolated=\"isolated\", out=\"./firefox/password_data_firefox_isolated_warmup/fig.jpeg\")"
   ]
  },
  {
   "cell_type": "code",
   "execution_count": null,
   "metadata": {},
   "outputs": [],
   "source": [
    "# Firefox unisolated\n",
    "browser_data_set = pd.read_csv(\n",
    "    \"./firefox/password_data_firefox_unisolated/full_data_set.csv\")\n",
    "\n",
    "diffs = calculate_differences(browser_data_set, original_data_set)\n",
    "visualize(diffs, browser=\"Firefox\", isolated=\"unisolated\", out=\"./firefox/password_data_firefox_unisolated/fig.jpeg\")\n"
   ]
  },
  {
   "cell_type": "code",
   "execution_count": null,
   "metadata": {},
   "outputs": [],
   "source": [
    "# Firefox unisolated warm up\n",
    "browser_data_set = pd.read_csv(\n",
    "    \"./firefox/password_data_firefox_unisolated_warmup/full_data_set.csv\")\n",
    "\n",
    "diffs = calculate_differences(browser_data_set, original_data_set)\n",
    "calc(diffs)\n",
    "visualize(diffs, browser=\"Firefox\", isolated=\"unisolated\", out=\"./firefox/password_data_firefox_unisolated_warmup/fig.jpeg\")"
   ]
  },
  {
   "cell_type": "code",
   "execution_count": null,
   "metadata": {},
   "outputs": [],
   "source": [
    "# Edge isolated\n",
    "browser_data_set = pd.read_csv(\n",
    "    \"./edge/password_data_edge_isolated/full_data_set.csv\")\n",
    "\n",
    "diffs = calculate_differences(browser_data_set, original_data_set)\n",
    "visualize(diffs, browser=\"Edge\", isolated=\"isolated\",out=\"./edge/password_data_edge_isolated/fig.jpeg\")\n"
   ]
  },
  {
   "cell_type": "code",
   "execution_count": null,
   "metadata": {},
   "outputs": [],
   "source": [
    "# Edge isolated warm up\n",
    "browser_data_set = pd.read_csv(\n",
    "    \"./edge/password_data_edge_isolated_warmup/full_data_set.csv\")\n",
    "\n",
    "diffs = calculate_differences(browser_data_set, original_data_set)\n",
    "calc(diffs)\n",
    "visualize(diffs, browser=\"Edge\", isolated=\"isolated\",out=\"./edge/password_data_edge_isolated_warmup/fig.jpeg\")"
   ]
  },
  {
   "cell_type": "code",
   "execution_count": null,
   "metadata": {},
   "outputs": [],
   "source": [
    "# Edge unisolated\n",
    "browser_data_set = pd.read_csv(\n",
    "    \"./edge/password_data_edge_unisolated/full_data_set.csv\")\n",
    "\n",
    "diffs = calculate_differences(browser_data_set, original_data_set)\n",
    "visualize(diffs, browser=\"Edge\", isolated=\"ununisolated\",out=\"./edge/password_data_edge_unisolated/fig.jpeg\")\n"
   ]
  },
  {
   "cell_type": "code",
   "execution_count": null,
   "metadata": {},
   "outputs": [],
   "source": [
    " # Edge unisolated warm up\n",
    "browser_data_set = pd.read_csv(\n",
    "    \"./edge/password_data_edge_unisolated_warmup/full_data_set.csv\")\n",
    "\n",
    "diffs = calculate_differences(browser_data_set, original_data_set)\n",
    "calc(diffs)\n",
    "visualize(diffs, browser=\"Edge\", isolated=\"ununisolated\",out=\"./edge/password_data_edge_unisolated_warmup/fig.jpeg\")"
   ]
  },
  {
   "cell_type": "code",
   "execution_count": null,
   "metadata": {},
   "outputs": [],
   "source": [
    "# Chromium isolated\n",
    "browser_data_set = pd.read_csv(\n",
    "    \"./chromium/password_data_chromium_isolated/full_data_set.csv\")\n",
    "\n",
    "diffs = calculate_differences(browser_data_set, original_data_set)\n",
    "visualize(diffs, browser=\"Chromium\", isolated=\"isolated\", out=\"./chromium/password_data_chromium_isolated/fig.jpeg\")"
   ]
  },
  {
   "cell_type": "code",
   "execution_count": null,
   "metadata": {},
   "outputs": [],
   "source": [
    "# Chromium isolated warm up\n",
    "browser_data_set = pd.read_csv(\n",
    "    \"./chromium/password_data_chromium_isolated_warmup/full_data_set.csv\")\n",
    "\n",
    "diffs = calculate_differences(browser_data_set, original_data_set)\n",
    "calc(diffs)\n",
    "visualize(diffs, browser=\"Chromium\", isolated=\"isolated\", out=\"./chromium/password_data_chromium_isolated_warmup/fig.jpeg\")"
   ]
  },
  {
   "cell_type": "code",
   "execution_count": null,
   "metadata": {},
   "outputs": [],
   "source": [
    "# Chromium unisolated\n",
    "browser_data_set = pd.read_csv(\n",
    "    \"./chromium/password_data_chromium_unisolated/full_data_set.csv\")\n",
    "\n",
    "diffs = calculate_differences(browser_data_set, original_data_set)\n",
    "visualize(diffs, browser=\"Chromium\", isolated=\"unisolated\", out=\"./chromium/password_data_chromium_unisolated/fig.jpeg\")\n"
   ]
  },
  {
   "cell_type": "code",
   "execution_count": null,
   "metadata": {},
   "outputs": [],
   "source": [
    "# Chromium unisolated warm up\n",
    "browser_data_set = pd.read_csv(\n",
    "    \"./chromium/password_data_chromium_unisolated_warmup/full_data_set.csv\")\n",
    "\n",
    "diffs = calculate_differences(browser_data_set, original_data_set)\n",
    "calc(diffs)\n",
    "visualize(diffs, browser=\"Chromium\", isolated=\"unisolated\", out=\"./chromium/password_data_chromium_unisolated_warmup/fig.jpeg\")"
   ]
  },
  {
   "cell_type": "code",
   "execution_count": null,
   "metadata": {},
   "outputs": [],
   "source": [
    "# Chrome isolated\n",
    "browser_data_set = pd.read_csv(\n",
    "    \"./chrome/password_data_chrome_isolated/full_data_set.csv\")\n",
    "\n",
    "diffs = calculate_differences(browser_data_set, original_data_set)\n",
    "visualize(diffs, browser=\"Chrome\", isolated=\"isolated\", out=\"./chrome/password_data_chrome_isolated/fig.jpeg\")\n"
   ]
  },
  {
   "cell_type": "code",
   "execution_count": null,
   "metadata": {},
   "outputs": [],
   "source": [
    "# Chrome isolated warm up\n",
    "browser_data_set = pd.read_csv(\n",
    "    \"./chrome/password_data_chrome_isolated_warmup/full_data_set.csv\")\n",
    "\n",
    "diffs = calculate_differences(browser_data_set, original_data_set)\n",
    "calc(diffs)\n",
    "visualize(diffs, browser=\"Chrome\", isolated=\"isolated\", out=\"./chrome/password_data_chrome_isolated_warmup/fig.jpeg\")"
   ]
  },
  {
   "cell_type": "code",
   "execution_count": null,
   "metadata": {},
   "outputs": [],
   "source": [
    "# Chrome unisolated\n",
    "browser_data_set = pd.read_csv(\n",
    "    \"./chrome/password_data_chrome_unisolated/full_data_set.csv\")\n",
    "\n",
    "diffs = calculate_differences(browser_data_set, original_data_set)\n",
    "visualize(diffs, browser=\"Chrome\", isolated=\"unisolated\", out=\"./chrome/password_data_chrome_unisolated/fig.jpeg\")\n"
   ]
  },
  {
   "cell_type": "code",
   "execution_count": null,
   "metadata": {},
   "outputs": [],
   "source": [
    "# Chrome unisolated warm up\n",
    "browser_data_set = pd.read_csv(\n",
    "    \"./chrome/password_data_chrome_unisolated_warmup/full_data_set.csv\")\n",
    "\n",
    "diffs = calculate_differences(browser_data_set, original_data_set)\n",
    "calc(diffs)\n",
    "visualize(diffs, browser=\"Chrome\", isolated=\"unisolated\", out=\"./chrome/password_data_chrome_unisolated_warmup/fig.jpeg\")"
   ]
  },
  {
   "cell_type": "code",
   "execution_count": null,
   "metadata": {},
   "outputs": [],
   "source": [
    "# Tor unisolated\n",
    "browser_data_set = pd.read_csv(\n",
    "    \"./tor/password_data_tor_unisolated/full_data_set.csv\")\n",
    "\n",
    "diffs = calculate_differences(browser_data_set, original_data_set)\n",
    "visualize(diffs, browser=\"Tor\", isolated=\"unisolated\", out=\"./tor/password_data_tor_unisolated/fig.jpeg\")\n"
   ]
  },
  {
   "cell_type": "code",
   "execution_count": null,
   "metadata": {},
   "outputs": [],
   "source": [
    "# Tor unisolated warm up\n",
    "browser_data_set = pd.read_csv(\n",
    "    \"./tor/password_data_tor_unisolated_warmup/full_data_set.csv\")\n",
    "\n",
    "diffs = calculate_differences(browser_data_set, original_data_set)\n",
    "calc(diffs)\n",
    "visualize(diffs, browser=\"Tor\", isolated=\"unisolated\", out=\"./tor/password_data_tor_unisolated_warmup/fig.jpeg\")"
   ]
  },
  {
   "cell_type": "code",
   "execution_count": null,
   "metadata": {},
   "outputs": [],
   "source": [
    "# Safari isolated\n",
    "browser_data_set = pd.read_csv(\n",
    "    \"./safari/password_data_safari_isolated/full_data_set.csv\")\n",
    "\n",
    "diffs = calculate_differences(browser_data_set, original_data_set)\n",
    "visualize(diffs, browser=\"Safari\", isolated=\"isolated\", out=\"./safari/password_data_safari_isolated/fig.jpeg\")\n"
   ]
  },
  {
   "cell_type": "code",
   "execution_count": null,
   "metadata": {},
   "outputs": [],
   "source": [
    "# Safari unisolated\n",
    "browser_data_set = pd.read_csv(\n",
    "    \"./safari/password_data_safari_unisolated/full_data_set.csv\")\n",
    "\n",
    "diffs = calculate_differences(browser_data_set, original_data_set)\n",
    "visualize(diffs, browser=\"Safari\", isolated=\"unisolated\", out=\"./safari/password_data_safari_unisolated/fig.jpeg\")"
   ]
  },
  {
   "cell_type": "code",
   "execution_count": null,
   "metadata": {},
   "outputs": [],
   "source": [
    "# Safari isolated warm up\n",
    "safari_isolated_warmup = pd.read_csv('./safari/password_data_safari_isolated_warm_up/full_data_set.csv')\n",
    "\n",
    "diffs = calculate_differences(safari_isolated_warmup, original_data_set)\n",
    "visualize(diffs, browser=\"Safari\", isolated=\"isolated warm up\", out=\"./safari/password_data_safari_isolated_warm_up/fig.jpeg\")"
   ]
  },
  {
   "cell_type": "code",
   "execution_count": null,
   "metadata": {},
   "outputs": [],
   "source": [
    "# Safari unisolated warm up\n",
    "safari_unisolated_warmup = pd.read_csv('./safari/password_data_safari_unisolated_warm_up/full_data_set.csv')\n",
    "\n",
    "diffs = calculate_differences(safari_unisolated_warmup, original_data_set)\n",
    "visualize(diffs, browser=\"Safari\", isolated=\"unisolated warm up\", out=\"./safari/password_data_safari_unisolated_warm_up/fig.jpeg\")"
   ]
  },
  {
   "cell_type": "code",
   "execution_count": null,
   "metadata": {},
   "outputs": [],
   "source": [
    "# Firefox isolated warm up and resistFingerprinting\n",
    "firefox_isolated_warmup_resist = pd.read_csv('./firefox_resistFingerprinting/firefox_isolated_resistFingerprinting_true/full_data_set.csv')\n",
    "\n",
    "diffs = calculate_differences(firefox_isolated_warmup_resist, original_data_set)\n",
    "calc(diffs)\n",
    "visualize(diffs, browser=\"Firefox\", isolated=\"isolated warm up | resistFingerprinting\", out=\"./firefox_resistFingerprinting/firefox_isolated_resistFingerprinting_true/fig.jpeg\")"
   ]
  },
  {
   "cell_type": "code",
   "execution_count": null,
   "metadata": {},
   "outputs": [],
   "source": [
    "# Firefox unisolated warm up and resistFingerprinting\n",
    "firefox_unisolated_warmup_resist = pd.read_csv('./firefox_resistFP/firefox_unisolated_resistFP/full_data_set.csv')\n",
    "\n",
    "diffs = calculate_differences(firefox_unisolated_warmup_resist, original_data_set)\n",
    "calc(diffs)\n",
    "visualize(diffs, browser=\"Firefox\", isolated=\"unisolated warm up | resistFingerprinting\", out=\"./firefox_resistFP/firefox_unisolated_resistFP/fig.jpeg\")"
   ]
  },
  {
   "cell_type": "code",
   "execution_count": null,
   "metadata": {},
   "outputs": [],
   "source": [
    "# Firefox unisolated warm up and resistFingerprinting 20ms\n",
    "firefox_unisolated_warmup_resist_20ms = pd.read_csv('./firefox_resistFP_20/firefox_unisolated_resistFP_20ms/full_data_set.csv')\n",
    "\n",
    "diffs = calculate_differences(firefox_unisolated_warmup_resist_20ms, original_data_set)\n",
    "calc(diffs)\n",
    "visualize(diffs, browser=\"Firefox\", isolated=\"unisolated warm up | resistFingerprinting 20ms\", out=\"./firefox_resistFP_20/firefox_unisolated_resistFP_20ms/fig.jpeg\")"
   ]
  },
  {
   "cell_type": "code",
   "execution_count": null,
   "metadata": {},
   "outputs": [],
   "source": [
    "# Firefox unisolated warm up and resistFingerprinting 33ms\n",
    "firefox_unisolated_warmup_resist_33ms = pd.read_csv('./firefox_resistFP_33/firefox_unisolated_resistFP_33ms/full_data_set.csv')\n",
    "\n",
    "diffs = calculate_differences(firefox_unisolated_warmup_resist_33ms, original_data_set)\n",
    "calc(diffs)\n",
    "visualize(diffs, browser=\"Firefox\", isolated=\"unisolated warm up | resistFingerprinting 33ms\", out=\"./firefox_resistFP_33/firefox_unisolated_resistFP_33ms/fig.jpeg\")"
   ]
  },
  {
   "cell_type": "code",
   "execution_count": null,
   "metadata": {},
   "outputs": [],
   "source": [
    "# Firefox unisolated warm up and resistFingerprinting 40ms\n",
    "firefox_unisolated_warmup_resist_40ms = pd.read_csv('./firefox_resistFP_40/firefox_unisolated_resistFP_40ms/full_data_set.csv')\n",
    "\n",
    "diffs = calculate_differences(firefox_unisolated_warmup_resist_40ms, original_data_set)\n",
    "calc(diffs)\n",
    "visualize(diffs, browser=\"Firefox\", isolated=\"unisolated warm up | resistFingerprinting 40ms\", out=\"./firefox_resistFP_40/firefox_unisolated_resistFP_40ms/fig.jpeg\")"
   ]
  },
  {
   "cell_type": "code",
   "execution_count": null,
   "metadata": {},
   "outputs": [],
   "source": [
    "# Firefox unisolated warm up and resistFingerprinting 60ms\n",
    "firefox_unisolated_warmup_resist_60ms = pd.read_csv('./firefox_resistFP_60/firefox_unisolated_resistFP_60ms/full_data_set.csv')\n",
    "\n",
    "diffs = calculate_differences(firefox_unisolated_warmup_resist_60ms, original_data_set)\n",
    "calc(diffs)\n",
    "visualize(diffs, browser=\"Firefox\", isolated=\"unisolated warm up | resistFingerprinting 60ms\", out=\"./firefox_resistFP_60/firefox_unisolated_resistFP_60ms/fig.jpeg\")"
   ]
  },
  {
   "cell_type": "code",
   "execution_count": null,
   "metadata": {},
   "outputs": [],
   "source": [
    "# Firefox unisolated warm up and resistFingerprinting 80ms\n",
    "firefox_unisolated_warmup_resist_80ms = pd.read_csv('./firefox_resistFP_80/firefox_unisolated_resistFP_80ms/full_data_set.csv')\n",
    "\n",
    "diffs = calculate_differences(firefox_unisolated_warmup_resist_80ms, original_data_set)\n",
    "calc(diffs)\n",
    "visualize(diffs, browser=\"Firefox\", isolated=\"unisolated warm up | resistFingerprinting 80ms\", out=\"./firefox_resistFP_80/firefox_unisolated_resistFP_80ms/fig.jpeg\")"
   ]
  },
  {
   "cell_type": "code",
   "execution_count": null,
   "metadata": {},
   "outputs": [],
   "source": [
    "# Firefox unisolated warm up and resistFingerprinting 100ms\n",
    "firefox_unisolated_warmup_resist_100ms = pd.read_csv('./firefox_resistFP_100/firefox_unisolated_resistFP_100ms/full_data_set.csv')\n",
    "\n",
    "diffs = calculate_differences(firefox_unisolated_warmup_resist_100ms, original_data_set)\n",
    "calc(diffs)\n",
    "visualize(diffs, browser=\"Firefox\", isolated=\"unisolated warm up | resistFingerprinting 100ms\", out=\"./firefox_resistFP_100/firefox_unisolated_resistFP_100ms/fig.jpeg\")"
   ]
  },
  {
   "cell_type": "code",
   "execution_count": null,
   "metadata": {},
   "outputs": [],
   "source": [
    "# Firefox unisolated warm up and resistFingerprinting 120ms\n",
    "firefox_unisolated_warmup_resist_120ms = pd.read_csv('./firefox_resistFP_120/firefox_unisolated_resistFP_120ms/full_data_set.csv')\n",
    "\n",
    "diffs = calculate_differences(firefox_unisolated_warmup_resist_120ms, original_data_set)\n",
    "calc(diffs)\n",
    "visualize(diffs, browser=\"Firefox\", isolated=\"unisolated warm up | resistFingerprinting 120ms\", out=\"./firefox_resistFP_120/firefox_unisolated_resistFP_120ms/fig.jpeg\")"
   ]
  },
  {
   "cell_type": "code",
   "execution_count": null,
   "metadata": {},
   "outputs": [],
   "source": [
    "# Firefox unisolated warm up and resistFingerprinting 140ms\n",
    "firefox_unisolated_warmup_resist_140ms = pd.read_csv('./firefox_resistFP_140/firefox_unisolated_resistFP_140ms/full_data_set.csv')\n",
    "\n",
    "diffs = calculate_differences(firefox_unisolated_warmup_resist_140ms, original_data_set)\n",
    "calc(diffs)\n",
    "visualize(diffs, browser=\"Firefox\", isolated=\"unisolated warm up | resistFingerprinting 140ms\", out=\"./firefox_resistFP_140/firefox_unisolated_resistFP_140ms/fig.jpeg\")"
   ]
  },
  {
   "cell_type": "code",
   "execution_count": null,
   "metadata": {},
   "outputs": [],
   "source": [
    "# Firefox unisolated warm up and resistFingerprinting 160ms\n",
    "firefox_unisolated_warmup_resist_160ms = pd.read_csv('./firefox_resistFP_160/firefox_unisolated_resistFP_160ms/full_data_set.csv')\n",
    "\n",
    "diffs = calculate_differences(firefox_unisolated_warmup_resist_160ms, original_data_set)\n",
    "calc(diffs)\n",
    "visualize(diffs, browser=\"Firefox\", isolated=\"unisolated warm up | resistFingerprinting 160ms\", out=\"./firefox_resistFP_160/firefox_unisolated_resistFP_160ms/fig.jpeg\")"
   ]
  },
  {
   "cell_type": "code",
   "execution_count": null,
   "metadata": {},
   "outputs": [],
   "source": [
    "# Firefox unisolated warm up and resistFingerprinting 180ms\n",
    "firefox_unisolated_warmup_resist_180ms = pd.read_csv('./firefox_resistFP_180/firefox_unisolated_resistFP_180ms/full_data_set.csv')\n",
    "\n",
    "diffs = calculate_differences(firefox_unisolated_warmup_resist_180ms, original_data_set)\n",
    "calc(diffs)\n",
    "visualize(diffs, browser=\"Firefox\", isolated=\"unisolated warm up | resistFingerprinting 180ms\", out=\"./firefox_resistFP_180/firefox_unisolated_resistFP_180ms/fig.jpeg\")"
   ]
  },
  {
   "cell_type": "code",
   "execution_count": null,
   "metadata": {},
   "outputs": [],
   "source": [
    "# Firefox unisolated warm up and resistFingerprinting 200ms\n",
    "firefox_unisolated_warmup_resist_200ms = pd.read_csv('./firefox_resistFP_200/firefox_unisolated_resistFP_200ms/full_data_set.csv')\n",
    "\n",
    "diffs = calculate_differences(firefox_unisolated_warmup_resist_200ms, original_data_set)\n",
    "calc(diffs)\n",
    "visualize(diffs, browser=\"Firefox\", isolated=\"unisolated warm up | resistFingerprinting 200ms\", out=\"./firefox_resistFP_200/firefox_unisolated_resistFP_200ms/fig.jpeg\")"
   ]
  },
  {
   "cell_type": "code",
   "execution_count": null,
   "metadata": {},
   "outputs": [],
   "source": [
    "# Firefox unisolated resistFingerprinting NJ\n",
    "firefox_unisolated_warmup_resist_NJ = pd.read_csv('./firefox_resistFP_NJ/firefox_unisolated_resistFP_NJ/full_data_set.csv')\n",
    "\n",
    "diffs = calculate_differences(firefox_unisolated_warmup_resist_NJ, original_data_set)\n",
    "calc(diffs)\n",
    "visualize(diffs, browser=\"Firefox\", isolated=\"unisolated warm up | resistFingerprinting NJ\", out=\"./firefox_resistFP_NJ/firefox_unisolated_resistFP_NJ/fig.jpeg\")"
   ]
  },
  {
   "cell_type": "code",
   "execution_count": null,
   "metadata": {},
   "outputs": [],
   "source": [
    "# Firefox unisolated resistFingerprinting 20ms NJ\n",
    "firefox_unisolated_warmup_resist_20ms_NJ = pd.read_csv('./firefox_resistFP_20_NJ/firefox_unisolated_resistFP_20ms_NJ/full_data_set.csv')\n",
    "\n",
    "diffs = calculate_differences(firefox_unisolated_warmup_resist_20ms_NJ, original_data_set)\n",
    "calc(diffs)\n",
    "visualize(diffs, browser=\"Firefox\", isolated=\"unisolated warm up | resistFingerprinting 20ms NJ\", out=\"./firefox_resistFP_20_NJ/firefox_unisolated_resistFP_20ms_NJ/fig.jpeg\")"
   ]
  },
  {
   "cell_type": "code",
   "execution_count": null,
   "metadata": {},
   "outputs": [],
   "source": [
    "# Firefox unisolated resistFingerprinting 33ms NJ\n",
    "firefox_unisolated_warmup_resist_33ms_NJ = pd.read_csv('./firefox_resistFP_33_NJ/firefox_unisolated_resistFP_33ms_NJ/full_data_set.csv')\n",
    "\n",
    "diffs = calculate_differences(firefox_unisolated_warmup_resist_33ms_NJ, original_data_set)\n",
    "calc(diffs)\n",
    "visualize(diffs, browser=\"Firefox\", isolated=\"unisolated warm up | resistFingerprinting 33ms NJ\", out=\"./firefox_resistFP_33_NJ/firefox_unisolated_resistFP_33ms_NJ/fig.jpeg\")"
   ]
  },
  {
   "cell_type": "code",
   "execution_count": null,
   "metadata": {},
   "outputs": [],
   "source": [
    "# Firefox unisolated resistFingerprinting 40ms NJ\n",
    "firefox_unisolated_warmup_resist_40ms_NJ = pd.read_csv('./firefox_resistFP_40_NJ/firefox_unisolated_resistFP_40ms_NJ/full_data_set.csv')\n",
    "\n",
    "diffs = calculate_differences(firefox_unisolated_warmup_resist_40ms_NJ, original_data_set)\n",
    "calc(diffs)\n",
    "visualize(diffs, browser=\"Firefox\", isolated=\"unisolated warm up | resistFingerprinting 40ms NJ\", out=\"./firefox_resistFP_40_NJ/firefox_unisolated_resistFP_40ms_NJ/fig.jpeg\")"
   ]
  },
  {
   "cell_type": "code",
   "execution_count": null,
   "metadata": {},
   "outputs": [],
   "source": [
    "# Firefox unisolated resistFingerprinting 60ms NJ\n",
    "firefox_unisolated_warmup_resist_60ms_NJ = pd.read_csv('./firefox_resistFP_60_NJ/firefox_unisolated_resistFP_60ms_NJ/full_data_set.csv')\n",
    "\n",
    "diffs = calculate_differences(firefox_unisolated_warmup_resist_60ms_NJ, original_data_set)\n",
    "calc(diffs)\n",
    "visualize(diffs, browser=\"Firefox\", isolated=\"unisolated warm up | resistFingerprinting 60ms NJ\", out=\"./firefox_resistFP_60_NJ/firefox_unisolated_resistFP_60ms_NJ/fig.jpeg\")"
   ]
  },
  {
   "cell_type": "code",
   "execution_count": null,
   "metadata": {},
   "outputs": [],
   "source": [
    "# Firefox unisolated resistFingerprinting 80ms NJ\n",
    "firefox_unisolated_warmup_resist_80ms_NJ = pd.read_csv('./firefox_resistFP_80_NJ/firefox_unisolated_resistFP_80ms_NJ/full_data_set.csv')\n",
    "\n",
    "diffs = calculate_differences(firefox_unisolated_warmup_resist_80ms_NJ, original_data_set)\n",
    "calc(diffs)\n",
    "visualize(diffs, browser=\"Firefox\", isolated=\"unisolated warm up | resistFingerprinting 80ms NJ\", out=\"./firefox_resistFP_80_NJ/firefox_unisolated_resistFP_80ms_NJ/fig.jpeg\")"
   ]
  },
  {
   "cell_type": "code",
   "execution_count": null,
   "metadata": {},
   "outputs": [],
   "source": [
    "# Firefox unisolated resistFingerprinting 100ms NJ\n",
    "firefox_unisolated_warmup_resist_100ms_NJ = pd.read_csv('./firefox_resistFP_100_NJ/firefox_unisolated_resistFP_100ms_NJ/full_data_set.csv')\n",
    "\n",
    "diffs = calculate_differences(firefox_unisolated_warmup_resist_100ms_NJ, original_data_set)\n",
    "calc(diffs)\n",
    "visualize(diffs, browser=\"Firefox\", isolated=\"unisolated warm up | resistFingerprinting 100ms NJ\", out=\"./firefox_resistFP_100_NJ/firefox_unisolated_resistFP_100ms_NJ/fig.jpeg\")"
   ]
  },
  {
   "cell_type": "code",
   "execution_count": null,
   "metadata": {},
   "outputs": [],
   "source": [
    "# Firefox unisolated resistFingerprinting 120ms NJ\n",
    "firefox_unisolated_warmup_resist_120ms_NJ = pd.read_csv('./firefox_resistFP_120_NJ/firefox_unisolated_resistFP_120ms_NJ/full_data_set.csv')\n",
    "\n",
    "diffs = calculate_differences(firefox_unisolated_warmup_resist_120ms_NJ, original_data_set)\n",
    "calc(diffs)\n",
    "visualize(diffs, browser=\"Firefox\", isolated=\"unisolated warm up | resistFingerprinting 120ms NJ\", out=\"./firefox_resistFP_120_NJ/firefox_unisolated_resistFP_120ms_NJ/fig.jpeg\")"
   ]
  },
  {
   "cell_type": "code",
   "execution_count": null,
   "metadata": {},
   "outputs": [],
   "source": [
    "# Firefox unisolated resistFingerprinting 140ms NJ\n",
    "firefox_unisolated_warmup_resist_140ms_NJ = pd.read_csv('./firefox_resistFP_140_NJ/firefox_unisolated_resistFP_140ms_NJ/full_data_set.csv')\n",
    "\n",
    "diffs = calculate_differences(firefox_unisolated_warmup_resist_140ms_NJ, original_data_set)\n",
    "calc(diffs)\n",
    "visualize(diffs, browser=\"Firefox\", isolated=\"unisolated warm up | resistFingerprinting 140ms NJ\", out=\"./firefox_resistFP_140_NJ/firefox_unisolated_resistFP_140ms_NJ/fig.jpeg\")"
   ]
  },
  {
   "cell_type": "code",
   "execution_count": null,
   "metadata": {},
   "outputs": [],
   "source": [
    "# Firefox unisolated resistFingerprinting 160ms NJ\n",
    "firefox_unisolated_warmup_resist_160ms_NJ = pd.read_csv('./firefox_resistFP_160_NJ/firefox_unisolated_resistFP_160ms_NJ/full_data_set.csv')\n",
    "\n",
    "diffs = calculate_differences(firefox_unisolated_warmup_resist_160ms_NJ, original_data_set)\n",
    "calc(diffs)\n",
    "visualize(diffs, browser=\"Firefox\", isolated=\"unisolated warm up | resistFingerprinting 160ms NJ\", out=\"./firefox_resistFP_160_NJ/firefox_unisolated_resistFP_160ms_NJ/fig.jpeg\")"
   ]
  },
  {
   "cell_type": "code",
   "execution_count": null,
   "metadata": {},
   "outputs": [],
   "source": [
    "# Firefox unisolated resistFingerprinting 180ms NJ\n",
    "firefox_unisolated_warmup_resist_180ms_NJ = pd.read_csv('./firefox_resistFP_180_NJ/firefox_unisolated_resistFP_180ms_NJ/full_data_set.csv')\n",
    "\n",
    "diffs = calculate_differences(firefox_unisolated_warmup_resist_180ms_NJ, original_data_set)\n",
    "calc(diffs)\n",
    "visualize(diffs, browser=\"Firefox\", isolated=\"unisolated warm up | resistFingerprinting 180ms NJ\", out=\"./firefox_resistFP_180_NJ/firefox_unisolated_resistFP_180ms_NJ/fig.jpeg\")"
   ]
  },
  {
   "cell_type": "code",
   "execution_count": null,
   "metadata": {},
   "outputs": [],
   "source": [
    "# Firefox unisolated resistFingerprinting 200ms NJ\n",
    "firefox_unisolated_warmup_resist_200ms_NJ = pd.read_csv('./firefox_resistFP_200_NJ/firefox_unisolated_resistFP_200ms_NJ/full_data_set.csv')\n",
    "\n",
    "diffs = calculate_differences(firefox_unisolated_warmup_resist_200ms_NJ, original_data_set)\n",
    "calc(diffs)\n",
    "visualize(diffs, browser=\"Firefox\", isolated=\"unisolated warm up | resistFingerprinting 200ms NJ\", out=\"./firefox_resistFP_200_NJ/firefox_unisolated_resistFP_200ms_NJ/fig.jpeg\")"
   ]
  }
 ],
 "metadata": {
  "kernelspec": {
   "display_name": "Python 3",
   "language": "python",
   "name": "python3"
  },
  "language_info": {
   "codemirror_mode": {
    "name": "ipython",
    "version": 3
   },
   "file_extension": ".py",
   "mimetype": "text/x-python",
   "name": "python",
   "nbconvert_exporter": "python",
   "pygments_lexer": "ipython3",
   "version": "3.11.4"
  },
  "orig_nbformat": 4
 },
 "nbformat": 4,
 "nbformat_minor": 2
}
