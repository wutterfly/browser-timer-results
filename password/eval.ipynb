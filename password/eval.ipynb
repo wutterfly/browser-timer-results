{
 "cells": [
  {
   "cell_type": "code",
   "execution_count": null,
   "metadata": {},
   "outputs": [],
   "source": [
    "import numpy as np\n",
    "from numpy import mean, absolute\n",
    "from scipy.spatial.distance import cdist\n",
    "from scipy.spatial import distance\n",
    "from scipy.linalg import pinv\n",
    "\n",
    "from sklearn.metrics import roc_curve\n",
    "\n",
    "import pandas as pd"
   ]
  },
  {
   "cell_type": "code",
   "execution_count": null,
   "metadata": {},
   "outputs": [],
   "source": [
    "###########################################################################\n",
    "# 1. Anomaly detectors\n",
    "###########################################################################\n",
    "\n",
    "# The euclideanTrain and euclideanScore functions comprise the\n",
    "# Euclidean anomaly detector.  During training, the detector takes a\n",
    "# set of password-timing vectors (encoded as rows in a matrix) and\n",
    "# calculates the mean vector.  This mean vector is returned as the\n",
    "# detection model.  During scoring, the detector takes the detection\n",
    "# model and a new set of password-timing vectors (also encoded as rows\n",
    "# in a matrix) and calculates the squared Euclidean distance between\n",
    "# the mean vector and each of the new password-timing vectors.  These\n",
    "# scores are returned in a vector whose length is equal to the number\n",
    "# of password-timing vectors in the scoring matrix.\n",
    "\n",
    "def euclideanTrain(YTrain):\n",
    "    dmod = {'mean': np.mean(YTrain, axis=0)}\n",
    "    return dmod\n",
    "\n",
    "\n",
    "def euclideanScore(dmod, YScore):\n",
    "    p = len(dmod['mean'])\n",
    "    n = YScore.shape[0]\n",
    "\n",
    "    if YScore.shape[1] != p:\n",
    "        raise ValueError(\"Training/test feature length mismatch\")\n",
    "\n",
    "    meanMatrix = np.tile(dmod['mean'], (n, 1))\n",
    "\n",
    "    scores = np.sum(np.square(YScore - meanMatrix), axis=1)\n",
    "\n",
    "    return scores\n",
    "\n",
    "\n",
    "# The manhattanTrain and manhattanScore functions comprise the\n",
    "# Manhattan anomaly detector.  During training, the detector takes a\n",
    "# set of password-timing vectors (encoded as rows in a matrix) and\n",
    "# calculates the mean vector.  This mean vector is returned as the\n",
    "# detection model.  During scoring, the detector takes the detection\n",
    "# model and a new set of password-timing vectors (also encoded as rows\n",
    "# in a matrix) and calculates the Manhattan distance between the mean\n",
    "# vector and each of the new password-timing vectors.  These scores\n",
    "# are returned in a vector whose length is equal to the number of\n",
    "# password-timing vectors in the scoring matrix.\n",
    "\n",
    "def manhattanTrain(YTrain):\n",
    "    dmod = {'mean': np.mean(YTrain, axis=0)}\n",
    "    return dmod\n",
    "\n",
    "\n",
    "def manhattanScore(dmod, YScore):\n",
    "    p = len(dmod['mean'])\n",
    "    n = YScore.shape[0]\n",
    "\n",
    "    if YScore.shape[1] != p:\n",
    "        raise ValueError(\"Training/test feature length mismatch\")\n",
    "\n",
    "    meanMatrix = np.tile(dmod['mean'], (n, 1))\n",
    "\n",
    "    scores = np.sum(np.abs(YScore - meanMatrix), axis=1)\n",
    "\n",
    "    return scores\n",
    "\n",
    "\n",
    "# Scaled Manhattan distance\n",
    "def mad(data, axis=None):\n",
    "    return mean(absolute(data - mean(data, axis)), axis)\n",
    "\n",
    "def manhattanScaledTrain(YTrain):\n",
    "    dmod = {'mean': np.mean(YTrain, axis=0), 'mad': mad(YTrain,0)}\n",
    "    return dmod\n",
    "\n",
    "\n",
    "def manhattanScaledScore(dmod, YScore):\n",
    "    p = len(dmod['mean'])\n",
    "    n = YScore.shape[0]\n",
    "    \n",
    "    if YScore.shape[1] != p:\n",
    "        raise ValueError(\"Training/test feature length mismatch\")\n",
    "\n",
    "    meanMatrix = np.tile(dmod['mean'], (n, 1))\n",
    "    scores = np.sum(np.abs(YScore - meanMatrix)/dmod[\"mad\"].T, axis=1)\n",
    "    return scores\n",
    "\n",
    "\n",
    "# The mahalanobisTrain and mahalanobisScore functions comprise the\n",
    "# Mahalanobis anomaly detector.  During training, the detector takes a\n",
    "# set of password-timing vectors (encoded as rows in a matrix) and\n",
    "# calculates the mean vector and also the inverse of the covariance\n",
    "# matrix.  This vector and matrix are returned as the detection model.\n",
    "# During scoring, the detector takes the detection model and a new set\n",
    "# of password-timing vectors (also encoded as rows in a matrix) and\n",
    "# calculates the squared Mahalanobis distance between the mean vector\n",
    "# and each of the new password-timing vectors.  These scores are\n",
    "# returned in a vector whose length is equal to the number of\n",
    "# password-timing vectors in the scoring matrix.\n",
    "\n",
    "def mahalanobisTrain(YTrain):\n",
    "    dmod = {\n",
    "        'mean': np.mean(YTrain, axis=0), \n",
    "        'covInv': pinv(np.cov(YTrain, rowvar=False))}\n",
    "    return dmod\n",
    "\n",
    "\n",
    "def mahalanobisR(X, meanCol, IC):\n",
    "    m = []\n",
    "    for i in range(X.shape[0]):\n",
    "        m.append(distance.mahalanobis(X[i], meanCol, IC) ** 2)\n",
    "    return(m)\n",
    "\n",
    "\n",
    "def mahalanobisScore(dmod, YScore):\n",
    "    p = len(dmod['mean'])\n",
    "    n = YScore.shape[0]\n",
    "\n",
    "    if YScore.shape[1] != p:\n",
    "        raise ValueError(\"Training/test feature length mismatch\")\n",
    "\n",
    "    scores = mahalanobisR(YScore, dmod['mean'], dmod['covInv'])\n",
    "\n",
    "    return scores\n",
    "\n",
    "\n",
    "detectorSet = {\n",
    "    'Euclidean': {\n",
    "        'train': euclideanTrain,\n",
    "        'score': euclideanScore\n",
    "    },\n",
    "    'Manhattan': {\n",
    "        'train': manhattanTrain,\n",
    "        'score': manhattanScore\n",
    "    },\n",
    "    'ManhattanScaled':{\n",
    "        'train': manhattanScaledTrain,\n",
    "        'score': manhattanScaledScore\n",
    "    },\n",
    "    'Mahalanobis': {\n",
    "        'train': mahalanobisTrain,\n",
    "        'score': mahalanobisScore\n",
    "    }\n",
    "}\n"
   ]
  },
  {
   "cell_type": "code",
   "execution_count": null,
   "metadata": {},
   "outputs": [],
   "source": [
    "###########################################################################\n",
    "# 2. Evaluation procedures\n",
    "###########################################################################\n",
    "\n",
    "# The calculateEqualError function takes a set of user scores and\n",
    "# impostor scores, makes an ROC curve using the ROCR functionality,\n",
    "# and then geometrically calculates the point at which the miss and\n",
    "# false-alarm (i.e., false-negative and false-positive) rates are\n",
    "# equal.\n",
    "\n",
    "def calculateEqualError(userScores, impostorScores):\n",
    "    \n",
    "    predictions = np.concatenate((userScores, impostorScores), axis=None)\n",
    "    labels = [0] * len(userScores) + [1] * len(impostorScores)\n",
    "\n",
    "    fpr, tpr, thresholds = roc_curve(labels, predictions)\n",
    "\n",
    "    eer = fpr[np.nanargmin(np.absolute((1 - tpr) - fpr))]\n",
    "\n",
    "\n",
    "    # print(eer)\n",
    "    # print(thresholds)\n",
    "    #dists = tpr - fpr\n",
    "    # print(dists)\n",
    "    #idx1 = next(i for i, dist in enumerate(dists) if dist == min(dists[dists >= 0]))\n",
    "    #idx2 = next(i for i, dist in enumerate(dists) if dist == max(dists[dists < 0]))\n",
    "    # print(idx1)\n",
    "    #assert len([idx1]) == 1\n",
    "    #assert len([idx2]) == 1\n",
    "    #assert abs(idx1 - idx2) == 1\n",
    "\n",
    "    #x = [tpr[idx1], fpr[idx1]]\n",
    "    #y = [tpr[idx2], fpr[idx2]]\n",
    "    #a = (x[0] - x[1]) / (y[1] - x[1] - y[0] + x[0])\n",
    "    #eer = x[0] + a * (y[0] - x[0])\n",
    "\n",
    "    return eer\n",
    "\n",
    "\n",
    "def evaluateSubject(train, eval, evalSubject, detectorTrain, detectorScore):\n",
    "    # Extract the training, user scoring, and impostor scoring matrices\n",
    "    # for the subject. The training matrix is the first 200 password\n",
    "    # repetitions for the subject, corresponding to the first 4 sessions\n",
    "    # of passwords. The user scoring matrix is the last 200 password\n",
    "    # repetitions, and the impostor scoring matrix is the first 5\n",
    "    # repetitions from all the other subjects.\n",
    "\n",
    "    YTrain = train.loc[(train['subject'] == evalSubject) & (\n",
    "        train['sessionIndex'] <= 4), ~train.columns.isin(['subject', 'sessionIndex', 'rep'])].values\n",
    "\n",
    "    YScore0 = eval.loc[(eval['subject'] == evalSubject) & (\n",
    "        eval['sessionIndex'] > 4), ~eval.columns.isin(['subject', 'sessionIndex', 'rep'])].values\n",
    "\n",
    "    YScore1 = train.loc[(train['subject'] != evalSubject) & (train['sessionIndex'] == 1) & (\n",
    "        train['rep'] <= 5), ~train.columns.isin(['subject', 'sessionIndex', 'rep'])].values\n",
    "\n",
    "    # Run the training and scoring\n",
    "    dmod = detectorTrain(YTrain)\n",
    "    userScores = detectorScore(dmod, YScore0)\n",
    "    impostorScores = detectorScore(dmod, YScore1)\n",
    "\n",
    "    eer = calculateEqualError(userScores, impostorScores)\n",
    "\n",
    "    return eer\n"
   ]
  },
  {
   "cell_type": "code",
   "execution_count": null,
   "metadata": {},
   "outputs": [],
   "source": [
    "###########################################################################\n",
    "# 3. Main procedure\n",
    "###########################################################################\n",
    "def eval(train, eval):\n",
    "    # Retrieve the list of subjects\n",
    "    subjects = sorted(train[\"subject\"].unique())\n",
    "\n",
    "    training_set = train\n",
    "    eval_set = eval\n",
    "\n",
    "\n",
    "    # For each of the detectors, evaluate the detector on each subject,\n",
    "    # and record the equal-error rates in a dictionary.\n",
    "\n",
    "    eers = {}\n",
    "\n",
    "    for detectorName, detector in detectorSet.items():\n",
    "\n",
    "        #print(f\"Evaluating the {detectorName} detector\")\n",
    "        detectorTrain = detector['train']\n",
    "        detectorScore = detector['score']\n",
    "\n",
    "        eers[detectorName] = np.full(len(subjects), np.nan)\n",
    "\n",
    "        for i, subject in enumerate(subjects):\n",
    "            eer = evaluateSubject(training_set, eval_set, subject,\n",
    "                                detectorTrain=detectorTrain,\n",
    "                                detectorScore=detectorScore)\n",
    "\n",
    "            eers[detectorName][i] = eer\n",
    "            #print(f\"  {i+1}/{len(subjects)}: {eer}\", end='\\r')\n",
    "\n",
    "        #print(f\"  average equal-error: {np.mean(eers[detectorName])}\")\n",
    "\n",
    "    #print(\"Tabulating results:\")\n",
    "\n",
    "    eers = pd.DataFrame(eers, index=subjects)\n",
    "\n",
    "    res = pd.DataFrame({'eer.mean': eers.mean(), 'eer.sd': eers.std()})\n",
    "    res = res.round(decimals=3)\n",
    "\n",
    "    print(res, \"\\n\")\n"
   ]
  },
  {
   "cell_type": "code",
   "execution_count": null,
   "metadata": {},
   "outputs": [],
   "source": [
    "# evaluation routine\n",
    "original = pd.read_csv('./DSL-StrongPasswordData.csv')\n",
    "\n",
    "def eval_set(browser_data_set: pd.DataFrame):\n",
    "\n",
    "    print(\"Original - Browser\")\n",
    "    eval(train=original, eval=browser_data_set)\n",
    "\n",
    "    print(\"Browser - Original\")\n",
    "    eval(train=browser_data_set, eval=original)\n",
    "\n",
    "    print(\"Browser - Browser\")\n",
    "    eval(train=browser_data_set, eval=browser_data_set)\n",
    "\n",
    "print(\"Original - Original\")\n",
    "eval(train=original, eval=original)"
   ]
  },
  {
   "cell_type": "code",
   "execution_count": null,
   "metadata": {},
   "outputs": [],
   "source": [
    "# Firefox isolated\n",
    "firefox_isolated = pd.read_csv('./firefox/password_data_firefox_isolated/full_data_set.csv')\n",
    "#eval_set(firefox_isolated)"
   ]
  },
  {
   "cell_type": "code",
   "execution_count": null,
   "metadata": {},
   "outputs": [],
   "source": [
    "# Firefox unisolated\n",
    "firefox_unisolated = pd.read_csv('./firefox/password_data_firefox_unisolated/full_data_set.csv')\n",
    "#eval_set(firefox_unisolated)"
   ]
  },
  {
   "cell_type": "code",
   "execution_count": null,
   "metadata": {},
   "outputs": [],
   "source": [
    "# Firefox isolated warmup\n",
    "firefox_isolated_warmup = pd.read_csv('./firefox/password_data_firefox_isolated_warmup/full_data_set.csv')\n",
    "eval_set(firefox_isolated_warmup)"
   ]
  },
  {
   "cell_type": "code",
   "execution_count": null,
   "metadata": {},
   "outputs": [],
   "source": [
    "# Firefox unisolated warmup\n",
    "firefox_unisolated_warmup = pd.read_csv('./firefox/password_data_firefox_unisolated_warmup/full_data_set.csv')\n",
    "eval_set(firefox_unisolated_warmup)"
   ]
  },
  {
   "cell_type": "code",
   "execution_count": null,
   "metadata": {},
   "outputs": [],
   "source": [
    "# Edge isolated\n",
    "edge_isolated = pd.read_csv('./edge/password_data_edge_isolated/full_data_set.csv')\n",
    "#eval_set(edge_isolated)"
   ]
  },
  {
   "cell_type": "code",
   "execution_count": null,
   "metadata": {},
   "outputs": [],
   "source": [
    "# Edge unisolated\n",
    "edge_unisolated = pd.read_csv('./edge/password_data_edge_unisolated/full_data_set.csv')\n",
    "#eval_set(edge_unisolated)"
   ]
  },
  {
   "cell_type": "code",
   "execution_count": null,
   "metadata": {},
   "outputs": [],
   "source": [
    "# Edge isolated warmup\n",
    "edge_isolated_warmup = pd.read_csv('./edge/password_data_edge_isolated_warmup/full_data_set.csv')\n",
    "eval_set(edge_isolated_warmup)"
   ]
  },
  {
   "cell_type": "code",
   "execution_count": null,
   "metadata": {},
   "outputs": [],
   "source": [
    "# Edge unisolated warmup\n",
    "edge_unisolated_warmup = pd.read_csv('./edge/password_data_edge_unisolated_warmup/full_data_set.csv')\n",
    "eval_set(edge_unisolated_warmup)"
   ]
  },
  {
   "cell_type": "code",
   "execution_count": null,
   "metadata": {},
   "outputs": [],
   "source": [
    "# Chromium isolated\n",
    "chromium_isolated = pd.read_csv('./chromium/password_data_chromium_isolated/full_data_set.csv')\n",
    "#eval_set(chromium_isolated)"
   ]
  },
  {
   "cell_type": "code",
   "execution_count": null,
   "metadata": {},
   "outputs": [],
   "source": [
    "# Chromium unisolated\n",
    "chromium_unisolated = pd.read_csv('./chromium/password_data_chromium_unisolated/full_data_set.csv')\n",
    "#eval_set(chromium_unisolated)"
   ]
  },
  {
   "cell_type": "code",
   "execution_count": null,
   "metadata": {},
   "outputs": [],
   "source": [
    "# Chromium isolated warmup\n",
    "chromium_isolated_warmup = pd.read_csv('./chromium/password_data_chromium_isolated_warmup/full_data_set.csv')\n",
    "eval_set(chromium_isolated_warmup)"
   ]
  },
  {
   "cell_type": "code",
   "execution_count": null,
   "metadata": {},
   "outputs": [],
   "source": [
    "# Chromium unisolated warmup\n",
    "chromium_unisolated_warmup = pd.read_csv('./chromium/password_data_chromium_unisolated_warmup/full_data_set.csv')\n",
    "eval_set(chromium_unisolated_warmup)"
   ]
  },
  {
   "cell_type": "code",
   "execution_count": null,
   "metadata": {},
   "outputs": [],
   "source": [
    "# Chrome isolated\n",
    "chrome_isolated = pd.read_csv('./chrome/password_data_chrome_isolated/full_data_set.csv')\n",
    "#eval_set(chrome_isolated)"
   ]
  },
  {
   "cell_type": "code",
   "execution_count": null,
   "metadata": {},
   "outputs": [],
   "source": [
    "# Chrome unisolated\n",
    "chrome_unisolated = pd.read_csv('./chrome/password_data_chrome_unisolated/full_data_set.csv')\n",
    "#eval_set(chrome_unisolated)"
   ]
  },
  {
   "cell_type": "code",
   "execution_count": null,
   "metadata": {},
   "outputs": [],
   "source": [
    "# Chrome isolated warmup\n",
    "chrome_isolated_warmup = pd.read_csv('./chrome/password_data_chrome_isolated_warmup/full_data_set.csv')\n",
    "eval_set(chrome_isolated_warmup)"
   ]
  },
  {
   "cell_type": "code",
   "execution_count": null,
   "metadata": {},
   "outputs": [],
   "source": [
    "# Chrome unisolated warmup\n",
    "chrome_unisolated_warmup = pd.read_csv('./chrome/password_data_chrome_unisolated_warmup/full_data_set.csv')\n",
    "eval_set(chrome_unisolated_warmup)"
   ]
  },
  {
   "cell_type": "code",
   "execution_count": null,
   "metadata": {},
   "outputs": [],
   "source": [
    "# Tor unisolated\n",
    "tor_unisolated = pd.read_csv('./tor/password_data_tor_unisolated/full_data_set.csv')\n",
    "#eval_set(tor_unisolated)"
   ]
  },
  {
   "cell_type": "code",
   "execution_count": null,
   "metadata": {},
   "outputs": [],
   "source": [
    "# Tor unisolated warmup\n",
    "tor_unisolated_warmup = pd.read_csv('./tor/password_data_tor_unisolated_warmup/full_data_set.csv')\n",
    "eval_set(tor_unisolated_warmup)"
   ]
  },
  {
   "cell_type": "code",
   "execution_count": null,
   "metadata": {},
   "outputs": [],
   "source": [
    "# Safari isolated warm up\n",
    "safari_isolated_warm_up = pd.read_csv(f'./safari/password_data_safari_isolated_warmup/full_data_set.csv')\n",
    "eval_set(safari_isolated_warm_up)"
   ]
  },
  {
   "cell_type": "code",
   "execution_count": null,
   "metadata": {},
   "outputs": [],
   "source": [
    "# Safari unisolated warm up\n",
    "safari_unisolated_warm_up = pd.read_csv(f'./safari/password_data_safari_unisolated_warmup/full_data_set.csv')\n",
    "eval_set(safari_unisolated_warm_up)"
   ]
  },
  {
   "cell_type": "code",
   "execution_count": null,
   "metadata": {},
   "outputs": [],
   "source": [
    "# Safari isolated\n",
    "safari_isolated_warm_up = pd.read_csv('./safari/password_data_safari_isolated/full_data_set.csv')\n",
    "#eval_set(safari_isolated_warm_up)"
   ]
  },
  {
   "cell_type": "code",
   "execution_count": null,
   "metadata": {},
   "outputs": [],
   "source": [
    "# Safari unisolated\n",
    "safari_isolated_warm_up = pd.read_csv('./safari/password_data_safari_unisolated/full_data_set.csv')\n",
    "#eval_set(safari_isolated_warm_up)"
   ]
  },
  {
   "cell_type": "code",
   "execution_count": null,
   "metadata": {},
   "outputs": [],
   "source": [
    "# Firefox isolated warm up | resistFingerprinting\n",
    "firefox_isolated_resist = pd.read_csv('./firefox_resistFP/firefox_isolated_resistFP/full_data_set.csv')\n",
    "eval_set(firefox_isolated_resist)"
   ]
  },
  {
   "cell_type": "code",
   "execution_count": null,
   "metadata": {},
   "outputs": [],
   "source": [
    "# Firefox unisolated warm up | resistFingerprinting\n",
    "firefox_unisolated_resist = pd.read_csv('./firefox_resistFP/firefox_unisolated_resistFP/full_data_set.csv')\n",
    "eval_set(firefox_unisolated_resist)"
   ]
  },
  {
   "cell_type": "code",
   "execution_count": null,
   "metadata": {},
   "outputs": [],
   "source": [
    "# Firefox unisolated warm up | resistFingerprinting 20ms\n",
    "firefox_unisolated_resist_20ms = pd.read_csv('./firefox_resistFP_20/firefox_unisolated_resistFP_20ms/full_data_set.csv')\n",
    "eval_set(firefox_unisolated_resist_20ms)"
   ]
  },
  {
   "cell_type": "code",
   "execution_count": null,
   "metadata": {},
   "outputs": [],
   "source": [
    "# Firefox unisolated warm up | resistFingerprinting 33ms\n",
    "firefox_unisolated_resist_33ms = pd.read_csv('./firefox_resistFP_33/firefox_unisolated_resistFP_33ms/full_data_set.csv')\n",
    "eval_set(firefox_unisolated_resist_33ms)"
   ]
  },
  {
   "cell_type": "code",
   "execution_count": null,
   "metadata": {},
   "outputs": [],
   "source": [
    "# Firefox unisolated warm up | resistFingerprinting 40ms\n",
    "firefox_unisolated_resist_40ms = pd.read_csv('./firefox_resistFP_40/firefox_unisolated_resistFP_40ms/full_data_set.csv')\n",
    "eval_set(firefox_unisolated_resist_40ms)"
   ]
  },
  {
   "cell_type": "code",
   "execution_count": null,
   "metadata": {},
   "outputs": [],
   "source": [
    "# Firefox unisolated warm up | resistFingerprinting 60ms\n",
    "firefox_unisolated_resist_60ms = pd.read_csv('./firefox_resistFP_60/firefox_unisolated_resistFP_60ms/full_data_set.csv')\n",
    "eval_set(firefox_unisolated_resist_60ms)"
   ]
  },
  {
   "cell_type": "code",
   "execution_count": null,
   "metadata": {},
   "outputs": [],
   "source": [
    "# Firefox unisolated warm up | resistFingerprinting 80ms\n",
    "firefox_unisolated_resist_80ms = pd.read_csv('./firefox_resistFP_80/firefox_unisolated_resistFP_80ms/full_data_set.csv')\n",
    "eval_set(firefox_unisolated_resist_80ms)"
   ]
  },
  {
   "cell_type": "code",
   "execution_count": null,
   "metadata": {},
   "outputs": [],
   "source": [
    "# Firefox unisolated warm up | resistFingerprinting 100ms\n",
    "firefox_unisolated_resist_100ms = pd.read_csv('./firefox_resistFP_100/firefox_unisolated_resistFP_100ms/full_data_set.csv')\n",
    "eval_set(firefox_unisolated_resist_100ms)"
   ]
  },
  {
   "cell_type": "code",
   "execution_count": null,
   "metadata": {},
   "outputs": [],
   "source": [
    "# Firefox unisolated warm up | resistFingerprinting 120ms\n",
    "firefox_unisolated_resist_120ms = pd.read_csv('./firefox_resistFP_120/firefox_unisolated_resistFP_120ms/full_data_set.csv')\n",
    "eval_set(firefox_unisolated_resist_120ms)"
   ]
  },
  {
   "cell_type": "code",
   "execution_count": null,
   "metadata": {},
   "outputs": [],
   "source": [
    "# Firefox unisolated warm up | resistFingerprinting 140ms\n",
    "firefox_unisolated_resist_140ms = pd.read_csv('./firefox_resistFP_140/firefox_unisolated_resistFP_140ms/full_data_set.csv')\n",
    "eval_set(firefox_unisolated_resist_140ms)"
   ]
  },
  {
   "cell_type": "code",
   "execution_count": null,
   "metadata": {},
   "outputs": [],
   "source": [
    "# Firefox unisolated warm up | resistFingerprinting 160ms\n",
    "firefox_unisolated_resist_160ms = pd.read_csv('./firefox_resistFP_160/firefox_unisolated_resistFP_160ms/full_data_set.csv')\n",
    "eval_set(firefox_unisolated_resist_160ms)"
   ]
  },
  {
   "cell_type": "code",
   "execution_count": null,
   "metadata": {},
   "outputs": [],
   "source": [
    "# Firefox unisolated warm up | resistFingerprinting 180ms\n",
    "firefox_unisolated_resist_180ms = pd.read_csv('./firefox_resistFP_180/firefox_unisolated_resistFP_180ms/full_data_set.csv')\n",
    "eval_set(firefox_unisolated_resist_180ms)"
   ]
  },
  {
   "cell_type": "code",
   "execution_count": null,
   "metadata": {},
   "outputs": [],
   "source": [
    "# Firefox unisolated warm up | resistFingerprinting 200ms\n",
    "firefox_unisolated_resist_200ms = pd.read_csv('./firefox_resistFP_200/firefox_unisolated_resistFP_200ms/full_data_set.csv')\n",
    "eval_set(firefox_unisolated_resist_200ms)"
   ]
  },
  {
   "cell_type": "code",
   "execution_count": null,
   "metadata": {},
   "outputs": [],
   "source": [
    "# Firefox unisolated resistFingerprinting NJ\n",
    "firefox_unisolated_resist_NJ = pd.read_csv('./firefox_resistFP_NJ/firefox_unisolated_resistFP_NJ/full_data_set.csv')\n",
    "eval_set(firefox_unisolated_resist_NJ)"
   ]
  },
  {
   "cell_type": "code",
   "execution_count": null,
   "metadata": {},
   "outputs": [],
   "source": [
    "# Firefox unisolated resistFingerprinting 20ms NJ\n",
    "firefox_unisolated_resist_20ms_NJ = pd.read_csv('./firefox_resistFP_20_NJ/firefox_unisolated_resistFP_20ms_NJ/full_data_set.csv')\n",
    "eval_set(firefox_unisolated_resist_20ms_NJ)"
   ]
  },
  {
   "cell_type": "code",
   "execution_count": null,
   "metadata": {},
   "outputs": [],
   "source": [
    "# Firefox unisolated resistFingerprinting 33ms NJ\n",
    "firefox_unisolated_resist_33ms_NJ = pd.read_csv('./firefox_resistFP_33_NJ/firefox_unisolated_resistFP_33ms_NJ/full_data_set.csv')\n",
    "eval_set(firefox_unisolated_resist_33ms_NJ)"
   ]
  },
  {
   "cell_type": "code",
   "execution_count": null,
   "metadata": {},
   "outputs": [],
   "source": [
    "# Firefox unisolated resistFingerprinting 40ms NJ\n",
    "firefox_unisolated_resist_40ms_NJ = pd.read_csv('./firefox_resistFP_40_NJ/firefox_unisolated_resistFP_40ms_NJ/full_data_set.csv')\n",
    "eval_set(firefox_unisolated_resist_40ms_NJ)"
   ]
  },
  {
   "cell_type": "code",
   "execution_count": null,
   "metadata": {},
   "outputs": [],
   "source": [
    "# Firefox unisolated resistFingerprinting 60ms NJ\n",
    "firefox_unisolated_resist_60ms_NJ = pd.read_csv('./firefox_resistFP_60_NJ/firefox_unisolated_resistFP_60ms_NJ/full_data_set.csv')\n",
    "eval_set(firefox_unisolated_resist_60ms_NJ)"
   ]
  },
  {
   "cell_type": "code",
   "execution_count": null,
   "metadata": {},
   "outputs": [],
   "source": [
    "# Firefox unisolated resistFingerprinting 80ms NJ\n",
    "firefox_unisolated_resist_80ms_NJ = pd.read_csv('./firefox_resistFP_80_NJ/firefox_unisolated_resistFP_80ms_NJ/full_data_set.csv')\n",
    "eval_set(firefox_unisolated_resist_80ms_NJ)"
   ]
  },
  {
   "cell_type": "code",
   "execution_count": null,
   "metadata": {},
   "outputs": [],
   "source": [
    "# Firefox unisolated resistFingerprinting 100ms NJ\n",
    "firefox_unisolated_resist_100ms_NJ = pd.read_csv('./firefox_resistFP_100_NJ/firefox_unisolated_resistFP_100ms_NJ/full_data_set.csv')\n",
    "eval_set(firefox_unisolated_resist_100ms_NJ)"
   ]
  },
  {
   "cell_type": "code",
   "execution_count": null,
   "metadata": {},
   "outputs": [],
   "source": [
    "# Firefox unisolated resistFingerprinting 120ms NJ\n",
    "firefox_unisolated_resist_120ms_NJ = pd.read_csv('./firefox_resistFP_120_NJ/firefox_unisolated_resistFP_120ms_NJ/full_data_set.csv')\n",
    "eval_set(firefox_unisolated_resist_120ms_NJ)"
   ]
  },
  {
   "cell_type": "code",
   "execution_count": null,
   "metadata": {},
   "outputs": [],
   "source": [
    "# Firefox unisolated resistFingerprinting 140ms NJ\n",
    "firefox_unisolated_resist_140ms_NJ = pd.read_csv('./firefox_resistFP_140_NJ/firefox_unisolated_resistFP_140ms_NJ/full_data_set.csv')\n",
    "eval_set(firefox_unisolated_resist_140ms_NJ)"
   ]
  },
  {
   "cell_type": "code",
   "execution_count": null,
   "metadata": {},
   "outputs": [],
   "source": [
    "# Firefox unisolated resistFingerprinting 160ms NJ\n",
    "firefox_unisolated_resist_160ms_NJ = pd.read_csv('./firefox_resistFP_160_NJ/firefox_unisolated_resistFP_160ms_NJ/full_data_set.csv')\n",
    "eval_set(firefox_unisolated_resist_160ms_NJ)"
   ]
  },
  {
   "cell_type": "code",
   "execution_count": null,
   "metadata": {},
   "outputs": [],
   "source": [
    "# Firefox unisolated resistFingerprinting 180ms NJ\n",
    "firefox_unisolated_resist_180ms_NJ = pd.read_csv('./firefox_resistFP_180_NJ/firefox_unisolated_resistFP_180ms_NJ/full_data_set.csv')\n",
    "eval_set(firefox_unisolated_resist_180ms_NJ)"
   ]
  },
  {
   "cell_type": "code",
   "execution_count": null,
   "metadata": {},
   "outputs": [],
   "source": [
    "# Firefox unisolated resistFingerprinting 200ms NJ\n",
    "firefox_unisolated_resist_200ms_NJ = pd.read_csv('./firefox_resistFP_200_NJ/firefox_unisolated_resistFP_200ms_NJ/full_data_set.csv')\n",
    "eval_set(firefox_unisolated_resist_200ms_NJ)"
   ]
  }
 ],
 "metadata": {
  "kernelspec": {
   "display_name": "Python 3",
   "language": "python",
   "name": "python3"
  },
  "language_info": {
   "codemirror_mode": {
    "name": "ipython",
    "version": 3
   },
   "file_extension": ".py",
   "mimetype": "text/x-python",
   "name": "python",
   "nbconvert_exporter": "python",
   "pygments_lexer": "ipython3",
   "version": "3.11.4"
  },
  "orig_nbformat": 4
 },
 "nbformat": 4,
 "nbformat_minor": 2
}
