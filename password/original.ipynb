{
 "cells": [
  {
   "cell_type": "code",
   "execution_count": null,
   "metadata": {},
   "outputs": [],
   "source": [
    "import pandas as pd\n",
    "import numpy as np"
   ]
  },
  {
   "cell_type": "code",
   "execution_count": null,
   "metadata": {},
   "outputs": [],
   "source": [
    "original = pd.read_csv('./DSL-StrongPasswordData.csv')\n",
    "\n",
    "\n",
    "total = []\n",
    "for index, row in original.iterrows():\n",
    "    t = 0\n",
    "    t += row['DD.period.t']\n",
    "    t += row['DD.t.i']\n",
    "    t += row['DD.i.e']\n",
    "    t += row['DD.e.five']\n",
    "    t += row['DD.five.Shift.r']\n",
    "    t += row['DD.Shift.r.o']\n",
    "    t += row['DD.o.a']\n",
    "    t += row['DD.a.n']\n",
    "    t += row['DD.n.l']\n",
    "    t += row['DD.l.Return']\n",
    "    t += row['H.Return']\n",
    "    total.append(t)\n",
    "\n",
    "assert len(total) == 20400\n",
    "a = np.array(total)\n",
    "m = a.mean()\n",
    "s = a.std()\n",
    "print(m)"
   ]
  }
 ],
 "metadata": {
  "kernelspec": {
   "display_name": "Python 3",
   "language": "python",
   "name": "python3"
  },
  "language_info": {
   "codemirror_mode": {
    "name": "ipython",
    "version": 3
   },
   "file_extension": ".py",
   "mimetype": "text/x-python",
   "name": "python",
   "nbconvert_exporter": "python",
   "pygments_lexer": "ipython3",
   "version": "3.11.4"
  },
  "orig_nbformat": 4
 },
 "nbformat": 4,
 "nbformat_minor": 2
}
