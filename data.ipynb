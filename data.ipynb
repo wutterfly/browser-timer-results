{
 "cells": [
  {
   "cell_type": "code",
   "execution_count": null,
   "metadata": {},
   "outputs": [],
   "source": [
    "import pandas as pd\n",
    "import numpy as np"
   ]
  },
  {
   "cell_type": "code",
   "execution_count": null,
   "metadata": {},
   "outputs": [],
   "source": [
    "# freetext\n",
    "df = pd.read_csv('./freetext/FreeText-Dataset-31-USERS.csv')\n",
    "\n",
    "timestamps = df['distance'].to_list()\n",
    "array = np.array(timestamps)\n",
    "\n",
    "mean = array.mean() / 1000\n",
    "\n",
    "print('mean:', round(mean, 3))"
   ]
  },
  {
   "cell_type": "code",
   "execution_count": null,
   "metadata": {},
   "outputs": [],
   "source": [
    "# password\n",
    "df = pd.read_csv('./password/DSL-StrongPasswordData.csv')\n",
    "\n",
    "# .tie5Roanli\n",
    "dd_period_t = df['DD.period.t'].to_list()\n",
    "dd_t_i = df['DD.t.i'].to_list()\n",
    "dd_i_e = df['DD.i.e'].to_list()\n",
    "dd_e_five = df['DD.e.five'].to_list()\n",
    "dd_five_Shift_r = df['DD.five.Shift.r'].to_list()\n",
    "dd_Shift_r_o = df['DD.Shift.r.o'].to_list()\n",
    "dd_o_a = df['DD.o.a'].to_list()\n",
    "dd_a_n = df['DD.a.n'].to_list()\n",
    "dd_n_l = df['DD.n.l'].to_list()\n",
    "dd_l_Return = df['DD.l.Return'].to_list()\n",
    "\n",
    "combined = dd_period_t \\\n",
    "    + dd_t_i \\\n",
    "    + dd_i_e \\\n",
    "    + dd_e_five \\\n",
    "    + dd_Shift_r_o \\\n",
    "    + dd_o_a  \\\n",
    "    + dd_a_n  \\\n",
    "    + dd_n_l \\\n",
    "    + dd_five_Shift_r \\\n",
    "    + dd_l_Return\n",
    "\n",
    "array = np.array(combined)\n",
    "mean = array.mean()\n",
    "std = array.std()\n",
    "print('mean:',round(mean, 4))"
   ]
  },
  {
   "cell_type": "code",
   "execution_count": null,
   "metadata": {},
   "outputs": [],
   "source": [
    "# own sample\n",
    "sample = pd.read_csv('./text_sample.csv')\n",
    "distances  =  sample['distancs'].to_list()\n",
    "\n",
    "array = np.array(distances)\n",
    "mean = array.mean() / 1000\n",
    "std = array.std() / 1000\n",
    "\n",
    "print('mean:', round(mean, 3))"
   ]
  }
 ],
 "metadata": {
  "kernelspec": {
   "display_name": "Python 3",
   "language": "python",
   "name": "python3"
  },
  "language_info": {
   "codemirror_mode": {
    "name": "ipython",
    "version": 3
   },
   "file_extension": ".py",
   "mimetype": "text/x-python",
   "name": "python",
   "nbconvert_exporter": "python",
   "pygments_lexer": "ipython3",
   "version": "3.11.4"
  },
  "orig_nbformat": 4
 },
 "nbformat": 4,
 "nbformat_minor": 2
}
